{
  "cells": [
    {
      "cell_type": "markdown",
      "metadata": {
        "id": "T7AQu5WtCTyd"
      },
      "source": [
        "# **A. Business Understanding: Permasalahan dan tujuan proyek**\n",
        "\n",
        "Dataset berisi informasi mengenai identitas dan perilaku pelanggan. Tujuan dari project ini adalah untuk melakuan clustering berdasarkan perilaku pelanggan, kemudian menentukan identitas pelanggan dari cluster-cluster yang terbentuk, serta mencari produk mana saja yang paling banyak dan paling sedikit terjual untuk masing-masing cluster"
      ]
    },
    {
      "cell_type": "markdown",
      "source": [
        "# **B. ANALYTIC APPROACH**"
      ],
      "metadata": {
        "id": "3GpNRrVyfAWV"
      }
    },
    {
      "cell_type": "markdown",
      "source": [
        "Pendekatan analitik yang dikakuan pada penelitian ini adalah pendekatan clustering yang digabungkan dengan pendekatan asosiasi menggunakan metode apriori"
      ],
      "metadata": {
        "id": "wMm9ZHVifGkY"
      }
    },
    {
      "cell_type": "markdown",
      "source": [
        "# **C. DATA REQUIREMENTS**"
      ],
      "metadata": {
        "id": "XCapvngpfbqY"
      }
    },
    {
      "cell_type": "markdown",
      "source": [
        "Kebutuhan data yang kami identifiksi adalah sebuah dataset yang berisi tentang perilaku dan identitas dari pelanggan-pelanggan, dimana data perilaku akan dibutuhkan untuk melakukan clustering, data identitas digunakan untuk menganalisa komposisi pelanggan dari cluster yang terbentuk."
      ],
      "metadata": {
        "id": "cZ3-1joEcqom"
      }
    },
    {
      "cell_type": "markdown",
      "source": [
        "# **D. DATA COLLECTION**"
      ],
      "metadata": {
        "id": "ZbzUJhtadP13"
      }
    },
    {
      "cell_type": "markdown",
      "metadata": {
        "id": "pSUjMcMMCTyd"
      },
      "source": [
        "## **1. DOWNLOAD DATASET**"
      ]
    },
    {
      "cell_type": "code",
      "execution_count": 36,
      "metadata": {
        "colab": {
          "base_uri": "https://localhost:8080/"
        },
        "id": "ixnUzB5RCTyd",
        "outputId": "0de324ef-0a83-4098-ecee-9317c0973103"
      },
      "outputs": [
        {
          "output_type": "stream",
          "name": "stdout",
          "text": [
            "--2023-04-04 10:39:35--  https://raw.githubusercontent.com/RafiIndra/Dataset/main/marketing_campaign.csv\n",
            "Resolving raw.githubusercontent.com (raw.githubusercontent.com)... 185.199.109.133, 185.199.111.133, 185.199.110.133, ...\n",
            "Connecting to raw.githubusercontent.com (raw.githubusercontent.com)|185.199.109.133|:443... connected.\n",
            "HTTP request sent, awaiting response... 200 OK\n",
            "Length: 220188 (215K) [text/plain]\n",
            "Saving to: ‘marketing_campaign.csv.3’\n",
            "\n",
            "\rmarketing_campaign.   0%[                    ]       0  --.-KB/s               \rmarketing_campaign. 100%[===================>] 215.03K  --.-KB/s    in 0.03s   \n",
            "\n",
            "2023-04-04 10:39:35 (7.50 MB/s) - ‘marketing_campaign.csv.3’ saved [220188/220188]\n",
            "\n"
          ]
        }
      ],
      "source": [
        "import pandas as pd\n",
        "import numpy as np\n",
        "#mendownload dataset\n",
        "!wget https://raw.githubusercontent.com/RafiIndra/Dataset/main/marketing_campaign.csv"
      ]
    },
    {
      "cell_type": "markdown",
      "metadata": {
        "id": "PkmMkd0fCTyd"
      },
      "source": [
        "## **2. READ AND STORE DATASET**"
      ]
    },
    {
      "cell_type": "code",
      "execution_count": 37,
      "metadata": {
        "colab": {
          "base_uri": "https://localhost:8080/",
          "height": 299
        },
        "id": "5Ohg2zB-CTyd",
        "outputId": "eb2a75b5-a12b-4b73-832e-e8e3af92075b"
      },
      "outputs": [
        {
          "output_type": "execute_result",
          "data": {
            "text/plain": [
              "     ID  Year_Birth   Education Marital_Status   Income  Kidhome  Teenhome  \\\n",
              "0  5524        1957  Graduation         Single  58138.0        0         0   \n",
              "1  2174        1954  Graduation         Single  46344.0        1         1   \n",
              "2  4141        1965  Graduation       Together  71613.0        0         0   \n",
              "3  6182        1984  Graduation       Together  26646.0        1         0   \n",
              "4  5324        1981         PhD        Married  58293.0        1         0   \n",
              "\n",
              "  Dt_Customer  Recency  MntWines  ...  NumWebVisitsMonth  AcceptedCmp3  \\\n",
              "0  04-09-2012       58       635  ...                  7             0   \n",
              "1  08-03-2014       38        11  ...                  5             0   \n",
              "2  21-08-2013       26       426  ...                  4             0   \n",
              "3  10-02-2014       26        11  ...                  6             0   \n",
              "4  19-01-2014       94       173  ...                  5             0   \n",
              "\n",
              "   AcceptedCmp4  AcceptedCmp5  AcceptedCmp1  AcceptedCmp2  Complain  \\\n",
              "0             0             0             0             0         0   \n",
              "1             0             0             0             0         0   \n",
              "2             0             0             0             0         0   \n",
              "3             0             0             0             0         0   \n",
              "4             0             0             0             0         0   \n",
              "\n",
              "   Z_CostContact  Z_Revenue  Response  \n",
              "0              3         11         1  \n",
              "1              3         11         0  \n",
              "2              3         11         0  \n",
              "3              3         11         0  \n",
              "4              3         11         0  \n",
              "\n",
              "[5 rows x 29 columns]"
            ],
            "text/html": [
              "\n",
              "  <div id=\"df-955df813-0bb4-42dc-bcd0-f8928fa5e734\">\n",
              "    <div class=\"colab-df-container\">\n",
              "      <div>\n",
              "<style scoped>\n",
              "    .dataframe tbody tr th:only-of-type {\n",
              "        vertical-align: middle;\n",
              "    }\n",
              "\n",
              "    .dataframe tbody tr th {\n",
              "        vertical-align: top;\n",
              "    }\n",
              "\n",
              "    .dataframe thead th {\n",
              "        text-align: right;\n",
              "    }\n",
              "</style>\n",
              "<table border=\"1\" class=\"dataframe\">\n",
              "  <thead>\n",
              "    <tr style=\"text-align: right;\">\n",
              "      <th></th>\n",
              "      <th>ID</th>\n",
              "      <th>Year_Birth</th>\n",
              "      <th>Education</th>\n",
              "      <th>Marital_Status</th>\n",
              "      <th>Income</th>\n",
              "      <th>Kidhome</th>\n",
              "      <th>Teenhome</th>\n",
              "      <th>Dt_Customer</th>\n",
              "      <th>Recency</th>\n",
              "      <th>MntWines</th>\n",
              "      <th>...</th>\n",
              "      <th>NumWebVisitsMonth</th>\n",
              "      <th>AcceptedCmp3</th>\n",
              "      <th>AcceptedCmp4</th>\n",
              "      <th>AcceptedCmp5</th>\n",
              "      <th>AcceptedCmp1</th>\n",
              "      <th>AcceptedCmp2</th>\n",
              "      <th>Complain</th>\n",
              "      <th>Z_CostContact</th>\n",
              "      <th>Z_Revenue</th>\n",
              "      <th>Response</th>\n",
              "    </tr>\n",
              "  </thead>\n",
              "  <tbody>\n",
              "    <tr>\n",
              "      <th>0</th>\n",
              "      <td>5524</td>\n",
              "      <td>1957</td>\n",
              "      <td>Graduation</td>\n",
              "      <td>Single</td>\n",
              "      <td>58138.0</td>\n",
              "      <td>0</td>\n",
              "      <td>0</td>\n",
              "      <td>04-09-2012</td>\n",
              "      <td>58</td>\n",
              "      <td>635</td>\n",
              "      <td>...</td>\n",
              "      <td>7</td>\n",
              "      <td>0</td>\n",
              "      <td>0</td>\n",
              "      <td>0</td>\n",
              "      <td>0</td>\n",
              "      <td>0</td>\n",
              "      <td>0</td>\n",
              "      <td>3</td>\n",
              "      <td>11</td>\n",
              "      <td>1</td>\n",
              "    </tr>\n",
              "    <tr>\n",
              "      <th>1</th>\n",
              "      <td>2174</td>\n",
              "      <td>1954</td>\n",
              "      <td>Graduation</td>\n",
              "      <td>Single</td>\n",
              "      <td>46344.0</td>\n",
              "      <td>1</td>\n",
              "      <td>1</td>\n",
              "      <td>08-03-2014</td>\n",
              "      <td>38</td>\n",
              "      <td>11</td>\n",
              "      <td>...</td>\n",
              "      <td>5</td>\n",
              "      <td>0</td>\n",
              "      <td>0</td>\n",
              "      <td>0</td>\n",
              "      <td>0</td>\n",
              "      <td>0</td>\n",
              "      <td>0</td>\n",
              "      <td>3</td>\n",
              "      <td>11</td>\n",
              "      <td>0</td>\n",
              "    </tr>\n",
              "    <tr>\n",
              "      <th>2</th>\n",
              "      <td>4141</td>\n",
              "      <td>1965</td>\n",
              "      <td>Graduation</td>\n",
              "      <td>Together</td>\n",
              "      <td>71613.0</td>\n",
              "      <td>0</td>\n",
              "      <td>0</td>\n",
              "      <td>21-08-2013</td>\n",
              "      <td>26</td>\n",
              "      <td>426</td>\n",
              "      <td>...</td>\n",
              "      <td>4</td>\n",
              "      <td>0</td>\n",
              "      <td>0</td>\n",
              "      <td>0</td>\n",
              "      <td>0</td>\n",
              "      <td>0</td>\n",
              "      <td>0</td>\n",
              "      <td>3</td>\n",
              "      <td>11</td>\n",
              "      <td>0</td>\n",
              "    </tr>\n",
              "    <tr>\n",
              "      <th>3</th>\n",
              "      <td>6182</td>\n",
              "      <td>1984</td>\n",
              "      <td>Graduation</td>\n",
              "      <td>Together</td>\n",
              "      <td>26646.0</td>\n",
              "      <td>1</td>\n",
              "      <td>0</td>\n",
              "      <td>10-02-2014</td>\n",
              "      <td>26</td>\n",
              "      <td>11</td>\n",
              "      <td>...</td>\n",
              "      <td>6</td>\n",
              "      <td>0</td>\n",
              "      <td>0</td>\n",
              "      <td>0</td>\n",
              "      <td>0</td>\n",
              "      <td>0</td>\n",
              "      <td>0</td>\n",
              "      <td>3</td>\n",
              "      <td>11</td>\n",
              "      <td>0</td>\n",
              "    </tr>\n",
              "    <tr>\n",
              "      <th>4</th>\n",
              "      <td>5324</td>\n",
              "      <td>1981</td>\n",
              "      <td>PhD</td>\n",
              "      <td>Married</td>\n",
              "      <td>58293.0</td>\n",
              "      <td>1</td>\n",
              "      <td>0</td>\n",
              "      <td>19-01-2014</td>\n",
              "      <td>94</td>\n",
              "      <td>173</td>\n",
              "      <td>...</td>\n",
              "      <td>5</td>\n",
              "      <td>0</td>\n",
              "      <td>0</td>\n",
              "      <td>0</td>\n",
              "      <td>0</td>\n",
              "      <td>0</td>\n",
              "      <td>0</td>\n",
              "      <td>3</td>\n",
              "      <td>11</td>\n",
              "      <td>0</td>\n",
              "    </tr>\n",
              "  </tbody>\n",
              "</table>\n",
              "<p>5 rows × 29 columns</p>\n",
              "</div>\n",
              "      <button class=\"colab-df-convert\" onclick=\"convertToInteractive('df-955df813-0bb4-42dc-bcd0-f8928fa5e734')\"\n",
              "              title=\"Convert this dataframe to an interactive table.\"\n",
              "              style=\"display:none;\">\n",
              "        \n",
              "  <svg xmlns=\"http://www.w3.org/2000/svg\" height=\"24px\"viewBox=\"0 0 24 24\"\n",
              "       width=\"24px\">\n",
              "    <path d=\"M0 0h24v24H0V0z\" fill=\"none\"/>\n",
              "    <path d=\"M18.56 5.44l.94 2.06.94-2.06 2.06-.94-2.06-.94-.94-2.06-.94 2.06-2.06.94zm-11 1L8.5 8.5l.94-2.06 2.06-.94-2.06-.94L8.5 2.5l-.94 2.06-2.06.94zm10 10l.94 2.06.94-2.06 2.06-.94-2.06-.94-.94-2.06-.94 2.06-2.06.94z\"/><path d=\"M17.41 7.96l-1.37-1.37c-.4-.4-.92-.59-1.43-.59-.52 0-1.04.2-1.43.59L10.3 9.45l-7.72 7.72c-.78.78-.78 2.05 0 2.83L4 21.41c.39.39.9.59 1.41.59.51 0 1.02-.2 1.41-.59l7.78-7.78 2.81-2.81c.8-.78.8-2.07 0-2.86zM5.41 20L4 18.59l7.72-7.72 1.47 1.35L5.41 20z\"/>\n",
              "  </svg>\n",
              "      </button>\n",
              "      \n",
              "  <style>\n",
              "    .colab-df-container {\n",
              "      display:flex;\n",
              "      flex-wrap:wrap;\n",
              "      gap: 12px;\n",
              "    }\n",
              "\n",
              "    .colab-df-convert {\n",
              "      background-color: #E8F0FE;\n",
              "      border: none;\n",
              "      border-radius: 50%;\n",
              "      cursor: pointer;\n",
              "      display: none;\n",
              "      fill: #1967D2;\n",
              "      height: 32px;\n",
              "      padding: 0 0 0 0;\n",
              "      width: 32px;\n",
              "    }\n",
              "\n",
              "    .colab-df-convert:hover {\n",
              "      background-color: #E2EBFA;\n",
              "      box-shadow: 0px 1px 2px rgba(60, 64, 67, 0.3), 0px 1px 3px 1px rgba(60, 64, 67, 0.15);\n",
              "      fill: #174EA6;\n",
              "    }\n",
              "\n",
              "    [theme=dark] .colab-df-convert {\n",
              "      background-color: #3B4455;\n",
              "      fill: #D2E3FC;\n",
              "    }\n",
              "\n",
              "    [theme=dark] .colab-df-convert:hover {\n",
              "      background-color: #434B5C;\n",
              "      box-shadow: 0px 1px 3px 1px rgba(0, 0, 0, 0.15);\n",
              "      filter: drop-shadow(0px 1px 2px rgba(0, 0, 0, 0.3));\n",
              "      fill: #FFFFFF;\n",
              "    }\n",
              "  </style>\n",
              "\n",
              "      <script>\n",
              "        const buttonEl =\n",
              "          document.querySelector('#df-955df813-0bb4-42dc-bcd0-f8928fa5e734 button.colab-df-convert');\n",
              "        buttonEl.style.display =\n",
              "          google.colab.kernel.accessAllowed ? 'block' : 'none';\n",
              "\n",
              "        async function convertToInteractive(key) {\n",
              "          const element = document.querySelector('#df-955df813-0bb4-42dc-bcd0-f8928fa5e734');\n",
              "          const dataTable =\n",
              "            await google.colab.kernel.invokeFunction('convertToInteractive',\n",
              "                                                     [key], {});\n",
              "          if (!dataTable) return;\n",
              "\n",
              "          const docLinkHtml = 'Like what you see? Visit the ' +\n",
              "            '<a target=\"_blank\" href=https://colab.research.google.com/notebooks/data_table.ipynb>data table notebook</a>'\n",
              "            + ' to learn more about interactive tables.';\n",
              "          element.innerHTML = '';\n",
              "          dataTable['output_type'] = 'display_data';\n",
              "          await google.colab.output.renderOutput(dataTable, element);\n",
              "          const docLink = document.createElement('div');\n",
              "          docLink.innerHTML = docLinkHtml;\n",
              "          element.appendChild(docLink);\n",
              "        }\n",
              "      </script>\n",
              "    </div>\n",
              "  </div>\n",
              "  "
            ]
          },
          "metadata": {},
          "execution_count": 37
        }
      ],
      "source": [
        "#membaca dataset dan menyimpannya pada variabel df\n",
        "df = pd.read_csv(\"marketing_campaign.csv\", sep=\"\t\")\n",
        "#membaca 5 baris pertama dari df\n",
        "df.head()"
      ]
    },
    {
      "cell_type": "markdown",
      "metadata": {
        "id": "eMH8mJIvCTye"
      },
      "source": [
        "### **DATA DICTIONARY**\n",
        "<table>\n",
        "  <tr>\n",
        "    <th>no</th>\n",
        "    <th>Column</th>\n",
        "    <th>Types</th>\n",
        "    <th>Desc</th>\n",
        "  </tr>\n",
        "  <tr>\n",
        "    <td>1</td>\n",
        "    <td>ID</td>\n",
        "    <td>int64</td>\n",
        "    <td>Customer's unique identifier</td>\n",
        "  </tr>\n",
        "  <tr>\n",
        "    <td>2</td>\n",
        "    <td>Year_Birth</td>\n",
        "    <td>int64</td>\n",
        "    <td>Customer's birth year</td>\n",
        "  </tr>\n",
        "  <tr>\n",
        "    <td>3</td>\n",
        "    <td>Education</td>\n",
        "    <td>object</td>\n",
        "    <td>Customer's education level</td>\n",
        "  </tr>\n",
        "  <tr>\n",
        "    <td>4</td>\n",
        "    <td>Marital_Status</td>\n",
        "    <td>object</td>\n",
        "    <td>Customer's marital status</td>\n",
        "  </tr>\n",
        "  <tr>\n",
        "    <td>5</td>\n",
        "    <td>Income</td>\n",
        "    <td>float64</td>\n",
        "    <td>Customer's yearly household income</td>\n",
        "  </tr>\n",
        "  <tr>\n",
        "    <td>6</td>\n",
        "    <td>Kidhome</td>\n",
        "    <td>int64</td>\n",
        "    <td>Number of children in customer's household</td>\n",
        "  </tr>\n",
        "  <tr>\n",
        "    <td>7</td>\n",
        "    <td>Teenhome</td>\n",
        "    <td>int64</td>\n",
        "    <td>Number of teenagers in customer's household</td>\n",
        "  </tr>\n",
        "  <tr>\n",
        "    <td>8</td>\n",
        "    <td>Dt_Customer</td>\n",
        "    <td>int64</td>\n",
        "    <td>Date of customer's enrollment with the company</td>\n",
        "  </tr>\n",
        "  <tr>\n",
        "    <td>9</td>\n",
        "    <td>Recency</td>\n",
        "    <td>int64</td>\n",
        "    <td>Number of days since customer's last purchase</td>\n",
        "  </tr>\n",
        "  <tr>\n",
        "    <td>10</td>\n",
        "    <td>Complain</td>\n",
        "    <td>int64</td>\n",
        "    <td>1 if the customer complained in the last 2 years, 0 otherwise</td>\n",
        "  </tr>\n",
        "  <tr>\n",
        "    <td>11</td>\n",
        "    <td>MntWines</td>\n",
        "    <td>int64</td>\n",
        "    <td>Amount spent on wine in last 2 years</td>\n",
        "  </tr>\n",
        "  <tr>\n",
        "    <td>12</td>\n",
        "    <td>MntFruits</td>\n",
        "    <td>int64</td>\n",
        "    <td>Amount spent on fruit in last 2 years</td>\n",
        "  </tr>\n",
        "  <tr>\n",
        "    <td>13</td>\n",
        "    <td>MntMeatProducts</td>\n",
        "    <td>int64</td>\n",
        "    <td>Amount spent on meat in last 2 years</td>\n",
        "  </tr>\n",
        "  <tr>\n",
        "    <td>14</td>\n",
        "    <td>MntFishProducts</td>\n",
        "    <td>int64</td>\n",
        "    <td>Amount spent on fish in last 2 years</td>\n",
        "  </tr>\n",
        "  <tr>\n",
        "    <td>15</td>\n",
        "    <td>MntSweetsProducts</td>\n",
        "    <td>int64</td>\n",
        "    <td>Amount spent on sweets in last 2 years</td>\n",
        "  </tr>\n",
        "  <tr>\n",
        "    <td>16</td>\n",
        "    <td>MntGoldProds</td>\n",
        "    <td>int64</td>\n",
        "    <td>Amount spent on gold in last 2 years</td>\n",
        "  </tr>\n",
        "  <tr>\n",
        "    <td>17</td>\n",
        "    <td>AcceptedCmp1</td>\n",
        "    <td>int64</td>\n",
        "    <td>1 if customer accepted the offer in the 1st campaign, 0 otherwise</td>\n",
        "  </tr>\n",
        "  <tr>\n",
        "    <td>18</td>\n",
        "    <td>AcceptedCmp2</td>\n",
        "    <td>int64</td>\n",
        "    <td>1 if customer accepted the offer in the 2nd campaign, 0 otherwise</td>\n",
        "  </tr>\n",
        "  <tr>\n",
        "    <td>19</td>\n",
        "    <td>AcceptedCmp3</td>\n",
        "    <td>int64</td>\n",
        "    <td>1 if customer accepted the offer in the 3rd campaign, 0 otherwise</td>\n",
        "  </tr>\n",
        "  <tr>\n",
        "    <td>20</td>\n",
        "    <td>AcceptedCmp4</td>\n",
        "    <td>int64</td>\n",
        "    <td>1 if customer accepted the offer in the 4th campaign, 0 otherwise</td>\n",
        "  </tr>\n",
        "  <tr>\n",
        "    <td>21</td>\n",
        "    <td>AcceptedCmp5</td>\n",
        "    <td>int64</td>\n",
        "    <td>1 if customer accepted the offer in the 5th campaign, 0 otherwise</td>\n",
        "  </tr>\n",
        "  <tr>\n",
        "    <td>22</td>\n",
        "    <td>Response</td>\n",
        "    <td>int64</td>\n",
        "    <td>1 if customer accepted the offer in the last campaign, 0 otherwise</td>\n",
        "  </tr>\n",
        "  <tr>\n",
        "    <td>23</td>\n",
        "    <td>NumWebPurchases</td>\n",
        "    <td>int64</td>\n",
        "    <td>Number of purchases made through the company’s website</td>\n",
        "  </tr>\n",
        "  <tr>\n",
        "    <td>24</td>\n",
        "    <td>NumCatalogPurchases</td>\n",
        "    <td>int64</td>\n",
        "    <td>Number of purchases made using a catalogue</td>\n",
        "  </tr>\n",
        "  <tr>\n",
        "    <td>25</td>\n",
        "    <td>NumStorePurchases</td>\n",
        "    <td>int64</td>\n",
        "    <td>Number of purchases made directly in stores</td>\n",
        "  </tr>\n",
        "  <tr>\n",
        "    <td>26</td>\n",
        "    <td>NumWebVisitsMonth</td>\n",
        "    <td>int64</td>\n",
        "    <td>Number of visits to company’s website in the last month</td>\n",
        "  </tr>\n",
        "</table>"
      ]
    },
    {
      "cell_type": "markdown",
      "source": [
        "# **E. DATA UNDERSTANDING**"
      ],
      "metadata": {
        "id": "SN9PTjHSfhCQ"
      }
    },
    {
      "cell_type": "markdown",
      "metadata": {
        "id": "PxROOIdBCTyf"
      },
      "source": [
        "## **3. EXPLORATORY DATA ANALYSIS**"
      ]
    },
    {
      "cell_type": "code",
      "execution_count": 38,
      "metadata": {
        "colab": {
          "base_uri": "https://localhost:8080/",
          "height": 469
        },
        "id": "iJl-DR6jCTyf",
        "outputId": "9671f168-c3b4-4eaa-ae8d-9a8091bf6454"
      },
      "outputs": [
        {
          "output_type": "execute_result",
          "data": {
            "text/plain": [
              "<BarContainer object of 5 artists>"
            ]
          },
          "metadata": {},
          "execution_count": 38
        },
        {
          "output_type": "display_data",
          "data": {
            "text/plain": [
              "<Figure size 640x480 with 1 Axes>"
            ],
            "image/png": "[encoded data removed]"
          },
          "metadata": {}
        }
      ],
      "source": [
        "import matplotlib.pyplot as plt\n",
        "plt.title(\"Missing values\")\n",
        "#mencari missing values menggunakan bar plot\n",
        "plt.bar(df.columns[0:5], df.iloc[:, 0:5].isna().sum())"
      ]
    },
    {
      "cell_type": "markdown",
      "metadata": {
        "id": "zaBDfxQoCTyf"
      },
      "source": [
        "Ditemukan bahwa terdapat 24 missing values pada kolom \"Income\""
      ]
    },
    {
      "cell_type": "code",
      "execution_count": 39,
      "metadata": {
        "colab": {
          "base_uri": "https://localhost:8080/",
          "height": 469
        },
        "id": "AGfUXgedCTyf",
        "outputId": "bb13bcfe-782a-4d56-96e2-ab2b0e47affc"
      },
      "outputs": [
        {
          "output_type": "execute_result",
          "data": {
            "text/plain": [
              "[<matplotlib.lines.Line2D at 0x7f187543a040>]"
            ]
          },
          "metadata": {},
          "execution_count": 39
        },
        {
          "output_type": "display_data",
          "data": {
            "text/plain": [
              "<Figure size 640x480 with 1 Axes>"
            ],
            "image/png": "[encoded data removed]"
          },
          "metadata": {}
        }
      ],
      "source": [
        "plt.title(\"Income vs Year_Birth\")\n",
        "#mencari outlier menggunakan scatter plot pada variabel Income dan year_birth\n",
        "plt.plot(df[\"Income\"], df[\"Year_Birth\"], \".\")"
      ]
    },
    {
      "cell_type": "markdown",
      "metadata": {
        "id": "f9eYmLvsCTyf"
      },
      "source": [
        "dietmukan outlier untuk \"Income\" > 600000 dan \"Year_Birth\" < 1920"
      ]
    },
    {
      "cell_type": "code",
      "execution_count": 40,
      "metadata": {
        "colab": {
          "base_uri": "https://localhost:8080/",
          "height": 467
        },
        "id": "sW2hI_0VCTyf",
        "outputId": "a783845a-14de-4d8b-fc67-a877222c3751"
      },
      "outputs": [
        {
          "output_type": "execute_result",
          "data": {
            "text/plain": [
              "<Axes: xlabel='Marital_Status', ylabel='count'>"
            ]
          },
          "metadata": {},
          "execution_count": 40
        },
        {
          "output_type": "display_data",
          "data": {
            "text/plain": [
              "<Figure size 640x480 with 1 Axes>"
            ],
            "image/png": "[encoded data removed]"
          },
          "metadata": {}
        }
      ],
      "source": [
        "import seaborn as sns\n",
        "#memvisualisasikan kolom \"Marital_Status\" menggunakan countplot untuk melihat nilai kolom\n",
        "sns.countplot(x = df[\"Marital_Status\"])"
      ]
    },
    {
      "cell_type": "markdown",
      "metadata": {
        "id": "T9U8UeDJCTyg"
      },
      "source": [
        "Ditemukan value yang tidak relevan:<br>\n",
        "1. \"Alone\"\n",
        "2. \"Absurd\"\n",
        "3. \"Yolo\"\n",
        "\n"
      ]
    },
    {
      "cell_type": "code",
      "execution_count": 41,
      "metadata": {
        "colab": {
          "base_uri": "https://localhost:8080/",
          "height": 466
        },
        "id": "DzFa5wkLCTyg",
        "outputId": "2aff8c80-af39-4f6c-d28d-dcb0f3b0ef3f"
      },
      "outputs": [
        {
          "output_type": "execute_result",
          "data": {
            "text/plain": [
              "<Axes: xlabel='Education', ylabel='count'>"
            ]
          },
          "metadata": {},
          "execution_count": 41
        },
        {
          "output_type": "display_data",
          "data": {
            "text/plain": [
              "<Figure size 640x480 with 1 Axes>"
            ],
            "image/png": "[encoded data removed]"
          },
          "metadata": {}
        }
      ],
      "source": [
        "#memvisualisasikan kolom \"Education\" menggunakan countplot untuk melihat nilai kolom\n",
        "sns.countplot(x = df[\"Education\"])"
      ]
    },
    {
      "cell_type": "markdown",
      "metadata": {
        "id": "J69IiToSCTyg"
      },
      "source": [
        "ditemukan values yang tidak relevan:\n",
        "1. \"Basic\"\n",
        "2. \"2n Cycle\""
      ]
    },
    {
      "cell_type": "markdown",
      "source": [
        "# **F. DATA PREPRARATION**"
      ],
      "metadata": {
        "id": "TIQ74NCxf7lo"
      }
    },
    {
      "cell_type": "markdown",
      "metadata": {
        "id": "OwEattUPCTyg"
      },
      "source": [
        "## **F. DATA CLEANING**"
      ]
    },
    {
      "cell_type": "code",
      "execution_count": 42,
      "metadata": {
        "colab": {
          "base_uri": "https://localhost:8080/",
          "height": 487
        },
        "id": "8R24w_AKCTyg",
        "outputId": "8f5d9139-4746-4fcf-aa36-2c0a42995baf"
      },
      "outputs": [
        {
          "output_type": "execute_result",
          "data": {
            "text/plain": [
              "         ID  Year_Birth Education Marital_Status   Income  Kidhome  Teenhome  \\\n",
              "0      5524        1957  Bachelor         Single  58138.0        0         0   \n",
              "1      2174        1954  Bachelor         Single  46344.0        1         1   \n",
              "2      4141        1965  Bachelor          Taken  71613.0        0         0   \n",
              "3      6182        1984  Bachelor          Taken  26646.0        1         0   \n",
              "4      5324        1981       PhD          Taken  58293.0        1         0   \n",
              "...     ...         ...       ...            ...      ...      ...       ...   \n",
              "2235  10870        1967  Bachelor          Taken  61223.0        0         1   \n",
              "2236   4001        1946       PhD          Taken  64014.0        2         1   \n",
              "2237   7270        1981  Bachelor         Single  56981.0        0         0   \n",
              "2238   8235        1956    Master          Taken  69245.0        0         1   \n",
              "2239   9405        1954       PhD          Taken  52869.0        1         1   \n",
              "\n",
              "     Dt_Customer  Recency  Wine  ...  NumCatalogPurchases  NumStorePurchases  \\\n",
              "0     04-09-2012       58   635  ...                   10                  4   \n",
              "1     08-03-2014       38    11  ...                    1                  2   \n",
              "2     21-08-2013       26   426  ...                    2                 10   \n",
              "3     10-02-2014       26    11  ...                    0                  4   \n",
              "4     19-01-2014       94   173  ...                    3                  6   \n",
              "...          ...      ...   ...  ...                  ...                ...   \n",
              "2235  13-06-2013       46   709  ...                    3                  4   \n",
              "2236  10-06-2014       56   406  ...                    2                  5   \n",
              "2237  25-01-2014       91   908  ...                    3                 13   \n",
              "2238  24-01-2014        8   428  ...                    5                 10   \n",
              "2239  15-10-2012       40    84  ...                    1                  4   \n",
              "\n",
              "      NumWebVisitsMonth  Campaign3  Campaign4  Campaign5  Campaign1  \\\n",
              "0                     7          0          0          0          0   \n",
              "1                     5          0          0          0          0   \n",
              "2                     4          0          0          0          0   \n",
              "3                     6          0          0          0          0   \n",
              "4                     5          0          0          0          0   \n",
              "...                 ...        ...        ...        ...        ...   \n",
              "2235                  5          0          0          0          0   \n",
              "2236                  7          0          0          0          1   \n",
              "2237                  6          0          1          0          0   \n",
              "2238                  3          0          0          0          0   \n",
              "2239                  7          0          0          0          0   \n",
              "\n",
              "      Campaign2  Complain  Campaign6  \n",
              "0             0         0          1  \n",
              "1             0         0          0  \n",
              "2             0         0          0  \n",
              "3             0         0          0  \n",
              "4             0         0          0  \n",
              "...         ...       ...        ...  \n",
              "2235          0         0          0  \n",
              "2236          0         0          0  \n",
              "2237          0         0          0  \n",
              "2238          0         0          0  \n",
              "2239          0         0          1  \n",
              "\n",
              "[2212 rows x 27 columns]"
            ],
            "text/html": [
              "\n",
              "  <div id=\"df-687a3d89-4521-4828-836f-80906764377d\">\n",
              "    <div class=\"colab-df-container\">\n",
              "      <div>\n",
              "<style scoped>\n",
              "    .dataframe tbody tr th:only-of-type {\n",
              "        vertical-align: middle;\n",
              "    }\n",
              "\n",
              "    .dataframe tbody tr th {\n",
              "        vertical-align: top;\n",
              "    }\n",
              "\n",
              "    .dataframe thead th {\n",
              "        text-align: right;\n",
              "    }\n",
              "</style>\n",
              "<table border=\"1\" class=\"dataframe\">\n",
              "  <thead>\n",
              "    <tr style=\"text-align: right;\">\n",
              "      <th></th>\n",
              "      <th>ID</th>\n",
              "      <th>Year_Birth</th>\n",
              "      <th>Education</th>\n",
              "      <th>Marital_Status</th>\n",
              "      <th>Income</th>\n",
              "      <th>Kidhome</th>\n",
              "      <th>Teenhome</th>\n",
              "      <th>Dt_Customer</th>\n",
              "      <th>Recency</th>\n",
              "      <th>Wine</th>\n",
              "      <th>...</th>\n",
              "      <th>NumCatalogPurchases</th>\n",
              "      <th>NumStorePurchases</th>\n",
              "      <th>NumWebVisitsMonth</th>\n",
              "      <th>Campaign3</th>\n",
              "      <th>Campaign4</th>\n",
              "      <th>Campaign5</th>\n",
              "      <th>Campaign1</th>\n",
              "      <th>Campaign2</th>\n",
              "      <th>Complain</th>\n",
              "      <th>Campaign6</th>\n",
              "    </tr>\n",
              "  </thead>\n",
              "  <tbody>\n",
              "    <tr>\n",
              "      <th>0</th>\n",
              "      <td>5524</td>\n",
              "      <td>1957</td>\n",
              "      <td>Bachelor</td>\n",
              "      <td>Single</td>\n",
              "      <td>58138.0</td>\n",
              "      <td>0</td>\n",
              "      <td>0</td>\n",
              "      <td>04-09-2012</td>\n",
              "      <td>58</td>\n",
              "      <td>635</td>\n",
              "      <td>...</td>\n",
              "      <td>10</td>\n",
              "      <td>4</td>\n",
              "      <td>7</td>\n",
              "      <td>0</td>\n",
              "      <td>0</td>\n",
              "      <td>0</td>\n",
              "      <td>0</td>\n",
              "      <td>0</td>\n",
              "      <td>0</td>\n",
              "      <td>1</td>\n",
              "    </tr>\n",
              "    <tr>\n",
              "      <th>1</th>\n",
              "      <td>2174</td>\n",
              "      <td>1954</td>\n",
              "      <td>Bachelor</td>\n",
              "      <td>Single</td>\n",
              "      <td>46344.0</td>\n",
              "      <td>1</td>\n",
              "      <td>1</td>\n",
              "      <td>08-03-2014</td>\n",
              "      <td>38</td>\n",
              "      <td>11</td>\n",
              "      <td>...</td>\n",
              "      <td>1</td>\n",
              "      <td>2</td>\n",
              "      <td>5</td>\n",
              "      <td>0</td>\n",
              "      <td>0</td>\n",
              "      <td>0</td>\n",
              "      <td>0</td>\n",
              "      <td>0</td>\n",
              "      <td>0</td>\n",
              "      <td>0</td>\n",
              "    </tr>\n",
              "    <tr>\n",
              "      <th>2</th>\n",
              "      <td>4141</td>\n",
              "      <td>1965</td>\n",
              "      <td>Bachelor</td>\n",
              "      <td>Taken</td>\n",
              "      <td>71613.0</td>\n",
              "      <td>0</td>\n",
              "      <td>0</td>\n",
              "      <td>21-08-2013</td>\n",
              "      <td>26</td>\n",
              "      <td>426</td>\n",
              "      <td>...</td>\n",
              "      <td>2</td>\n",
              "      <td>10</td>\n",
              "      <td>4</td>\n",
              "      <td>0</td>\n",
              "      <td>0</td>\n",
              "      <td>0</td>\n",
              "      <td>0</td>\n",
              "      <td>0</td>\n",
              "      <td>0</td>\n",
              "      <td>0</td>\n",
              "    </tr>\n",
              "    <tr>\n",
              "      <th>3</th>\n",
              "      <td>6182</td>\n",
              "      <td>1984</td>\n",
              "      <td>Bachelor</td>\n",
              "      <td>Taken</td>\n",
              "      <td>26646.0</td>\n",
              "      <td>1</td>\n",
              "      <td>0</td>\n",
              "      <td>10-02-2014</td>\n",
              "      <td>26</td>\n",
              "      <td>11</td>\n",
              "      <td>...</td>\n",
              "      <td>0</td>\n",
              "      <td>4</td>\n",
              "      <td>6</td>\n",
              "      <td>0</td>\n",
              "      <td>0</td>\n",
              "      <td>0</td>\n",
              "      <td>0</td>\n",
              "      <td>0</td>\n",
              "      <td>0</td>\n",
              "      <td>0</td>\n",
              "    </tr>\n",
              "    <tr>\n",
              "      <th>4</th>\n",
              "      <td>5324</td>\n",
              "      <td>1981</td>\n",
              "      <td>PhD</td>\n",
              "      <td>Taken</td>\n",
              "      <td>58293.0</td>\n",
              "      <td>1</td>\n",
              "      <td>0</td>\n",
              "      <td>19-01-2014</td>\n",
              "      <td>94</td>\n",
              "      <td>173</td>\n",
              "      <td>...</td>\n",
              "      <td>3</td>\n",
              "      <td>6</td>\n",
              "      <td>5</td>\n",
              "      <td>0</td>\n",
              "      <td>0</td>\n",
              "      <td>0</td>\n",
              "      <td>0</td>\n",
              "      <td>0</td>\n",
              "      <td>0</td>\n",
              "      <td>0</td>\n",
              "    </tr>\n",
              "    <tr>\n",
              "      <th>...</th>\n",
              "      <td>...</td>\n",
              "      <td>...</td>\n",
              "      <td>...</td>\n",
              "      <td>...</td>\n",
              "      <td>...</td>\n",
              "      <td>...</td>\n",
              "      <td>...</td>\n",
              "      <td>...</td>\n",
              "      <td>...</td>\n",
              "      <td>...</td>\n",
              "      <td>...</td>\n",
              "      <td>...</td>\n",
              "      <td>...</td>\n",
              "      <td>...</td>\n",
              "      <td>...</td>\n",
              "      <td>...</td>\n",
              "      <td>...</td>\n",
              "      <td>...</td>\n",
              "      <td>...</td>\n",
              "      <td>...</td>\n",
              "      <td>...</td>\n",
              "    </tr>\n",
              "    <tr>\n",
              "      <th>2235</th>\n",
              "      <td>10870</td>\n",
              "      <td>1967</td>\n",
              "      <td>Bachelor</td>\n",
              "      <td>Taken</td>\n",
              "      <td>61223.0</td>\n",
              "      <td>0</td>\n",
              "      <td>1</td>\n",
              "      <td>13-06-2013</td>\n",
              "      <td>46</td>\n",
              "      <td>709</td>\n",
              "      <td>...</td>\n",
              "      <td>3</td>\n",
              "      <td>4</td>\n",
              "      <td>5</td>\n",
              "      <td>0</td>\n",
              "      <td>0</td>\n",
              "      <td>0</td>\n",
              "      <td>0</td>\n",
              "      <td>0</td>\n",
              "      <td>0</td>\n",
              "      <td>0</td>\n",
              "    </tr>\n",
              "    <tr>\n",
              "      <th>2236</th>\n",
              "      <td>4001</td>\n",
              "      <td>1946</td>\n",
              "      <td>PhD</td>\n",
              "      <td>Taken</td>\n",
              "      <td>64014.0</td>\n",
              "      <td>2</td>\n",
              "      <td>1</td>\n",
              "      <td>10-06-2014</td>\n",
              "      <td>56</td>\n",
              "      <td>406</td>\n",
              "      <td>...</td>\n",
              "      <td>2</td>\n",
              "      <td>5</td>\n",
              "      <td>7</td>\n",
              "      <td>0</td>\n",
              "      <td>0</td>\n",
              "      <td>0</td>\n",
              "      <td>1</td>\n",
              "      <td>0</td>\n",
              "      <td>0</td>\n",
              "      <td>0</td>\n",
              "    </tr>\n",
              "    <tr>\n",
              "      <th>2237</th>\n",
              "      <td>7270</td>\n",
              "      <td>1981</td>\n",
              "      <td>Bachelor</td>\n",
              "      <td>Single</td>\n",
              "      <td>56981.0</td>\n",
              "      <td>0</td>\n",
              "      <td>0</td>\n",
              "      <td>25-01-2014</td>\n",
              "      <td>91</td>\n",
              "      <td>908</td>\n",
              "      <td>...</td>\n",
              "      <td>3</td>\n",
              "      <td>13</td>\n",
              "      <td>6</td>\n",
              "      <td>0</td>\n",
              "      <td>1</td>\n",
              "      <td>0</td>\n",
              "      <td>0</td>\n",
              "      <td>0</td>\n",
              "      <td>0</td>\n",
              "      <td>0</td>\n",
              "    </tr>\n",
              "    <tr>\n",
              "      <th>2238</th>\n",
              "      <td>8235</td>\n",
              "      <td>1956</td>\n",
              "      <td>Master</td>\n",
              "      <td>Taken</td>\n",
              "      <td>69245.0</td>\n",
              "      <td>0</td>\n",
              "      <td>1</td>\n",
              "      <td>24-01-2014</td>\n",
              "      <td>8</td>\n",
              "      <td>428</td>\n",
              "      <td>...</td>\n",
              "      <td>5</td>\n",
              "      <td>10</td>\n",
              "      <td>3</td>\n",
              "      <td>0</td>\n",
              "      <td>0</td>\n",
              "      <td>0</td>\n",
              "      <td>0</td>\n",
              "      <td>0</td>\n",
              "      <td>0</td>\n",
              "      <td>0</td>\n",
              "    </tr>\n",
              "    <tr>\n",
              "      <th>2239</th>\n",
              "      <td>9405</td>\n",
              "      <td>1954</td>\n",
              "      <td>PhD</td>\n",
              "      <td>Taken</td>\n",
              "      <td>52869.0</td>\n",
              "      <td>1</td>\n",
              "      <td>1</td>\n",
              "      <td>15-10-2012</td>\n",
              "      <td>40</td>\n",
              "      <td>84</td>\n",
              "      <td>...</td>\n",
              "      <td>1</td>\n",
              "      <td>4</td>\n",
              "      <td>7</td>\n",
              "      <td>0</td>\n",
              "      <td>0</td>\n",
              "      <td>0</td>\n",
              "      <td>0</td>\n",
              "      <td>0</td>\n",
              "      <td>0</td>\n",
              "      <td>1</td>\n",
              "    </tr>\n",
              "  </tbody>\n",
              "</table>\n",
              "<p>2212 rows × 27 columns</p>\n",
              "</div>\n",
              "      <button class=\"colab-df-convert\" onclick=\"convertToInteractive('df-687a3d89-4521-4828-836f-80906764377d')\"\n",
              "              title=\"Convert this dataframe to an interactive table.\"\n",
              "              style=\"display:none;\">\n",
              "        \n",
              "  <svg xmlns=\"http://www.w3.org/2000/svg\" height=\"24px\"viewBox=\"0 0 24 24\"\n",
              "       width=\"24px\">\n",
              "    <path d=\"M0 0h24v24H0V0z\" fill=\"none\"/>\n",
              "    <path d=\"M18.56 5.44l.94 2.06.94-2.06 2.06-.94-2.06-.94-.94-2.06-.94 2.06-2.06.94zm-11 1L8.5 8.5l.94-2.06 2.06-.94-2.06-.94L8.5 2.5l-.94 2.06-2.06.94zm10 10l.94 2.06.94-2.06 2.06-.94-2.06-.94-.94-2.06-.94 2.06-2.06.94z\"/><path d=\"M17.41 7.96l-1.37-1.37c-.4-.4-.92-.59-1.43-.59-.52 0-1.04.2-1.43.59L10.3 9.45l-7.72 7.72c-.78.78-.78 2.05 0 2.83L4 21.41c.39.39.9.59 1.41.59.51 0 1.02-.2 1.41-.59l7.78-7.78 2.81-2.81c.8-.78.8-2.07 0-2.86zM5.41 20L4 18.59l7.72-7.72 1.47 1.35L5.41 20z\"/>\n",
              "  </svg>\n",
              "      </button>\n",
              "      \n",
              "  <style>\n",
              "    .colab-df-container {\n",
              "      display:flex;\n",
              "      flex-wrap:wrap;\n",
              "      gap: 12px;\n",
              "    }\n",
              "\n",
              "    .colab-df-convert {\n",
              "      background-color: #E8F0FE;\n",
              "      border: none;\n",
              "      border-radius: 50%;\n",
              "      cursor: pointer;\n",
              "      display: none;\n",
              "      fill: #1967D2;\n",
              "      height: 32px;\n",
              "      padding: 0 0 0 0;\n",
              "      width: 32px;\n",
              "    }\n",
              "\n",
              "    .colab-df-convert:hover {\n",
              "      background-color: #E2EBFA;\n",
              "      box-shadow: 0px 1px 2px rgba(60, 64, 67, 0.3), 0px 1px 3px 1px rgba(60, 64, 67, 0.15);\n",
              "      fill: #174EA6;\n",
              "    }\n",
              "\n",
              "    [theme=dark] .colab-df-convert {\n",
              "      background-color: #3B4455;\n",
              "      fill: #D2E3FC;\n",
              "    }\n",
              "\n",
              "    [theme=dark] .colab-df-convert:hover {\n",
              "      background-color: #434B5C;\n",
              "      box-shadow: 0px 1px 3px 1px rgba(0, 0, 0, 0.15);\n",
              "      filter: drop-shadow(0px 1px 2px rgba(0, 0, 0, 0.3));\n",
              "      fill: #FFFFFF;\n",
              "    }\n",
              "  </style>\n",
              "\n",
              "      <script>\n",
              "        const buttonEl =\n",
              "          document.querySelector('#df-687a3d89-4521-4828-836f-80906764377d button.colab-df-convert');\n",
              "        buttonEl.style.display =\n",
              "          google.colab.kernel.accessAllowed ? 'block' : 'none';\n",
              "\n",
              "        async function convertToInteractive(key) {\n",
              "          const element = document.querySelector('#df-687a3d89-4521-4828-836f-80906764377d');\n",
              "          const dataTable =\n",
              "            await google.colab.kernel.invokeFunction('convertToInteractive',\n",
              "                                                     [key], {});\n",
              "          if (!dataTable) return;\n",
              "\n",
              "          const docLinkHtml = 'Like what you see? Visit the ' +\n",
              "            '<a target=\"_blank\" href=https://colab.research.google.com/notebooks/data_table.ipynb>data table notebook</a>'\n",
              "            + ' to learn more about interactive tables.';\n",
              "          element.innerHTML = '';\n",
              "          dataTable['output_type'] = 'display_data';\n",
              "          await google.colab.output.renderOutput(dataTable, element);\n",
              "          const docLink = document.createElement('div');\n",
              "          docLink.innerHTML = docLinkHtml;\n",
              "          element.appendChild(docLink);\n",
              "        }\n",
              "      </script>\n",
              "    </div>\n",
              "  </div>\n",
              "  "
            ]
          },
          "metadata": {},
          "execution_count": 42
        }
      ],
      "source": [
        "#drop outlier\n",
        "df.drop(df[df['Year_Birth'] <= 1900].index, inplace = True)\n",
        "#mengganti nama kolom\n",
        "df[\"Education\"] = df[\"Education\"].replace({\"2n Cycle\":\"Master\", \"Graduation\":\"Bachelor\", \"Basic\":\"Undergraduate\"})\n",
        "df[\"Marital_Status\"] = df[\"Marital_Status\"].replace({'Together':\"Taken\", \"Divorced\":\"Single\", \"Widow\":\"Single\", \n",
        "                                                     \"Alone\":\"Single\", \"Absurd\":\"Single\", \"YOLO\":\"Single\", \"Married\":\"Taken\"})\n",
        "#drop missing values\n",
        "df = df.dropna()\n",
        "#drop kolom yang tidak relevan\n",
        "df = df.drop(columns = [\"Z_CostContact\", \"Z_Revenue\"])\n",
        "#drop outlier pada kolom Income\n",
        "df.drop(df[df[\"Income\"] > 600000].index, inplace = True)\n",
        "\n",
        "#mengganti nama kolom\n",
        "df = df.rename(columns = {\"MntWines\":\"Wine\", \"MntMeatProducts\":\"Meat\", \"MntFishProducts\":\"Fish\", \"MntSweetProducts\":\"Sweet\",\n",
        "                          \"MntGoldProds\":\"Gold\", \"Response\":\"Campaign6\", \"AcceptedCmp1\":\"Campaign1\", \"AcceptedCmp2\":\"Campaign2\", \"AcceptedCmp3\":\"Campaign3\",\n",
        "                          \"AcceptedCmp4\":\"Campaign4\", \"AcceptedCmp5\":\"Campaign5\", \"MntFruits\":\"Fruit\"})\n",
        "df"
      ]
    },
    {
      "cell_type": "markdown",
      "metadata": {
        "id": "n0SdZMbXCTyg"
      },
      "source": [
        "berdasarkan feature exploration yang telah dilakukan, maka data celaning yang dilakukan adalah sebagai berikut:\n",
        "\n",
        "\n",
        "\n",
        "*   Remove outlier untuk kolom ([\"Income\"]>600000)\n",
        "*   Remove outlier untuk kolom ([\"Year_Birth\"] <= 1900)\n",
        "*   Renaming values untuk kolom [\"Education\"]\n",
        "*   Drop missing values yang terdapat pada kolom [\"Income\"]\n",
        "*   Renaming values untuk kolom [\"Marital_Status\"]\n",
        "*   Drop kolom [\"Z_CostContact\"] dan [\"Z_Revenue\"]\n",
        "\n",
        "\n",
        "\n",
        "\n",
        "\n"
      ]
    },
    {
      "cell_type": "markdown",
      "metadata": {
        "id": "-O3ISAAyX9hZ"
      },
      "source": [
        "## 5. FEATURE ENGINEERING"
      ]
    },
    {
      "cell_type": "code",
      "execution_count": 43,
      "metadata": {
        "colab": {
          "base_uri": "https://localhost:8080/",
          "height": 487
        },
        "id": "BzmuGwxvCTyg",
        "outputId": "7a4e1e63-d94b-4541-b931-7252b7763b90"
      },
      "outputs": [
        {
          "output_type": "execute_result",
          "data": {
            "text/plain": [
              "         ID  Year_Birth Education Marital_Status   Income  Kidhome  Teenhome  \\\n",
              "0      5524        1957  Bachelor         Single  58138.0        0         0   \n",
              "1      2174        1954  Bachelor         Single  46344.0        1         1   \n",
              "2      4141        1965  Bachelor          Taken  71613.0        0         0   \n",
              "3      6182        1984  Bachelor          Taken  26646.0        1         0   \n",
              "4      5324        1981       PhD          Taken  58293.0        1         0   \n",
              "...     ...         ...       ...            ...      ...      ...       ...   \n",
              "2235  10870        1967  Bachelor          Taken  61223.0        0         1   \n",
              "2236   4001        1946       PhD          Taken  64014.0        2         1   \n",
              "2237   7270        1981  Bachelor         Single  56981.0        0         0   \n",
              "2238   8235        1956    Master          Taken  69245.0        0         1   \n",
              "2239   9405        1954       PhD          Taken  52869.0        1         1   \n",
              "\n",
              "     Dt_Customer  Recency  Wine  ...  Campaign3  Campaign4  Campaign5  \\\n",
              "0     04-09-2012       58   635  ...          0          0          0   \n",
              "1     08-03-2014       38    11  ...          0          0          0   \n",
              "2     21-08-2013       26   426  ...          0          0          0   \n",
              "3     10-02-2014       26    11  ...          0          0          0   \n",
              "4     19-01-2014       94   173  ...          0          0          0   \n",
              "...          ...      ...   ...  ...        ...        ...        ...   \n",
              "2235  13-06-2013       46   709  ...          0          0          0   \n",
              "2236  10-06-2014       56   406  ...          0          0          0   \n",
              "2237  25-01-2014       91   908  ...          0          1          0   \n",
              "2238  24-01-2014        8   428  ...          0          0          0   \n",
              "2239  15-10-2012       40    84  ...          0          0          0   \n",
              "\n",
              "      Campaign1  Campaign2  Complain  Campaign6  totalPurchase  totalSpend  \\\n",
              "0             0          0         0          1             25        1617   \n",
              "1             0          0         0          0              6          27   \n",
              "2             0          0         0          0             21         776   \n",
              "3             0          0         0          0              8          53   \n",
              "4             0          0         0          0             19         422   \n",
              "...         ...        ...       ...        ...            ...         ...   \n",
              "2235          0          0         0          0             18        1341   \n",
              "2236          1          0         0          0             22         444   \n",
              "2237          0          0         0          0             19        1241   \n",
              "2238          0          0         0          0             23         843   \n",
              "2239          0          0         0          1             11         172   \n",
              "\n",
              "      Age  \n",
              "0      65  \n",
              "1      68  \n",
              "2      57  \n",
              "3      38  \n",
              "4      41  \n",
              "...   ...  \n",
              "2235   55  \n",
              "2236   76  \n",
              "2237   41  \n",
              "2238   66  \n",
              "2239   68  \n",
              "\n",
              "[2212 rows x 30 columns]"
            ],
            "text/html": [
              "\n",
              "  <div id=\"df-52230253-0a4b-4e65-a65e-30b7fa8de69f\">\n",
              "    <div class=\"colab-df-container\">\n",
              "      <div>\n",
              "<style scoped>\n",
              "    .dataframe tbody tr th:only-of-type {\n",
              "        vertical-align: middle;\n",
              "    }\n",
              "\n",
              "    .dataframe tbody tr th {\n",
              "        vertical-align: top;\n",
              "    }\n",
              "\n",
              "    .dataframe thead th {\n",
              "        text-align: right;\n",
              "    }\n",
              "</style>\n",
              "<table border=\"1\" class=\"dataframe\">\n",
              "  <thead>\n",
              "    <tr style=\"text-align: right;\">\n",
              "      <th></th>\n",
              "      <th>ID</th>\n",
              "      <th>Year_Birth</th>\n",
              "      <th>Education</th>\n",
              "      <th>Marital_Status</th>\n",
              "      <th>Income</th>\n",
              "      <th>Kidhome</th>\n",
              "      <th>Teenhome</th>\n",
              "      <th>Dt_Customer</th>\n",
              "      <th>Recency</th>\n",
              "      <th>Wine</th>\n",
              "      <th>...</th>\n",
              "      <th>Campaign3</th>\n",
              "      <th>Campaign4</th>\n",
              "      <th>Campaign5</th>\n",
              "      <th>Campaign1</th>\n",
              "      <th>Campaign2</th>\n",
              "      <th>Complain</th>\n",
              "      <th>Campaign6</th>\n",
              "      <th>totalPurchase</th>\n",
              "      <th>totalSpend</th>\n",
              "      <th>Age</th>\n",
              "    </tr>\n",
              "  </thead>\n",
              "  <tbody>\n",
              "    <tr>\n",
              "      <th>0</th>\n",
              "      <td>5524</td>\n",
              "      <td>1957</td>\n",
              "      <td>Bachelor</td>\n",
              "      <td>Single</td>\n",
              "      <td>58138.0</td>\n",
              "      <td>0</td>\n",
              "      <td>0</td>\n",
              "      <td>04-09-2012</td>\n",
              "      <td>58</td>\n",
              "      <td>635</td>\n",
              "      <td>...</td>\n",
              "      <td>0</td>\n",
              "      <td>0</td>\n",
              "      <td>0</td>\n",
              "      <td>0</td>\n",
              "      <td>0</td>\n",
              "      <td>0</td>\n",
              "      <td>1</td>\n",
              "      <td>25</td>\n",
              "      <td>1617</td>\n",
              "      <td>65</td>\n",
              "    </tr>\n",
              "    <tr>\n",
              "      <th>1</th>\n",
              "      <td>2174</td>\n",
              "      <td>1954</td>\n",
              "      <td>Bachelor</td>\n",
              "      <td>Single</td>\n",
              "      <td>46344.0</td>\n",
              "      <td>1</td>\n",
              "      <td>1</td>\n",
              "      <td>08-03-2014</td>\n",
              "      <td>38</td>\n",
              "      <td>11</td>\n",
              "      <td>...</td>\n",
              "      <td>0</td>\n",
              "      <td>0</td>\n",
              "      <td>0</td>\n",
              "      <td>0</td>\n",
              "      <td>0</td>\n",
              "      <td>0</td>\n",
              "      <td>0</td>\n",
              "      <td>6</td>\n",
              "      <td>27</td>\n",
              "      <td>68</td>\n",
              "    </tr>\n",
              "    <tr>\n",
              "      <th>2</th>\n",
              "      <td>4141</td>\n",
              "      <td>1965</td>\n",
              "      <td>Bachelor</td>\n",
              "      <td>Taken</td>\n",
              "      <td>71613.0</td>\n",
              "      <td>0</td>\n",
              "      <td>0</td>\n",
              "      <td>21-08-2013</td>\n",
              "      <td>26</td>\n",
              "      <td>426</td>\n",
              "      <td>...</td>\n",
              "      <td>0</td>\n",
              "      <td>0</td>\n",
              "      <td>0</td>\n",
              "      <td>0</td>\n",
              "      <td>0</td>\n",
              "      <td>0</td>\n",
              "      <td>0</td>\n",
              "      <td>21</td>\n",
              "      <td>776</td>\n",
              "      <td>57</td>\n",
              "    </tr>\n",
              "    <tr>\n",
              "      <th>3</th>\n",
              "      <td>6182</td>\n",
              "      <td>1984</td>\n",
              "      <td>Bachelor</td>\n",
              "      <td>Taken</td>\n",
              "      <td>26646.0</td>\n",
              "      <td>1</td>\n",
              "      <td>0</td>\n",
              "      <td>10-02-2014</td>\n",
              "      <td>26</td>\n",
              "      <td>11</td>\n",
              "      <td>...</td>\n",
              "      <td>0</td>\n",
              "      <td>0</td>\n",
              "      <td>0</td>\n",
              "      <td>0</td>\n",
              "      <td>0</td>\n",
              "      <td>0</td>\n",
              "      <td>0</td>\n",
              "      <td>8</td>\n",
              "      <td>53</td>\n",
              "      <td>38</td>\n",
              "    </tr>\n",
              "    <tr>\n",
              "      <th>4</th>\n",
              "      <td>5324</td>\n",
              "      <td>1981</td>\n",
              "      <td>PhD</td>\n",
              "      <td>Taken</td>\n",
              "      <td>58293.0</td>\n",
              "      <td>1</td>\n",
              "      <td>0</td>\n",
              "      <td>19-01-2014</td>\n",
              "      <td>94</td>\n",
              "      <td>173</td>\n",
              "      <td>...</td>\n",
              "      <td>0</td>\n",
              "      <td>0</td>\n",
              "      <td>0</td>\n",
              "      <td>0</td>\n",
              "      <td>0</td>\n",
              "      <td>0</td>\n",
              "      <td>0</td>\n",
              "      <td>19</td>\n",
              "      <td>422</td>\n",
              "      <td>41</td>\n",
              "    </tr>\n",
              "    <tr>\n",
              "      <th>...</th>\n",
              "      <td>...</td>\n",
              "      <td>...</td>\n",
              "      <td>...</td>\n",
              "      <td>...</td>\n",
              "      <td>...</td>\n",
              "      <td>...</td>\n",
              "      <td>...</td>\n",
              "      <td>...</td>\n",
              "      <td>...</td>\n",
              "      <td>...</td>\n",
              "      <td>...</td>\n",
              "      <td>...</td>\n",
              "      <td>...</td>\n",
              "      <td>...</td>\n",
              "      <td>...</td>\n",
              "      <td>...</td>\n",
              "      <td>...</td>\n",
              "      <td>...</td>\n",
              "      <td>...</td>\n",
              "      <td>...</td>\n",
              "      <td>...</td>\n",
              "    </tr>\n",
              "    <tr>\n",
              "      <th>2235</th>\n",
              "      <td>10870</td>\n",
              "      <td>1967</td>\n",
              "      <td>Bachelor</td>\n",
              "      <td>Taken</td>\n",
              "      <td>61223.0</td>\n",
              "      <td>0</td>\n",
              "      <td>1</td>\n",
              "      <td>13-06-2013</td>\n",
              "      <td>46</td>\n",
              "      <td>709</td>\n",
              "      <td>...</td>\n",
              "      <td>0</td>\n",
              "      <td>0</td>\n",
              "      <td>0</td>\n",
              "      <td>0</td>\n",
              "      <td>0</td>\n",
              "      <td>0</td>\n",
              "      <td>0</td>\n",
              "      <td>18</td>\n",
              "      <td>1341</td>\n",
              "      <td>55</td>\n",
              "    </tr>\n",
              "    <tr>\n",
              "      <th>2236</th>\n",
              "      <td>4001</td>\n",
              "      <td>1946</td>\n",
              "      <td>PhD</td>\n",
              "      <td>Taken</td>\n",
              "      <td>64014.0</td>\n",
              "      <td>2</td>\n",
              "      <td>1</td>\n",
              "      <td>10-06-2014</td>\n",
              "      <td>56</td>\n",
              "      <td>406</td>\n",
              "      <td>...</td>\n",
              "      <td>0</td>\n",
              "      <td>0</td>\n",
              "      <td>0</td>\n",
              "      <td>1</td>\n",
              "      <td>0</td>\n",
              "      <td>0</td>\n",
              "      <td>0</td>\n",
              "      <td>22</td>\n",
              "      <td>444</td>\n",
              "      <td>76</td>\n",
              "    </tr>\n",
              "    <tr>\n",
              "      <th>2237</th>\n",
              "      <td>7270</td>\n",
              "      <td>1981</td>\n",
              "      <td>Bachelor</td>\n",
              "      <td>Single</td>\n",
              "      <td>56981.0</td>\n",
              "      <td>0</td>\n",
              "      <td>0</td>\n",
              "      <td>25-01-2014</td>\n",
              "      <td>91</td>\n",
              "      <td>908</td>\n",
              "      <td>...</td>\n",
              "      <td>0</td>\n",
              "      <td>1</td>\n",
              "      <td>0</td>\n",
              "      <td>0</td>\n",
              "      <td>0</td>\n",
              "      <td>0</td>\n",
              "      <td>0</td>\n",
              "      <td>19</td>\n",
              "      <td>1241</td>\n",
              "      <td>41</td>\n",
              "    </tr>\n",
              "    <tr>\n",
              "      <th>2238</th>\n",
              "      <td>8235</td>\n",
              "      <td>1956</td>\n",
              "      <td>Master</td>\n",
              "      <td>Taken</td>\n",
              "      <td>69245.0</td>\n",
              "      <td>0</td>\n",
              "      <td>1</td>\n",
              "      <td>24-01-2014</td>\n",
              "      <td>8</td>\n",
              "      <td>428</td>\n",
              "      <td>...</td>\n",
              "      <td>0</td>\n",
              "      <td>0</td>\n",
              "      <td>0</td>\n",
              "      <td>0</td>\n",
              "      <td>0</td>\n",
              "      <td>0</td>\n",
              "      <td>0</td>\n",
              "      <td>23</td>\n",
              "      <td>843</td>\n",
              "      <td>66</td>\n",
              "    </tr>\n",
              "    <tr>\n",
              "      <th>2239</th>\n",
              "      <td>9405</td>\n",
              "      <td>1954</td>\n",
              "      <td>PhD</td>\n",
              "      <td>Taken</td>\n",
              "      <td>52869.0</td>\n",
              "      <td>1</td>\n",
              "      <td>1</td>\n",
              "      <td>15-10-2012</td>\n",
              "      <td>40</td>\n",
              "      <td>84</td>\n",
              "      <td>...</td>\n",
              "      <td>0</td>\n",
              "      <td>0</td>\n",
              "      <td>0</td>\n",
              "      <td>0</td>\n",
              "      <td>0</td>\n",
              "      <td>0</td>\n",
              "      <td>1</td>\n",
              "      <td>11</td>\n",
              "      <td>172</td>\n",
              "      <td>68</td>\n",
              "    </tr>\n",
              "  </tbody>\n",
              "</table>\n",
              "<p>2212 rows × 30 columns</p>\n",
              "</div>\n",
              "      <button class=\"colab-df-convert\" onclick=\"convertToInteractive('df-52230253-0a4b-4e65-a65e-30b7fa8de69f')\"\n",
              "              title=\"Convert this dataframe to an interactive table.\"\n",
              "              style=\"display:none;\">\n",
              "        \n",
              "  <svg xmlns=\"http://www.w3.org/2000/svg\" height=\"24px\"viewBox=\"0 0 24 24\"\n",
              "       width=\"24px\">\n",
              "    <path d=\"M0 0h24v24H0V0z\" fill=\"none\"/>\n",
              "    <path d=\"M18.56 5.44l.94 2.06.94-2.06 2.06-.94-2.06-.94-.94-2.06-.94 2.06-2.06.94zm-11 1L8.5 8.5l.94-2.06 2.06-.94-2.06-.94L8.5 2.5l-.94 2.06-2.06.94zm10 10l.94 2.06.94-2.06 2.06-.94-2.06-.94-.94-2.06-.94 2.06-2.06.94z\"/><path d=\"M17.41 7.96l-1.37-1.37c-.4-.4-.92-.59-1.43-.59-.52 0-1.04.2-1.43.59L10.3 9.45l-7.72 7.72c-.78.78-.78 2.05 0 2.83L4 21.41c.39.39.9.59 1.41.59.51 0 1.02-.2 1.41-.59l7.78-7.78 2.81-2.81c.8-.78.8-2.07 0-2.86zM5.41 20L4 18.59l7.72-7.72 1.47 1.35L5.41 20z\"/>\n",
              "  </svg>\n",
              "      </button>\n",
              "      \n",
              "  <style>\n",
              "    .colab-df-container {\n",
              "      display:flex;\n",
              "      flex-wrap:wrap;\n",
              "      gap: 12px;\n",
              "    }\n",
              "\n",
              "    .colab-df-convert {\n",
              "      background-color: #E8F0FE;\n",
              "      border: none;\n",
              "      border-radius: 50%;\n",
              "      cursor: pointer;\n",
              "      display: none;\n",
              "      fill: #1967D2;\n",
              "      height: 32px;\n",
              "      padding: 0 0 0 0;\n",
              "      width: 32px;\n",
              "    }\n",
              "\n",
              "    .colab-df-convert:hover {\n",
              "      background-color: #E2EBFA;\n",
              "      box-shadow: 0px 1px 2px rgba(60, 64, 67, 0.3), 0px 1px 3px 1px rgba(60, 64, 67, 0.15);\n",
              "      fill: #174EA6;\n",
              "    }\n",
              "\n",
              "    [theme=dark] .colab-df-convert {\n",
              "      background-color: #3B4455;\n",
              "      fill: #D2E3FC;\n",
              "    }\n",
              "\n",
              "    [theme=dark] .colab-df-convert:hover {\n",
              "      background-color: #434B5C;\n",
              "      box-shadow: 0px 1px 3px 1px rgba(0, 0, 0, 0.15);\n",
              "      filter: drop-shadow(0px 1px 2px rgba(0, 0, 0, 0.3));\n",
              "      fill: #FFFFFF;\n",
              "    }\n",
              "  </style>\n",
              "\n",
              "      <script>\n",
              "        const buttonEl =\n",
              "          document.querySelector('#df-52230253-0a4b-4e65-a65e-30b7fa8de69f button.colab-df-convert');\n",
              "        buttonEl.style.display =\n",
              "          google.colab.kernel.accessAllowed ? 'block' : 'none';\n",
              "\n",
              "        async function convertToInteractive(key) {\n",
              "          const element = document.querySelector('#df-52230253-0a4b-4e65-a65e-30b7fa8de69f');\n",
              "          const dataTable =\n",
              "            await google.colab.kernel.invokeFunction('convertToInteractive',\n",
              "                                                     [key], {});\n",
              "          if (!dataTable) return;\n",
              "\n",
              "          const docLinkHtml = 'Like what you see? Visit the ' +\n",
              "            '<a target=\"_blank\" href=https://colab.research.google.com/notebooks/data_table.ipynb>data table notebook</a>'\n",
              "            + ' to learn more about interactive tables.';\n",
              "          element.innerHTML = '';\n",
              "          dataTable['output_type'] = 'display_data';\n",
              "          await google.colab.output.renderOutput(dataTable, element);\n",
              "          const docLink = document.createElement('div');\n",
              "          docLink.innerHTML = docLinkHtml;\n",
              "          element.appendChild(docLink);\n",
              "        }\n",
              "      </script>\n",
              "    </div>\n",
              "  </div>\n",
              "  "
            ]
          },
          "metadata": {},
          "execution_count": 43
        }
      ],
      "source": [
        "#membuat kolom totalPurchase dengan menjumlahkan seluruh kolom pembelian\n",
        "df[\"totalPurchase\"] = df['NumDealsPurchases'] + df['NumWebPurchases'] + df['NumCatalogPurchases'] + df['NumStorePurchases']\n",
        "#membuat kolom totalSpend dengan menjumlahkan pengeluaran\n",
        "df[\"totalSpend\"] = df['Wine'] + df['Meat'] + df['Gold'] + df['Sweet'] + df[\"Fish\"] + df[\"Fruit\"]\n",
        "#membuat kolom age dengan mengurangi 2022 dengan kolom year_birth\n",
        "df[\"Age\"] = 2022 - df[\"Year_Birth\"]\n",
        "df"
      ]
    },
    {
      "cell_type": "markdown",
      "metadata": {
        "id": "Jw7YeVJsCTyg"
      },
      "source": [
        "dibuat kolom baru sebagai berikut:\n",
        "1. totalPurchase: total berapa kali melakukan pembelian\n",
        "2. totalSpend: total pengeluaran untuk pembelian\n",
        "3. age: umur"
      ]
    },
    {
      "cell_type": "markdown",
      "metadata": {
        "id": "I-JItYNiCTyh"
      },
      "source": [
        "## **6. BINNING**"
      ]
    },
    {
      "cell_type": "code",
      "execution_count": 44,
      "metadata": {
        "colab": {
          "base_uri": "https://localhost:8080/",
          "height": 466
        },
        "id": "ag356S8BCTyh",
        "outputId": "1288d88c-530e-4c56-85e4-271d25fb8b50"
      },
      "outputs": [
        {
          "output_type": "execute_result",
          "data": {
            "text/plain": [
              "<Axes: xlabel='totalSpend', ylabel='count'>"
            ]
          },
          "metadata": {},
          "execution_count": 44
        },
        {
          "output_type": "display_data",
          "data": {
            "text/plain": [
              "<Figure size 640x480 with 1 Axes>"
            ],
            "image/png": "[encoded data removed]"
          },
          "metadata": {}
        }
      ],
      "source": [
        "import seaborn as sns\n",
        "#inisialisasi label\n",
        "label = ['lowSpender', \"midSpender\", \"highSpender\", \"veryHighSpender\"]\n",
        "#membagi totalSpend berdasarkan rentang yang ditentukan\n",
        "df['totalSpend'] = pd.cut(df['totalSpend'], [0, 500, 1250, 2000, 3000], labels=label);\n",
        "#memvisualisasikan kolom setelah binning\n",
        "sns.countplot(x= df[\"totalSpend\"])"
      ]
    },
    {
      "cell_type": "code",
      "execution_count": 45,
      "metadata": {
        "colab": {
          "base_uri": "https://localhost:8080/",
          "height": 467
        },
        "id": "kbA3yiW8CTyh",
        "outputId": "ed7fc707-925a-4072-d770-f1cbdc20899d"
      },
      "outputs": [
        {
          "output_type": "execute_result",
          "data": {
            "text/plain": [
              "<Axes: xlabel='Age', ylabel='count'>"
            ]
          },
          "metadata": {},
          "execution_count": 45
        },
        {
          "output_type": "display_data",
          "data": {
            "text/plain": [
              "<Figure size 640x480 with 1 Axes>"
            ],
            "image/png": "[encoded data removed]"
          },
          "metadata": {}
        }
      ],
      "source": [
        "#inisialisasi label\n",
        "label = ['young_adult', \"middle_age\", \"elder\"]\n",
        "#membagi kolom age berdasarkan rentang yang ditentukan\n",
        "df['Age'] = pd.cut(df['Age'], [0, 40, 60, 100], labels=label);\n",
        "#visualisasi kolom setelah binning\n",
        "sns.countplot(x= df[\"Age\"])"
      ]
    },
    {
      "cell_type": "code",
      "execution_count": 46,
      "metadata": {
        "colab": {
          "base_uri": "https://localhost:8080/",
          "height": 466
        },
        "id": "ChyRibrkCTyh",
        "outputId": "a1205bd7-398c-4621-cac0-56d97cf988fa"
      },
      "outputs": [
        {
          "output_type": "execute_result",
          "data": {
            "text/plain": [
              "<Axes: xlabel='Income', ylabel='count'>"
            ]
          },
          "metadata": {},
          "execution_count": 46
        },
        {
          "output_type": "display_data",
          "data": {
            "text/plain": [
              "<Figure size 640x480 with 1 Axes>"
            ],
            "image/png": "[encoded data removed]"
          },
          "metadata": {}
        }
      ],
      "source": [
        "#inisialisasi label\n",
        "label = ['low', \"mid\", \"high\", \"very high\"]\n",
        "#membagi kolom income menjadi 4 rentang yang sama besar\n",
        "df['Income'] = pd.cut(df['Income'], bins=4, labels=label);\n",
        "#visualisasi kolom setelah binning\n",
        "sns.countplot(x= df[\"Income\"])"
      ]
    },
    {
      "cell_type": "markdown",
      "metadata": {
        "id": "ptXlsYU_CTyh"
      },
      "source": [
        "##7. MENGAMBIL KOLOM PERILAKU"
      ]
    },
    {
      "cell_type": "code",
      "execution_count": 47,
      "metadata": {
        "colab": {
          "base_uri": "https://localhost:8080/",
          "height": 487
        },
        "id": "6OEEtQC5CTyh",
        "outputId": "854e19af-723c-470c-ab19-27db46c5425e"
      },
      "outputs": [
        {
          "output_type": "execute_result",
          "data": {
            "text/plain": [
              "      Recency  Wine  Fruit  Meat  Fish  Sweet  Gold  NumDealsPurchases  \\\n",
              "0          58   635     88   546   172     88    88                  3   \n",
              "1          38    11      1     6     2      1     6                  2   \n",
              "2          26   426     49   127   111     21    42                  1   \n",
              "3          26    11      4    20    10      3     5                  2   \n",
              "4          94   173     43   118    46     27    15                  5   \n",
              "...       ...   ...    ...   ...   ...    ...   ...                ...   \n",
              "2235       46   709     43   182    42    118   247                  2   \n",
              "2236       56   406      0    30     0      0     8                  7   \n",
              "2237       91   908     48   217    32     12    24                  1   \n",
              "2238        8   428     30   214    80     30    61                  2   \n",
              "2239       40    84      3    61     2      1    21                  3   \n",
              "\n",
              "      NumWebPurchases  NumCatalogPurchases  NumStorePurchases  \\\n",
              "0                   8                   10                  4   \n",
              "1                   1                    1                  2   \n",
              "2                   8                    2                 10   \n",
              "3                   2                    0                  4   \n",
              "4                   5                    3                  6   \n",
              "...               ...                  ...                ...   \n",
              "2235                9                    3                  4   \n",
              "2236                8                    2                  5   \n",
              "2237                2                    3                 13   \n",
              "2238                6                    5                 10   \n",
              "2239                3                    1                  4   \n",
              "\n",
              "      NumWebVisitsMonth  Campaign3  Campaign4  Campaign5  Campaign1  \\\n",
              "0                     7          0          0          0          0   \n",
              "1                     5          0          0          0          0   \n",
              "2                     4          0          0          0          0   \n",
              "3                     6          0          0          0          0   \n",
              "4                     5          0          0          0          0   \n",
              "...                 ...        ...        ...        ...        ...   \n",
              "2235                  5          0          0          0          0   \n",
              "2236                  7          0          0          0          1   \n",
              "2237                  6          0          1          0          0   \n",
              "2238                  3          0          0          0          0   \n",
              "2239                  7          0          0          0          0   \n",
              "\n",
              "      Campaign2  Complain  Campaign6  totalPurchase  \n",
              "0             0         0          1             25  \n",
              "1             0         0          0              6  \n",
              "2             0         0          0             21  \n",
              "3             0         0          0              8  \n",
              "4             0         0          0             19  \n",
              "...         ...       ...        ...            ...  \n",
              "2235          0         0          0             18  \n",
              "2236          0         0          0             22  \n",
              "2237          0         0          0             19  \n",
              "2238          0         0          0             23  \n",
              "2239          0         0          1             11  \n",
              "\n",
              "[2212 rows x 20 columns]"
            ],
            "text/html": [
              "\n",
              "  <div id=\"df-8e26b89c-fd89-41f6-95f0-bbd7087b06f6\">\n",
              "    <div class=\"colab-df-container\">\n",
              "      <div>\n",
              "<style scoped>\n",
              "    .dataframe tbody tr th:only-of-type {\n",
              "        vertical-align: middle;\n",
              "    }\n",
              "\n",
              "    .dataframe tbody tr th {\n",
              "        vertical-align: top;\n",
              "    }\n",
              "\n",
              "    .dataframe thead th {\n",
              "        text-align: right;\n",
              "    }\n",
              "</style>\n",
              "<table border=\"1\" class=\"dataframe\">\n",
              "  <thead>\n",
              "    <tr style=\"text-align: right;\">\n",
              "      <th></th>\n",
              "      <th>Recency</th>\n",
              "      <th>Wine</th>\n",
              "      <th>Fruit</th>\n",
              "      <th>Meat</th>\n",
              "      <th>Fish</th>\n",
              "      <th>Sweet</th>\n",
              "      <th>Gold</th>\n",
              "      <th>NumDealsPurchases</th>\n",
              "      <th>NumWebPurchases</th>\n",
              "      <th>NumCatalogPurchases</th>\n",
              "      <th>NumStorePurchases</th>\n",
              "      <th>NumWebVisitsMonth</th>\n",
              "      <th>Campaign3</th>\n",
              "      <th>Campaign4</th>\n",
              "      <th>Campaign5</th>\n",
              "      <th>Campaign1</th>\n",
              "      <th>Campaign2</th>\n",
              "      <th>Complain</th>\n",
              "      <th>Campaign6</th>\n",
              "      <th>totalPurchase</th>\n",
              "    </tr>\n",
              "  </thead>\n",
              "  <tbody>\n",
              "    <tr>\n",
              "      <th>0</th>\n",
              "      <td>58</td>\n",
              "      <td>635</td>\n",
              "      <td>88</td>\n",
              "      <td>546</td>\n",
              "      <td>172</td>\n",
              "      <td>88</td>\n",
              "      <td>88</td>\n",
              "      <td>3</td>\n",
              "      <td>8</td>\n",
              "      <td>10</td>\n",
              "      <td>4</td>\n",
              "      <td>7</td>\n",
              "      <td>0</td>\n",
              "      <td>0</td>\n",
              "      <td>0</td>\n",
              "      <td>0</td>\n",
              "      <td>0</td>\n",
              "      <td>0</td>\n",
              "      <td>1</td>\n",
              "      <td>25</td>\n",
              "    </tr>\n",
              "    <tr>\n",
              "      <th>1</th>\n",
              "      <td>38</td>\n",
              "      <td>11</td>\n",
              "      <td>1</td>\n",
              "      <td>6</td>\n",
              "      <td>2</td>\n",
              "      <td>1</td>\n",
              "      <td>6</td>\n",
              "      <td>2</td>\n",
              "      <td>1</td>\n",
              "      <td>1</td>\n",
              "      <td>2</td>\n",
              "      <td>5</td>\n",
              "      <td>0</td>\n",
              "      <td>0</td>\n",
              "      <td>0</td>\n",
              "      <td>0</td>\n",
              "      <td>0</td>\n",
              "      <td>0</td>\n",
              "      <td>0</td>\n",
              "      <td>6</td>\n",
              "    </tr>\n",
              "    <tr>\n",
              "      <th>2</th>\n",
              "      <td>26</td>\n",
              "      <td>426</td>\n",
              "      <td>49</td>\n",
              "      <td>127</td>\n",
              "      <td>111</td>\n",
              "      <td>21</td>\n",
              "      <td>42</td>\n",
              "      <td>1</td>\n",
              "      <td>8</td>\n",
              "      <td>2</td>\n",
              "      <td>10</td>\n",
              "      <td>4</td>\n",
              "      <td>0</td>\n",
              "      <td>0</td>\n",
              "      <td>0</td>\n",
              "      <td>0</td>\n",
              "      <td>0</td>\n",
              "      <td>0</td>\n",
              "      <td>0</td>\n",
              "      <td>21</td>\n",
              "    </tr>\n",
              "    <tr>\n",
              "      <th>3</th>\n",
              "      <td>26</td>\n",
              "      <td>11</td>\n",
              "      <td>4</td>\n",
              "      <td>20</td>\n",
              "      <td>10</td>\n",
              "      <td>3</td>\n",
              "      <td>5</td>\n",
              "      <td>2</td>\n",
              "      <td>2</td>\n",
              "      <td>0</td>\n",
              "      <td>4</td>\n",
              "      <td>6</td>\n",
              "      <td>0</td>\n",
              "      <td>0</td>\n",
              "      <td>0</td>\n",
              "      <td>0</td>\n",
              "      <td>0</td>\n",
              "      <td>0</td>\n",
              "      <td>0</td>\n",
              "      <td>8</td>\n",
              "    </tr>\n",
              "    <tr>\n",
              "      <th>4</th>\n",
              "      <td>94</td>\n",
              "      <td>173</td>\n",
              "      <td>43</td>\n",
              "      <td>118</td>\n",
              "      <td>46</td>\n",
              "      <td>27</td>\n",
              "      <td>15</td>\n",
              "      <td>5</td>\n",
              "      <td>5</td>\n",
              "      <td>3</td>\n",
              "      <td>6</td>\n",
              "      <td>5</td>\n",
              "      <td>0</td>\n",
              "      <td>0</td>\n",
              "      <td>0</td>\n",
              "      <td>0</td>\n",
              "      <td>0</td>\n",
              "      <td>0</td>\n",
              "      <td>0</td>\n",
              "      <td>19</td>\n",
              "    </tr>\n",
              "    <tr>\n",
              "      <th>...</th>\n",
              "      <td>...</td>\n",
              "      <td>...</td>\n",
              "      <td>...</td>\n",
              "      <td>...</td>\n",
              "      <td>...</td>\n",
              "      <td>...</td>\n",
              "      <td>...</td>\n",
              "      <td>...</td>\n",
              "      <td>...</td>\n",
              "      <td>...</td>\n",
              "      <td>...</td>\n",
              "      <td>...</td>\n",
              "      <td>...</td>\n",
              "      <td>...</td>\n",
              "      <td>...</td>\n",
              "      <td>...</td>\n",
              "      <td>...</td>\n",
              "      <td>...</td>\n",
              "      <td>...</td>\n",
              "      <td>...</td>\n",
              "    </tr>\n",
              "    <tr>\n",
              "      <th>2235</th>\n",
              "      <td>46</td>\n",
              "      <td>709</td>\n",
              "      <td>43</td>\n",
              "      <td>182</td>\n",
              "      <td>42</td>\n",
              "      <td>118</td>\n",
              "      <td>247</td>\n",
              "      <td>2</td>\n",
              "      <td>9</td>\n",
              "      <td>3</td>\n",
              "      <td>4</td>\n",
              "      <td>5</td>\n",
              "      <td>0</td>\n",
              "      <td>0</td>\n",
              "      <td>0</td>\n",
              "      <td>0</td>\n",
              "      <td>0</td>\n",
              "      <td>0</td>\n",
              "      <td>0</td>\n",
              "      <td>18</td>\n",
              "    </tr>\n",
              "    <tr>\n",
              "      <th>2236</th>\n",
              "      <td>56</td>\n",
              "      <td>406</td>\n",
              "      <td>0</td>\n",
              "      <td>30</td>\n",
              "      <td>0</td>\n",
              "      <td>0</td>\n",
              "      <td>8</td>\n",
              "      <td>7</td>\n",
              "      <td>8</td>\n",
              "      <td>2</td>\n",
              "      <td>5</td>\n",
              "      <td>7</td>\n",
              "      <td>0</td>\n",
              "      <td>0</td>\n",
              "      <td>0</td>\n",
              "      <td>1</td>\n",
              "      <td>0</td>\n",
              "      <td>0</td>\n",
              "      <td>0</td>\n",
              "      <td>22</td>\n",
              "    </tr>\n",
              "    <tr>\n",
              "      <th>2237</th>\n",
              "      <td>91</td>\n",
              "      <td>908</td>\n",
              "      <td>48</td>\n",
              "      <td>217</td>\n",
              "      <td>32</td>\n",
              "      <td>12</td>\n",
              "      <td>24</td>\n",
              "      <td>1</td>\n",
              "      <td>2</td>\n",
              "      <td>3</td>\n",
              "      <td>13</td>\n",
              "      <td>6</td>\n",
              "      <td>0</td>\n",
              "      <td>1</td>\n",
              "      <td>0</td>\n",
              "      <td>0</td>\n",
              "      <td>0</td>\n",
              "      <td>0</td>\n",
              "      <td>0</td>\n",
              "      <td>19</td>\n",
              "    </tr>\n",
              "    <tr>\n",
              "      <th>2238</th>\n",
              "      <td>8</td>\n",
              "      <td>428</td>\n",
              "      <td>30</td>\n",
              "      <td>214</td>\n",
              "      <td>80</td>\n",
              "      <td>30</td>\n",
              "      <td>61</td>\n",
              "      <td>2</td>\n",
              "      <td>6</td>\n",
              "      <td>5</td>\n",
              "      <td>10</td>\n",
              "      <td>3</td>\n",
              "      <td>0</td>\n",
              "      <td>0</td>\n",
              "      <td>0</td>\n",
              "      <td>0</td>\n",
              "      <td>0</td>\n",
              "      <td>0</td>\n",
              "      <td>0</td>\n",
              "      <td>23</td>\n",
              "    </tr>\n",
              "    <tr>\n",
              "      <th>2239</th>\n",
              "      <td>40</td>\n",
              "      <td>84</td>\n",
              "      <td>3</td>\n",
              "      <td>61</td>\n",
              "      <td>2</td>\n",
              "      <td>1</td>\n",
              "      <td>21</td>\n",
              "      <td>3</td>\n",
              "      <td>3</td>\n",
              "      <td>1</td>\n",
              "      <td>4</td>\n",
              "      <td>7</td>\n",
              "      <td>0</td>\n",
              "      <td>0</td>\n",
              "      <td>0</td>\n",
              "      <td>0</td>\n",
              "      <td>0</td>\n",
              "      <td>0</td>\n",
              "      <td>1</td>\n",
              "      <td>11</td>\n",
              "    </tr>\n",
              "  </tbody>\n",
              "</table>\n",
              "<p>2212 rows × 20 columns</p>\n",
              "</div>\n",
              "      <button class=\"colab-df-convert\" onclick=\"convertToInteractive('df-8e26b89c-fd89-41f6-95f0-bbd7087b06f6')\"\n",
              "              title=\"Convert this dataframe to an interactive table.\"\n",
              "              style=\"display:none;\">\n",
              "        \n",
              "  <svg xmlns=\"http://www.w3.org/2000/svg\" height=\"24px\"viewBox=\"0 0 24 24\"\n",
              "       width=\"24px\">\n",
              "    <path d=\"M0 0h24v24H0V0z\" fill=\"none\"/>\n",
              "    <path d=\"M18.56 5.44l.94 2.06.94-2.06 2.06-.94-2.06-.94-.94-2.06-.94 2.06-2.06.94zm-11 1L8.5 8.5l.94-2.06 2.06-.94-2.06-.94L8.5 2.5l-.94 2.06-2.06.94zm10 10l.94 2.06.94-2.06 2.06-.94-2.06-.94-.94-2.06-.94 2.06-2.06.94z\"/><path d=\"M17.41 7.96l-1.37-1.37c-.4-.4-.92-.59-1.43-.59-.52 0-1.04.2-1.43.59L10.3 9.45l-7.72 7.72c-.78.78-.78 2.05 0 2.83L4 21.41c.39.39.9.59 1.41.59.51 0 1.02-.2 1.41-.59l7.78-7.78 2.81-2.81c.8-.78.8-2.07 0-2.86zM5.41 20L4 18.59l7.72-7.72 1.47 1.35L5.41 20z\"/>\n",
              "  </svg>\n",
              "      </button>\n",
              "      \n",
              "  <style>\n",
              "    .colab-df-container {\n",
              "      display:flex;\n",
              "      flex-wrap:wrap;\n",
              "      gap: 12px;\n",
              "    }\n",
              "\n",
              "    .colab-df-convert {\n",
              "      background-color: #E8F0FE;\n",
              "      border: none;\n",
              "      border-radius: 50%;\n",
              "      cursor: pointer;\n",
              "      display: none;\n",
              "      fill: #1967D2;\n",
              "      height: 32px;\n",
              "      padding: 0 0 0 0;\n",
              "      width: 32px;\n",
              "    }\n",
              "\n",
              "    .colab-df-convert:hover {\n",
              "      background-color: #E2EBFA;\n",
              "      box-shadow: 0px 1px 2px rgba(60, 64, 67, 0.3), 0px 1px 3px 1px rgba(60, 64, 67, 0.15);\n",
              "      fill: #174EA6;\n",
              "    }\n",
              "\n",
              "    [theme=dark] .colab-df-convert {\n",
              "      background-color: #3B4455;\n",
              "      fill: #D2E3FC;\n",
              "    }\n",
              "\n",
              "    [theme=dark] .colab-df-convert:hover {\n",
              "      background-color: #434B5C;\n",
              "      box-shadow: 0px 1px 3px 1px rgba(0, 0, 0, 0.15);\n",
              "      filter: drop-shadow(0px 1px 2px rgba(0, 0, 0, 0.3));\n",
              "      fill: #FFFFFF;\n",
              "    }\n",
              "  </style>\n",
              "\n",
              "      <script>\n",
              "        const buttonEl =\n",
              "          document.querySelector('#df-8e26b89c-fd89-41f6-95f0-bbd7087b06f6 button.colab-df-convert');\n",
              "        buttonEl.style.display =\n",
              "          google.colab.kernel.accessAllowed ? 'block' : 'none';\n",
              "\n",
              "        async function convertToInteractive(key) {\n",
              "          const element = document.querySelector('#df-8e26b89c-fd89-41f6-95f0-bbd7087b06f6');\n",
              "          const dataTable =\n",
              "            await google.colab.kernel.invokeFunction('convertToInteractive',\n",
              "                                                     [key], {});\n",
              "          if (!dataTable) return;\n",
              "\n",
              "          const docLinkHtml = 'Like what you see? Visit the ' +\n",
              "            '<a target=\"_blank\" href=https://colab.research.google.com/notebooks/data_table.ipynb>data table notebook</a>'\n",
              "            + ' to learn more about interactive tables.';\n",
              "          element.innerHTML = '';\n",
              "          dataTable['output_type'] = 'display_data';\n",
              "          await google.colab.output.renderOutput(dataTable, element);\n",
              "          const docLink = document.createElement('div');\n",
              "          docLink.innerHTML = docLinkHtml;\n",
              "          element.appendChild(docLink);\n",
              "        }\n",
              "      </script>\n",
              "    </div>\n",
              "  </div>\n",
              "  "
            ]
          },
          "metadata": {},
          "execution_count": 47
        }
      ],
      "source": [
        "#mengambil kolom perilaku dan disimpan paa variabel df_behavior\n",
        "df_behavior = df.iloc[:, 8:-2]\n",
        "df_behavior"
      ]
    },
    {
      "cell_type": "markdown",
      "source": [
        "## METODE CLUSTERING YANG DIPILIH"
      ],
      "metadata": {
        "id": "gJ4Bs87jyy2O"
      }
    },
    {
      "cell_type": "markdown",
      "source": [
        "metode clustering yang kami pilih berasal dari 3 jenis clustering yang berbeda, yaitu K-Means dari centroid-based clustering, DBSCAn dari density based clustering, dan Agglomerative clustering. Tujuannya adalah agar dapat membandingkan jenis clustering mana yang paling baik untuk digunakan."
      ],
      "metadata": {
        "id": "GtEJvUMty3pu"
      }
    },
    {
      "cell_type": "markdown",
      "source": [
        "# **G. MODELING**"
      ],
      "metadata": {
        "id": "hr2b_3WbgBw1"
      }
    },
    {
      "cell_type": "markdown",
      "metadata": {
        "id": "mznmy45NCTyh"
      },
      "source": [
        "##8. METODE USULAN: KMEANS"
      ]
    },
    {
      "cell_type": "markdown",
      "metadata": {
        "id": "65ZrsuMSCOWy"
      },
      "source": [
        "### Menentukan jumlah cluster dengan Elbow Method"
      ]
    },
    {
      "cell_type": "code",
      "execution_count": 48,
      "metadata": {
        "colab": {
          "base_uri": "https://localhost:8080/",
          "height": 632
        },
        "id": "Mv9R0_vMCTyi",
        "outputId": "b74e228f-7795-492a-c2b7-7e83e66a6cb6"
      },
      "outputs": [
        {
          "output_type": "stream",
          "name": "stdout",
          "text": [
            "Looking in indexes: https://pypi.org/simple, https://us-python.pkg.dev/colab-wheels/public/simple/\n",
            "Requirement already satisfied: kneed in /usr/local/lib/python3.9/dist-packages (0.8.2)\n",
            "Requirement already satisfied: scipy>=1.0.0 in /usr/local/lib/python3.9/dist-packages (from kneed) (1.10.1)\n",
            "Requirement already satisfied: numpy>=1.14.2 in /usr/local/lib/python3.9/dist-packages (from kneed) (1.22.4)\n",
            "Knee:  3\n"
          ]
        },
        {
          "output_type": "display_data",
          "data": {
            "text/plain": [
              "<Figure size 600x600 with 1 Axes>"
            ],
            "image/png": "[encoded data removed]"
          },
          "metadata": {}
        }
      ],
      "source": [
        "#import library\n",
        "import matplotlib.pyplot as plt\n",
        "! pip install kneed\n",
        "import kneed\n",
        "from kneed import KneeLocator\n",
        "from sklearn.cluster import KMeans\n",
        "from sklearn.metrics import silhouette_score\n",
        "from sklearn.preprocessing import StandardScaler\n",
        "\n",
        "#menyamakan skala data\n",
        "scaler = StandardScaler()\n",
        "scaled_features = scaler.fit_transform(df_behavior)\n",
        "\n",
        "#inisialisasi list untuk menyimpan error\n",
        "sse = []\n",
        "#melakukan clustering dengan jumlah cluster 1-10\n",
        "for k in range(1, 11):\n",
        "  kmeans = KMeans(n_clusters=k, init=\"random\", n_init=10, max_iter=300, random_state=42)\n",
        "  kmeans.fit(scaled_features)\n",
        "  #menyimpan error\n",
        "  sse.append(kmeans.inertia_)\n",
        "\n",
        "#menggunakan library kneelocator untuk mencari knee pada elbow method\n",
        "kneedle = kneed.KneeLocator(range(1, 11), sse, curve=\"convex\", direction=\"decreasing\")\n",
        "knee_point = kneedle.knee\n",
        "print('Knee: ', knee_point)\n",
        "kneedle.plot_knee()"
      ]
    },
    {
      "cell_type": "markdown",
      "metadata": {
        "id": "qxWuVqdKBtge"
      },
      "source": [
        "Melakukan clustering dengan metode K-Means membutuhkan inisialisasi jumlah cluster yang ingin dibentuk. Untuk menemukan jumlah cluster yang optimal, salah satu metode yang bisa digunakan adalah dengan menggunakan \"Elbow Method\". Berdasarkan Elbow Method yang telah dilakukan diatas, maka jumlah cluster yang optimal untuk digunakan adalah sebanyak 3 cluster"
      ]
    },
    {
      "cell_type": "markdown",
      "metadata": {
        "id": "95z-Ep4mCUm-"
      },
      "source": [
        "### Melakukan clustering K-Means dengan jumlah cluster = 3"
      ]
    },
    {
      "cell_type": "code",
      "execution_count": 49,
      "metadata": {
        "colab": {
          "base_uri": "https://localhost:8080/"
        },
        "id": "puNB25anCTyi",
        "outputId": "010b6d21-3bbb-4366-f183-ae3a6a55c1e1"
      },
      "outputs": [
        {
          "output_type": "stream",
          "name": "stdout",
          "text": [
            "shillouette score:  0.28613872076840513\n",
            "Cluster:  [0 1 2]\n"
          ]
        }
      ],
      "source": [
        "#inisialisasi model\n",
        "kmeans = KMeans(init=\"random\", n_clusters=3, n_init=10, max_iter=300, random_state=42)\n",
        "\n",
        "#inisialisasi dictionary untuk menyimpan shillouette score\n",
        "score_compare = {}\n",
        "#fit dataframe\n",
        "kmeans.fit(scaled_features)\n",
        "#mengambil label\n",
        "kmeansClusters=kmeans.labels_\n",
        "#menghitung shillouette score\n",
        "score = silhouette_score(scaled_features, kmeansClusters)\n",
        "#menyimpan shillouette score pada dictionary\n",
        "score_compare.update({\"kmeans\": score})\n",
        "print(\"shillouette score: \", score)\n",
        "print(\"Cluster: \", np.unique(kmeansClusters))"
      ]
    },
    {
      "cell_type": "markdown",
      "metadata": {
        "id": "YNz0AJLSz6Te"
      },
      "source": [
        "##9. METODE PEMBANDING 1: DBSCAN"
      ]
    },
    {
      "cell_type": "markdown",
      "metadata": {
        "id": "Q7wcj_YQCf9S"
      },
      "source": [
        "DBSCAN atau \"Density-based spatial clustering of applications with noise\" adalah salah satu metode clustering yang berbasis kerapatan atau *density based*. Metode ini tidak membutuhkan inisialisasi jumlah cluster, hanya membutuhkan inisialisasi \"min_pts\", yaitu jumlah minimal data didalam sebuah cluster, dan inisialisasi \"eps\" yaitu jarak maksimal antara titik-titik dalam sebuah cluster.\n",
        "<br><br>\n",
        "*rule of thumb* untuk estimasi parameter dalam DBSCAN adalah sebagai berikut:\n",
        "<br>\n",
        "1. min_pts gunakan 2(jumlah kolom)\n",
        "2. eps gunakan jarak antara min_pts\n",
        "\n",
        "maka, pada percobaan kali ini digunakan 2(20) untuk min_pts"
      ]
    },
    {
      "cell_type": "code",
      "execution_count": 50,
      "metadata": {
        "colab": {
          "base_uri": "https://localhost:8080/",
          "height": 562
        },
        "id": "y8JBaF-fFeKH",
        "outputId": "50f38e03-bbf6-4404-cf18-aa6c6958a2eb"
      },
      "outputs": [
        {
          "output_type": "stream",
          "name": "stdout",
          "text": [
            "Knee:  2144\n"
          ]
        },
        {
          "output_type": "display_data",
          "data": {
            "text/plain": [
              "<Figure size 600x600 with 1 Axes>"
            ],
            "image/png": "[encoded data removed]"
          },
          "metadata": {}
        }
      ],
      "source": [
        "#import library\n",
        "from sklearn.neighbors import NearestNeighbors\n",
        "from matplotlib import pyplot as plt\n",
        "#inisialisasi model NN\n",
        "neighbors = NearestNeighbors(n_neighbors=40)\n",
        "#melakukan fitting model\n",
        "neighbors_fit = neighbors.fit(df_behavior)\n",
        "distances, indices = neighbors_fit.kneighbors(df_behavior)\n",
        "distances = np.sort(distances, axis=0)\n",
        "distances = distances[:,1]\n",
        "#mencari knee point pada elbow method dengan kneelocator\n",
        "kneedle = kneed.KneeLocator(range(1, 2213), distances, curve=\"convex\")\n",
        "knee_point = kneedle.knee\n",
        "print('Knee: ', knee_point)\n",
        "kneedle.plot_knee()"
      ]
    },
    {
      "cell_type": "code",
      "execution_count": 51,
      "metadata": {
        "colab": {
          "base_uri": "https://localhost:8080/"
        },
        "id": "PgYmVch0xJBX",
        "outputId": "9d5f6e51-ef7d-46d9-d5ed-14ab405a38ce"
      },
      "outputs": [
        {
          "output_type": "stream",
          "name": "stdout",
          "text": [
            "Cluster:  [0]\n"
          ]
        }
      ],
      "source": [
        "#import library\n",
        "from sklearn.cluster import DBSCAN\n",
        "#inisialisasi model\n",
        "dbscan = DBSCAN(eps=2144, min_samples=40).fit(df_behavior)\n",
        "#mengambil label\n",
        "dbscanClusters = dbscan.labels_\n",
        "#menyimpan nan sebagai shillouette score\n",
        "score_compare.update({\"dbscan\": np.nan})\n",
        "print(\"Cluster: \", np.unique(dbscanClusters))"
      ]
    },
    {
      "cell_type": "markdown",
      "metadata": {
        "id": "PofpYGKtMQP1"
      },
      "source": [
        "hasil yang ditemukan adalah hanya 1 cluster yang dibentuk oleh DBSCAN. Karena DBSCAN menggunakan kerapatan sebagai dasar dari clustering, maka hasil tersebut menunjukkan bahwa data yang digunakan pada penelitian ini memiliki kerapatan yang tinggi, sehingga DBSCAN tidak dapat menghasilkan performa yang optimal"
      ]
    },
    {
      "cell_type": "markdown",
      "metadata": {
        "id": "3q9zhgWO0ECr"
      },
      "source": [
        "##10. METODE PEMBANDING 2: AGGLOMERATIVE CLUSTERING\n",
        "\n"
      ]
    },
    {
      "cell_type": "markdown",
      "metadata": {
        "id": "z8LafXOdNAxb"
      },
      "source": [
        "Agglomerative Clustering adalah metode clustering dimana setiap titik merupakan cluster tersendiri, kemudian dilakukan penggabungan atas cluster-cluster yang memiliki kemiripan, sehingga membuat cluster baru yang lebih besar. Metode ini membutuhkan inisialisasi jumlah cluster. Salah satu metode untuk mencari jumlah cluster optimal pada metode ini adalah dengan menggunakan diagram dendogram"
      ]
    },
    {
      "cell_type": "markdown",
      "metadata": {
        "id": "5ohDNiNtO0OY"
      },
      "source": [
        "## Membuat dendogram"
      ]
    },
    {
      "cell_type": "code",
      "execution_count": 52,
      "metadata": {
        "colab": {
          "base_uri": "https://localhost:8080/",
          "height": 626
        },
        "id": "vAC4GNwr7ULb",
        "outputId": "a320985a-9967-4488-ebfd-561473e3d221"
      },
      "outputs": [
        {
          "output_type": "display_data",
          "data": {
            "text/plain": [
              "<Figure size 1000x700 with 1 Axes>"
            ],
            "image/png": "[encoded data removed]"
          },
          "metadata": {}
        }
      ],
      "source": [
        "#import library\n",
        "import scipy.cluster.hierarchy as shc\n",
        "plt.figure(figsize=(10, 7))  \n",
        "plt.title(\"Dendrograms\")  \n",
        "#membuat dendogram dengan library scipy cluster hierarcy\n",
        "dend = shc.dendrogram(shc.linkage(scaled_features, method='ward'))"
      ]
    },
    {
      "cell_type": "markdown",
      "metadata": {
        "id": "t4V_VxwTO4AB"
      },
      "source": [
        "berdasarkan warna pada dendogram (biru, oranye, dan hijau), maka dapat disimpulkan bahwa jumlah cluster optimal untuk dibentuk adalah sebanyak 3 cluster. Kemudian dapat dilakukan clustering menggunakan agglomerative clustering dengan jumlah cluster sebanyak 3"
      ]
    },
    {
      "cell_type": "markdown",
      "metadata": {
        "id": "73CGl5kAPsCr"
      },
      "source": [
        "## Melakukan clustering dengan jumlah cluster = 3"
      ]
    },
    {
      "cell_type": "code",
      "execution_count": 53,
      "metadata": {
        "colab": {
          "base_uri": "https://localhost:8080/"
        },
        "id": "ULua4c51_DDl",
        "outputId": "8ba37348-10c2-4470-c473-8cbb4aa9010e"
      },
      "outputs": [
        {
          "output_type": "stream",
          "name": "stderr",
          "text": [
            "/usr/local/lib/python3.9/dist-packages/sklearn/cluster/_agglomerative.py:983: FutureWarning: Attribute `affinity` was deprecated in version 1.2 and will be removed in 1.4. Use `metric` instead\n",
            "  warnings.warn(\n"
          ]
        },
        {
          "output_type": "stream",
          "name": "stdout",
          "text": [
            "shillouette score:  0.2692888124969939\n",
            "Cluster:  [0 1 2]\n"
          ]
        }
      ],
      "source": [
        "#import library\n",
        "from sklearn.cluster import AgglomerativeClustering\n",
        "#inisialisasi model dan fitting\n",
        "wClusters = AgglomerativeClustering(n_clusters=3, affinity='euclidean', linkage='ward').fit_predict(scaled_features)\n",
        "#menghitung shilloutte score\n",
        "score = silhouette_score(df_behavior, wClusters)\n",
        "#menyimpan shillouette score\n",
        "score_compare.update({\"Agglomerative\": score})\n",
        "print(\"shillouette score: \", score)\n",
        "print(\"Cluster: \", np.unique(wClusters))"
      ]
    },
    {
      "cell_type": "markdown",
      "source": [
        "#**H. EVALUATION**"
      ],
      "metadata": {
        "id": "fTYpNVhEgQu1"
      }
    },
    {
      "cell_type": "markdown",
      "metadata": {
        "id": "_p0nhxfKPzCg"
      },
      "source": [
        "##11. PERBANDINGAN CLUSTERING"
      ]
    },
    {
      "cell_type": "code",
      "source": [
        "#visualisasi shillouette score\n",
        "plt.title(\"Perbandingan shillouette score\")\n",
        "plt.bar(score_compare.keys(), score_compare.values())"
      ],
      "metadata": {
        "colab": {
          "base_uri": "https://localhost:8080/",
          "height": 469
        },
        "id": "8d9cfaUBiXms",
        "outputId": "0e07df14-bfea-49d4-daec-3f3fad00d777"
      },
      "execution_count": 54,
      "outputs": [
        {
          "output_type": "execute_result",
          "data": {
            "text/plain": [
              "<BarContainer object of 3 artists>"
            ]
          },
          "metadata": {},
          "execution_count": 54
        },
        {
          "output_type": "display_data",
          "data": {
            "text/plain": [
              "<Figure size 640x480 with 1 Axes>"
            ],
            "image/png": "[encoded data removed]"
          },
          "metadata": {}
        }
      ]
    },
    {
      "cell_type": "markdown",
      "metadata": {
        "id": "WOZ5ywAdP-Bx"
      },
      "source": [
        "dari ketiga metode yang diteliti, maka perbandingan evaluasi dengan menggunakan shillouette coefficient adalah sebagai berikut:\n",
        "\n",
        "1.   K-Means: 0.28\n",
        "2.   DBSCAN: tidak dapat dihitung karena tidak ada cluster yang terbentuk\n",
        "3.   Agglomerative: 0.26\n",
        "\n",
        "Shillouette Coefficient memiliki rentang dari -1 sampai dengan 1, dimana semakin besar skornya, maka semakin baik cluster yang terbentuk. Maka, berdasarkan shillouette coefficient yang didapat, K-Means merupakan metode yang terbaik, sehingga untuk tahapan berikutnya, cluster dari metode K-Means lah yang akan dipakai.\n",
        "\n"
      ]
    },
    {
      "cell_type": "markdown",
      "metadata": {
        "id": "4A6W50YCUcDj"
      },
      "source": [
        "## Membuat kolom cluster pada dataframe, dan memasukkan nilai cluster dari K-Means"
      ]
    },
    {
      "cell_type": "code",
      "execution_count": 55,
      "metadata": {
        "colab": {
          "base_uri": "https://localhost:8080/",
          "height": 487
        },
        "id": "mvl2GkIXCTyi",
        "outputId": "3ab96529-d2ee-4ca4-ae11-6a3352b9035c"
      },
      "outputs": [
        {
          "output_type": "execute_result",
          "data": {
            "text/plain": [
              "      Cluster     ID  Year_Birth Education Marital_Status Income  Kidhome  \\\n",
              "0           2   5524        1957  Bachelor         Single    mid        0   \n",
              "1           1   2174        1954  Bachelor         Single    mid        1   \n",
              "2           2   4141        1965  Bachelor          Taken    mid        0   \n",
              "3           1   6182        1984  Bachelor          Taken    low        1   \n",
              "4           2   5324        1981       PhD          Taken    mid        1   \n",
              "...       ...    ...         ...       ...            ...    ...      ...   \n",
              "2235        2  10870        1967  Bachelor          Taken    mid        0   \n",
              "2236        1   4001        1946       PhD          Taken    mid        2   \n",
              "2237        2   7270        1981  Bachelor         Single    mid        0   \n",
              "2238        2   8235        1956    Master          Taken    mid        0   \n",
              "2239        1   9405        1954       PhD          Taken    mid        1   \n",
              "\n",
              "      Teenhome Dt_Customer  Recency  ...  Campaign3  Campaign4  Campaign5  \\\n",
              "0            0  04-09-2012       58  ...          0          0          0   \n",
              "1            1  08-03-2014       38  ...          0          0          0   \n",
              "2            0  21-08-2013       26  ...          0          0          0   \n",
              "3            0  10-02-2014       26  ...          0          0          0   \n",
              "4            0  19-01-2014       94  ...          0          0          0   \n",
              "...        ...         ...      ...  ...        ...        ...        ...   \n",
              "2235         1  13-06-2013       46  ...          0          0          0   \n",
              "2236         1  10-06-2014       56  ...          0          0          0   \n",
              "2237         0  25-01-2014       91  ...          0          1          0   \n",
              "2238         1  24-01-2014        8  ...          0          0          0   \n",
              "2239         1  15-10-2012       40  ...          0          0          0   \n",
              "\n",
              "      Campaign1  Campaign2  Complain  Campaign6  totalPurchase   totalSpend  \\\n",
              "0             0          0         0          1             25  highSpender   \n",
              "1             0          0         0          0              6   lowSpender   \n",
              "2             0          0         0          0             21   midSpender   \n",
              "3             0          0         0          0              8   lowSpender   \n",
              "4             0          0         0          0             19   lowSpender   \n",
              "...         ...        ...       ...        ...            ...          ...   \n",
              "2235          0          0         0          0             18  highSpender   \n",
              "2236          1          0         0          0             22   lowSpender   \n",
              "2237          0          0         0          0             19   midSpender   \n",
              "2238          0          0         0          0             23   midSpender   \n",
              "2239          0          0         0          1             11   lowSpender   \n",
              "\n",
              "              Age  \n",
              "0           elder  \n",
              "1           elder  \n",
              "2      middle_age  \n",
              "3     young_adult  \n",
              "4      middle_age  \n",
              "...           ...  \n",
              "2235   middle_age  \n",
              "2236        elder  \n",
              "2237   middle_age  \n",
              "2238        elder  \n",
              "2239        elder  \n",
              "\n",
              "[2212 rows x 31 columns]"
            ],
            "text/html": [
              "\n",
              "  <div id=\"df-7ef6a4c4-da96-442b-8498-1f4c4e048a21\">\n",
              "    <div class=\"colab-df-container\">\n",
              "      <div>\n",
              "<style scoped>\n",
              "    .dataframe tbody tr th:only-of-type {\n",
              "        vertical-align: middle;\n",
              "    }\n",
              "\n",
              "    .dataframe tbody tr th {\n",
              "        vertical-align: top;\n",
              "    }\n",
              "\n",
              "    .dataframe thead th {\n",
              "        text-align: right;\n",
              "    }\n",
              "</style>\n",
              "<table border=\"1\" class=\"dataframe\">\n",
              "  <thead>\n",
              "    <tr style=\"text-align: right;\">\n",
              "      <th></th>\n",
              "      <th>Cluster</th>\n",
              "      <th>ID</th>\n",
              "      <th>Year_Birth</th>\n",
              "      <th>Education</th>\n",
              "      <th>Marital_Status</th>\n",
              "      <th>Income</th>\n",
              "      <th>Kidhome</th>\n",
              "      <th>Teenhome</th>\n",
              "      <th>Dt_Customer</th>\n",
              "      <th>Recency</th>\n",
              "      <th>...</th>\n",
              "      <th>Campaign3</th>\n",
              "      <th>Campaign4</th>\n",
              "      <th>Campaign5</th>\n",
              "      <th>Campaign1</th>\n",
              "      <th>Campaign2</th>\n",
              "      <th>Complain</th>\n",
              "      <th>Campaign6</th>\n",
              "      <th>totalPurchase</th>\n",
              "      <th>totalSpend</th>\n",
              "      <th>Age</th>\n",
              "    </tr>\n",
              "  </thead>\n",
              "  <tbody>\n",
              "    <tr>\n",
              "      <th>0</th>\n",
              "      <td>2</td>\n",
              "      <td>5524</td>\n",
              "      <td>1957</td>\n",
              "      <td>Bachelor</td>\n",
              "      <td>Single</td>\n",
              "      <td>mid</td>\n",
              "      <td>0</td>\n",
              "      <td>0</td>\n",
              "      <td>04-09-2012</td>\n",
              "      <td>58</td>\n",
              "      <td>...</td>\n",
              "      <td>0</td>\n",
              "      <td>0</td>\n",
              "      <td>0</td>\n",
              "      <td>0</td>\n",
              "      <td>0</td>\n",
              "      <td>0</td>\n",
              "      <td>1</td>\n",
              "      <td>25</td>\n",
              "      <td>highSpender</td>\n",
              "      <td>elder</td>\n",
              "    </tr>\n",
              "    <tr>\n",
              "      <th>1</th>\n",
              "      <td>1</td>\n",
              "      <td>2174</td>\n",
              "      <td>1954</td>\n",
              "      <td>Bachelor</td>\n",
              "      <td>Single</td>\n",
              "      <td>mid</td>\n",
              "      <td>1</td>\n",
              "      <td>1</td>\n",
              "      <td>08-03-2014</td>\n",
              "      <td>38</td>\n",
              "      <td>...</td>\n",
              "      <td>0</td>\n",
              "      <td>0</td>\n",
              "      <td>0</td>\n",
              "      <td>0</td>\n",
              "      <td>0</td>\n",
              "      <td>0</td>\n",
              "      <td>0</td>\n",
              "      <td>6</td>\n",
              "      <td>lowSpender</td>\n",
              "      <td>elder</td>\n",
              "    </tr>\n",
              "    <tr>\n",
              "      <th>2</th>\n",
              "      <td>2</td>\n",
              "      <td>4141</td>\n",
              "      <td>1965</td>\n",
              "      <td>Bachelor</td>\n",
              "      <td>Taken</td>\n",
              "      <td>mid</td>\n",
              "      <td>0</td>\n",
              "      <td>0</td>\n",
              "      <td>21-08-2013</td>\n",
              "      <td>26</td>\n",
              "      <td>...</td>\n",
              "      <td>0</td>\n",
              "      <td>0</td>\n",
              "      <td>0</td>\n",
              "      <td>0</td>\n",
              "      <td>0</td>\n",
              "      <td>0</td>\n",
              "      <td>0</td>\n",
              "      <td>21</td>\n",
              "      <td>midSpender</td>\n",
              "      <td>middle_age</td>\n",
              "    </tr>\n",
              "    <tr>\n",
              "      <th>3</th>\n",
              "      <td>1</td>\n",
              "      <td>6182</td>\n",
              "      <td>1984</td>\n",
              "      <td>Bachelor</td>\n",
              "      <td>Taken</td>\n",
              "      <td>low</td>\n",
              "      <td>1</td>\n",
              "      <td>0</td>\n",
              "      <td>10-02-2014</td>\n",
              "      <td>26</td>\n",
              "      <td>...</td>\n",
              "      <td>0</td>\n",
              "      <td>0</td>\n",
              "      <td>0</td>\n",
              "      <td>0</td>\n",
              "      <td>0</td>\n",
              "      <td>0</td>\n",
              "      <td>0</td>\n",
              "      <td>8</td>\n",
              "      <td>lowSpender</td>\n",
              "      <td>young_adult</td>\n",
              "    </tr>\n",
              "    <tr>\n",
              "      <th>4</th>\n",
              "      <td>2</td>\n",
              "      <td>5324</td>\n",
              "      <td>1981</td>\n",
              "      <td>PhD</td>\n",
              "      <td>Taken</td>\n",
              "      <td>mid</td>\n",
              "      <td>1</td>\n",
              "      <td>0</td>\n",
              "      <td>19-01-2014</td>\n",
              "      <td>94</td>\n",
              "      <td>...</td>\n",
              "      <td>0</td>\n",
              "      <td>0</td>\n",
              "      <td>0</td>\n",
              "      <td>0</td>\n",
              "      <td>0</td>\n",
              "      <td>0</td>\n",
              "      <td>0</td>\n",
              "      <td>19</td>\n",
              "      <td>lowSpender</td>\n",
              "      <td>middle_age</td>\n",
              "    </tr>\n",
              "    <tr>\n",
              "      <th>...</th>\n",
              "      <td>...</td>\n",
              "      <td>...</td>\n",
              "      <td>...</td>\n",
              "      <td>...</td>\n",
              "      <td>...</td>\n",
              "      <td>...</td>\n",
              "      <td>...</td>\n",
              "      <td>...</td>\n",
              "      <td>...</td>\n",
              "      <td>...</td>\n",
              "      <td>...</td>\n",
              "      <td>...</td>\n",
              "      <td>...</td>\n",
              "      <td>...</td>\n",
              "      <td>...</td>\n",
              "      <td>...</td>\n",
              "      <td>...</td>\n",
              "      <td>...</td>\n",
              "      <td>...</td>\n",
              "      <td>...</td>\n",
              "      <td>...</td>\n",
              "    </tr>\n",
              "    <tr>\n",
              "      <th>2235</th>\n",
              "      <td>2</td>\n",
              "      <td>10870</td>\n",
              "      <td>1967</td>\n",
              "      <td>Bachelor</td>\n",
              "      <td>Taken</td>\n",
              "      <td>mid</td>\n",
              "      <td>0</td>\n",
              "      <td>1</td>\n",
              "      <td>13-06-2013</td>\n",
              "      <td>46</td>\n",
              "      <td>...</td>\n",
              "      <td>0</td>\n",
              "      <td>0</td>\n",
              "      <td>0</td>\n",
              "      <td>0</td>\n",
              "      <td>0</td>\n",
              "      <td>0</td>\n",
              "      <td>0</td>\n",
              "      <td>18</td>\n",
              "      <td>highSpender</td>\n",
              "      <td>middle_age</td>\n",
              "    </tr>\n",
              "    <tr>\n",
              "      <th>2236</th>\n",
              "      <td>1</td>\n",
              "      <td>4001</td>\n",
              "      <td>1946</td>\n",
              "      <td>PhD</td>\n",
              "      <td>Taken</td>\n",
              "      <td>mid</td>\n",
              "      <td>2</td>\n",
              "      <td>1</td>\n",
              "      <td>10-06-2014</td>\n",
              "      <td>56</td>\n",
              "      <td>...</td>\n",
              "      <td>0</td>\n",
              "      <td>0</td>\n",
              "      <td>0</td>\n",
              "      <td>1</td>\n",
              "      <td>0</td>\n",
              "      <td>0</td>\n",
              "      <td>0</td>\n",
              "      <td>22</td>\n",
              "      <td>lowSpender</td>\n",
              "      <td>elder</td>\n",
              "    </tr>\n",
              "    <tr>\n",
              "      <th>2237</th>\n",
              "      <td>2</td>\n",
              "      <td>7270</td>\n",
              "      <td>1981</td>\n",
              "      <td>Bachelor</td>\n",
              "      <td>Single</td>\n",
              "      <td>mid</td>\n",
              "      <td>0</td>\n",
              "      <td>0</td>\n",
              "      <td>25-01-2014</td>\n",
              "      <td>91</td>\n",
              "      <td>...</td>\n",
              "      <td>0</td>\n",
              "      <td>1</td>\n",
              "      <td>0</td>\n",
              "      <td>0</td>\n",
              "      <td>0</td>\n",
              "      <td>0</td>\n",
              "      <td>0</td>\n",
              "      <td>19</td>\n",
              "      <td>midSpender</td>\n",
              "      <td>middle_age</td>\n",
              "    </tr>\n",
              "    <tr>\n",
              "      <th>2238</th>\n",
              "      <td>2</td>\n",
              "      <td>8235</td>\n",
              "      <td>1956</td>\n",
              "      <td>Master</td>\n",
              "      <td>Taken</td>\n",
              "      <td>mid</td>\n",
              "      <td>0</td>\n",
              "      <td>1</td>\n",
              "      <td>24-01-2014</td>\n",
              "      <td>8</td>\n",
              "      <td>...</td>\n",
              "      <td>0</td>\n",
              "      <td>0</td>\n",
              "      <td>0</td>\n",
              "      <td>0</td>\n",
              "      <td>0</td>\n",
              "      <td>0</td>\n",
              "      <td>0</td>\n",
              "      <td>23</td>\n",
              "      <td>midSpender</td>\n",
              "      <td>elder</td>\n",
              "    </tr>\n",
              "    <tr>\n",
              "      <th>2239</th>\n",
              "      <td>1</td>\n",
              "      <td>9405</td>\n",
              "      <td>1954</td>\n",
              "      <td>PhD</td>\n",
              "      <td>Taken</td>\n",
              "      <td>mid</td>\n",
              "      <td>1</td>\n",
              "      <td>1</td>\n",
              "      <td>15-10-2012</td>\n",
              "      <td>40</td>\n",
              "      <td>...</td>\n",
              "      <td>0</td>\n",
              "      <td>0</td>\n",
              "      <td>0</td>\n",
              "      <td>0</td>\n",
              "      <td>0</td>\n",
              "      <td>0</td>\n",
              "      <td>1</td>\n",
              "      <td>11</td>\n",
              "      <td>lowSpender</td>\n",
              "      <td>elder</td>\n",
              "    </tr>\n",
              "  </tbody>\n",
              "</table>\n",
              "<p>2212 rows × 31 columns</p>\n",
              "</div>\n",
              "      <button class=\"colab-df-convert\" onclick=\"convertToInteractive('df-7ef6a4c4-da96-442b-8498-1f4c4e048a21')\"\n",
              "              title=\"Convert this dataframe to an interactive table.\"\n",
              "              style=\"display:none;\">\n",
              "        \n",
              "  <svg xmlns=\"http://www.w3.org/2000/svg\" height=\"24px\"viewBox=\"0 0 24 24\"\n",
              "       width=\"24px\">\n",
              "    <path d=\"M0 0h24v24H0V0z\" fill=\"none\"/>\n",
              "    <path d=\"M18.56 5.44l.94 2.06.94-2.06 2.06-.94-2.06-.94-.94-2.06-.94 2.06-2.06.94zm-11 1L8.5 8.5l.94-2.06 2.06-.94-2.06-.94L8.5 2.5l-.94 2.06-2.06.94zm10 10l.94 2.06.94-2.06 2.06-.94-2.06-.94-.94-2.06-.94 2.06-2.06.94z\"/><path d=\"M17.41 7.96l-1.37-1.37c-.4-.4-.92-.59-1.43-.59-.52 0-1.04.2-1.43.59L10.3 9.45l-7.72 7.72c-.78.78-.78 2.05 0 2.83L4 21.41c.39.39.9.59 1.41.59.51 0 1.02-.2 1.41-.59l7.78-7.78 2.81-2.81c.8-.78.8-2.07 0-2.86zM5.41 20L4 18.59l7.72-7.72 1.47 1.35L5.41 20z\"/>\n",
              "  </svg>\n",
              "      </button>\n",
              "      \n",
              "  <style>\n",
              "    .colab-df-container {\n",
              "      display:flex;\n",
              "      flex-wrap:wrap;\n",
              "      gap: 12px;\n",
              "    }\n",
              "\n",
              "    .colab-df-convert {\n",
              "      background-color: #E8F0FE;\n",
              "      border: none;\n",
              "      border-radius: 50%;\n",
              "      cursor: pointer;\n",
              "      display: none;\n",
              "      fill: #1967D2;\n",
              "      height: 32px;\n",
              "      padding: 0 0 0 0;\n",
              "      width: 32px;\n",
              "    }\n",
              "\n",
              "    .colab-df-convert:hover {\n",
              "      background-color: #E2EBFA;\n",
              "      box-shadow: 0px 1px 2px rgba(60, 64, 67, 0.3), 0px 1px 3px 1px rgba(60, 64, 67, 0.15);\n",
              "      fill: #174EA6;\n",
              "    }\n",
              "\n",
              "    [theme=dark] .colab-df-convert {\n",
              "      background-color: #3B4455;\n",
              "      fill: #D2E3FC;\n",
              "    }\n",
              "\n",
              "    [theme=dark] .colab-df-convert:hover {\n",
              "      background-color: #434B5C;\n",
              "      box-shadow: 0px 1px 3px 1px rgba(0, 0, 0, 0.15);\n",
              "      filter: drop-shadow(0px 1px 2px rgba(0, 0, 0, 0.3));\n",
              "      fill: #FFFFFF;\n",
              "    }\n",
              "  </style>\n",
              "\n",
              "      <script>\n",
              "        const buttonEl =\n",
              "          document.querySelector('#df-7ef6a4c4-da96-442b-8498-1f4c4e048a21 button.colab-df-convert');\n",
              "        buttonEl.style.display =\n",
              "          google.colab.kernel.accessAllowed ? 'block' : 'none';\n",
              "\n",
              "        async function convertToInteractive(key) {\n",
              "          const element = document.querySelector('#df-7ef6a4c4-da96-442b-8498-1f4c4e048a21');\n",
              "          const dataTable =\n",
              "            await google.colab.kernel.invokeFunction('convertToInteractive',\n",
              "                                                     [key], {});\n",
              "          if (!dataTable) return;\n",
              "\n",
              "          const docLinkHtml = 'Like what you see? Visit the ' +\n",
              "            '<a target=\"_blank\" href=https://colab.research.google.com/notebooks/data_table.ipynb>data table notebook</a>'\n",
              "            + ' to learn more about interactive tables.';\n",
              "          element.innerHTML = '';\n",
              "          dataTable['output_type'] = 'display_data';\n",
              "          await google.colab.output.renderOutput(dataTable, element);\n",
              "          const docLink = document.createElement('div');\n",
              "          docLink.innerHTML = docLinkHtml;\n",
              "          element.appendChild(docLink);\n",
              "        }\n",
              "      </script>\n",
              "    </div>\n",
              "  </div>\n",
              "  "
            ]
          },
          "metadata": {},
          "execution_count": 55
        }
      ],
      "source": [
        "#insert cluster ke df\n",
        "df.insert(0, \"Cluster\", kmeansClusters, True)\n",
        "df"
      ]
    },
    {
      "cell_type": "markdown",
      "metadata": {
        "id": "51zNvpVrUnaf"
      },
      "source": [
        "## Melihat distribusi cluster"
      ]
    },
    {
      "cell_type": "code",
      "execution_count": 56,
      "metadata": {
        "colab": {
          "base_uri": "https://localhost:8080/",
          "height": 466
        },
        "id": "UPLixPK906Fy",
        "outputId": "d35754f3-2759-4a94-f520-47dc66c1437e"
      },
      "outputs": [
        {
          "output_type": "execute_result",
          "data": {
            "text/plain": [
              "<Axes: xlabel='Cluster', ylabel='count'>"
            ]
          },
          "metadata": {},
          "execution_count": 56
        },
        {
          "output_type": "display_data",
          "data": {
            "text/plain": [
              "<Figure size 640x480 with 1 Axes>"
            ],
            "image/png": "[encoded data removed]"
          },
          "metadata": {}
        }
      ],
      "source": [
        "sns.countplot(x=df[\"Cluster\"])"
      ]
    },
    {
      "cell_type": "code",
      "execution_count": 57,
      "metadata": {
        "colab": {
          "base_uri": "https://localhost:8080/",
          "height": 428
        },
        "id": "26YQdxLid0dn",
        "outputId": "c14eb46c-45c1-46f6-8d4a-0e253b53df12"
      },
      "outputs": [
        {
          "output_type": "display_data",
          "data": {
            "text/plain": [
              "<Figure size 640x480 with 1 Axes>"
            ],
            "image/png": "[encoded data removed]"
          },
          "metadata": {}
        }
      ],
      "source": [
        "#menghitung banyak row tiap cluster\n",
        "c0 = df.loc[df[\"Cluster\"]==0].shape[0]\n",
        "c1 = df.loc[df[\"Cluster\"]==1].shape[0]\n",
        "c2 = df.loc[df[\"Cluster\"]==2].shape[0]\n",
        "#simpan banyak row dalam array numpy\n",
        "y = np.array([c0, c1, c2])\n",
        "#visualisasi cluster\n",
        "plt.title(\"Distribusi Cluster\")\n",
        "plt.pie(y, labels=[\"c0\", \"c1\", \"c2\"])\n",
        "plt.legend()\n",
        "plt.show() "
      ]
    },
    {
      "cell_type": "markdown",
      "metadata": {
        "id": "WVcQsYRJCTyi"
      },
      "source": [
        "##12. ANALISIS CLUSTER"
      ]
    },
    {
      "cell_type": "markdown",
      "metadata": {
        "id": "VpOpTVYNVMvy"
      },
      "source": [
        "## Meneliti income setiap cluster"
      ]
    },
    {
      "cell_type": "code",
      "execution_count": 58,
      "metadata": {
        "colab": {
          "base_uri": "https://localhost:8080/",
          "height": 469
        },
        "id": "cBMII6LvCTyi",
        "outputId": "360c829f-efdb-45f9-80a8-bc13e1287047"
      },
      "outputs": [
        {
          "output_type": "execute_result",
          "data": {
            "text/plain": [
              "<BarContainer object of 4 artists>"
            ]
          },
          "metadata": {},
          "execution_count": 58
        },
        {
          "output_type": "display_data",
          "data": {
            "text/plain": [
              "<Figure size 640x480 with 1 Axes>"
            ],
            "image/png": "[encoded data removed]"
          },
          "metadata": {}
        }
      ],
      "source": [
        "#mengambil seluruh data cluster 0\n",
        "tes = df.loc[df[\"Cluster\"] == 0]\n",
        "#inisialisasi label\n",
        "income = [\"low\", \"mid\", \"high\", \"very high\"]\n",
        "#inisialisasi list persen\n",
        "percent = []\n",
        "#hitung persentase setiap label yang masuk kedalam cluster 0\n",
        "for i in income:\n",
        "  percent.append(tes.loc[tes[\"Income\"]== i].shape[0] / df.loc[df[\"Income\"]== i].shape[0])\n",
        "#visualisasi income cluster 0\n",
        "plt.title(\"income cluster 0\")\n",
        "plt.bar(income, percent, color=[\"red\", \"cyan\", \"pink\", \"orange\"])"
      ]
    },
    {
      "cell_type": "markdown",
      "source": [
        "Untuk income di cluster 0 mayoritas untuk kategori high"
      ],
      "metadata": {
        "id": "bpOo0n7BySyJ"
      }
    },
    {
      "cell_type": "code",
      "execution_count": 59,
      "metadata": {
        "colab": {
          "base_uri": "https://localhost:8080/",
          "height": 469
        },
        "id": "KeP6vcNhCTyi",
        "outputId": "1b5eec00-9331-49d6-f5cc-a1538b279fd3"
      },
      "outputs": [
        {
          "output_type": "execute_result",
          "data": {
            "text/plain": [
              "<BarContainer object of 4 artists>"
            ]
          },
          "metadata": {},
          "execution_count": 59
        },
        {
          "output_type": "display_data",
          "data": {
            "text/plain": [
              "<Figure size 640x480 with 1 Axes>"
            ],
            "image/png": "[encoded data removed]"
          },
          "metadata": {}
        }
      ],
      "source": [
        "#ambil seluruh data cluster 1\n",
        "tes = df.loc[df[\"Cluster\"] == 1]\n",
        "#inisialisasi label\n",
        "income = [\"low\", \"mid\", \"high\", \"very high\"]\n",
        "#inisialisasi persen\n",
        "percent = []\n",
        "#hitung persentase seluruh label yang masuk kedalam cluster 1\n",
        "for i in income:\n",
        "  percent.append(tes.loc[tes[\"Income\"]== i].shape[0] / df.loc[df[\"Income\"]== i].shape[0])\n",
        "#visualisasi income cluster 1\n",
        "plt.title(\"income cluster 1\")\n",
        "plt.bar(income, percent, color=[\"red\", \"cyan\", \"pink\", \"orange\"])"
      ]
    },
    {
      "cell_type": "markdown",
      "source": [
        "Untuk Income di cluster 1 mayoritas diisi oleh kategori low disusul dengan kategori mid dan very high"
      ],
      "metadata": {
        "id": "I2WzfWUpybjH"
      }
    },
    {
      "cell_type": "code",
      "execution_count": 60,
      "metadata": {
        "colab": {
          "base_uri": "https://localhost:8080/",
          "height": 469
        },
        "id": "DLA1eJX4CTyi",
        "outputId": "ac4b153e-854a-4f84-b370-9c3c6a7ad21b"
      },
      "outputs": [
        {
          "output_type": "execute_result",
          "data": {
            "text/plain": [
              "<BarContainer object of 4 artists>"
            ]
          },
          "metadata": {},
          "execution_count": 60
        },
        {
          "output_type": "display_data",
          "data": {
            "text/plain": [
              "<Figure size 640x480 with 1 Axes>"
            ],
            "image/png": "[encoded data removed]"
          },
          "metadata": {}
        }
      ],
      "source": [
        "#ambil seluruh cluster 2\n",
        "tes = df.loc[df[\"Cluster\"] == 2]\n",
        "#inisialisasi label\n",
        "income = [\"low\", \"mid\", \"high\", \"very high\"]\n",
        "#inisialisasi persen\n",
        "percent = []\n",
        "#hitung persentase seluruh label yang masuk kedalam cluster 1\n",
        "for i in income:\n",
        "  percent.append(tes.loc[tes[\"Income\"]== i].shape[0] / df.loc[df[\"Income\"]== i].shape[0])\n",
        "#visualisasi income cluster 2\n",
        "plt.title(\"Income cluster 2\")\n",
        "plt.bar(income, percent, color=[\"red\", \"cyan\", \"pink\", \"orange\"])"
      ]
    },
    {
      "cell_type": "markdown",
      "source": [
        "Untuk income di cluster 2 mayoritas berisi dari kategori mid dan disusul dengan kategori high dan very high"
      ],
      "metadata": {
        "id": "5Xm-3vm6yjUv"
      }
    },
    {
      "cell_type": "markdown",
      "metadata": {
        "id": "UpMsFqNlCTyk"
      },
      "source": [
        "## Meneliti umur setiap cluster"
      ]
    },
    {
      "cell_type": "code",
      "execution_count": 61,
      "metadata": {
        "colab": {
          "base_uri": "https://localhost:8080/",
          "height": 469
        },
        "id": "sL82OuOPCTyk",
        "outputId": "212204f8-a3bc-414c-f432-62b76be56ed0"
      },
      "outputs": [
        {
          "output_type": "execute_result",
          "data": {
            "text/plain": [
              "<BarContainer object of 3 artists>"
            ]
          },
          "metadata": {},
          "execution_count": 61
        },
        {
          "output_type": "display_data",
          "data": {
            "text/plain": [
              "<Figure size 640x480 with 1 Axes>"
            ],
            "image/png": "[encoded data removed]"
          },
          "metadata": {}
        }
      ],
      "source": [
        "tes = df.loc[df[\"Cluster\"] == 0]\n",
        "\n",
        "age = [\"young_adult\", \"middle_age\", \"elder\"]\n",
        "percent = []\n",
        "for i in age:\n",
        "  percent.append(tes.loc[tes[\"Age\"]== i].shape[0] / df.loc[df[\"Age\"]== i].shape[0])\n",
        "\n",
        "plt.title(\"Umur cluster 0\")\n",
        "plt.bar(age, percent, color=[\"navy\", \"darkRed\", \"darkGreen\", \"orange\"])"
      ]
    },
    {
      "cell_type": "markdown",
      "source": [
        "Untuk umur dari dari cluster 0 diisi dengan mayoritas kategori young_adult dan disusul dengan elder dan middle_age"
      ],
      "metadata": {
        "id": "D5tnZkEcyr51"
      }
    },
    {
      "cell_type": "code",
      "execution_count": 62,
      "metadata": {
        "colab": {
          "base_uri": "https://localhost:8080/",
          "height": 469
        },
        "id": "hxmjE-pwCTyk",
        "outputId": "e58d5678-19cb-4db8-9924-c3db2e9eea6e"
      },
      "outputs": [
        {
          "output_type": "execute_result",
          "data": {
            "text/plain": [
              "<BarContainer object of 3 artists>"
            ]
          },
          "metadata": {},
          "execution_count": 62
        },
        {
          "output_type": "display_data",
          "data": {
            "text/plain": [
              "<Figure size 640x480 with 1 Axes>"
            ],
            "image/png": "[encoded data removed]"
          },
          "metadata": {}
        }
      ],
      "source": [
        "tes = df.loc[df[\"Cluster\"] == 1]\n",
        "\n",
        "age = [\"young_adult\", \"middle_age\", \"elder\"]\n",
        "percent = []\n",
        "for i in age:\n",
        "  percent.append(tes.loc[tes[\"Age\"]== i].shape[0] / df.loc[df[\"Age\"]== i].shape[0])\n",
        "\n",
        "plt.title(\"Umur cluster 1\")\n",
        "plt.bar(age, percent, color = [\"navy\", \"darkRed\", \"darkGreen\", \"orange\"])"
      ]
    },
    {
      "cell_type": "markdown",
      "source": [
        "Untuk umur di cluster 1 diisi dengan mayoritas dari kategori young_adult, middle_age, dan elder"
      ],
      "metadata": {
        "id": "x95NdzgBzJXd"
      }
    },
    {
      "cell_type": "code",
      "execution_count": 63,
      "metadata": {
        "colab": {
          "base_uri": "https://localhost:8080/",
          "height": 469
        },
        "id": "p8AwszysCTyk",
        "outputId": "b3b9556d-98bd-4686-809c-fa84b0236eef"
      },
      "outputs": [
        {
          "output_type": "execute_result",
          "data": {
            "text/plain": [
              "<BarContainer object of 3 artists>"
            ]
          },
          "metadata": {},
          "execution_count": 63
        },
        {
          "output_type": "display_data",
          "data": {
            "text/plain": [
              "<Figure size 640x480 with 1 Axes>"
            ],
            "image/png": "[encoded data removed]"
          },
          "metadata": {}
        }
      ],
      "source": [
        "tes = df.loc[df[\"Cluster\"] == 2]\n",
        "\n",
        "age = [\"young_adult\", \"middle_age\", \"elder\"]\n",
        "percent = []\n",
        "for i in age:\n",
        "  percent.append(tes.loc[tes[\"Age\"]== i].shape[0] / df.loc[df[\"Age\"]== i].shape[0])\n",
        "\n",
        "plt.title(\"umur cluster 2\")\n",
        "plt.bar(age, percent, color = [\"navy\", \"darkRed\", \"darkGreen\", \"orange\"])"
      ]
    },
    {
      "cell_type": "markdown",
      "source": [
        "U"
      ],
      "metadata": {
        "id": "ZcjuCCEXzGJp"
      }
    },
    {
      "cell_type": "markdown",
      "source": [
        "Untuk umur di cluster 2 mayoritas diisi dengan kategori elder dan disusul dengan middle_age dan young_adult"
      ],
      "metadata": {
        "id": "dvOLJBomy34_"
      }
    },
    {
      "cell_type": "markdown",
      "metadata": {
        "id": "g166dIacCTyk"
      },
      "source": [
        "## Meneliti total pengeluaran setiap cluster "
      ]
    },
    {
      "cell_type": "code",
      "execution_count": 64,
      "metadata": {
        "colab": {
          "base_uri": "https://localhost:8080/",
          "height": 469
        },
        "id": "2g6TugdeCTyk",
        "outputId": "d46dbc4e-44bc-4eff-cca7-ba131a26b3f2"
      },
      "outputs": [
        {
          "output_type": "execute_result",
          "data": {
            "text/plain": [
              "<BarContainer object of 4 artists>"
            ]
          },
          "metadata": {},
          "execution_count": 64
        },
        {
          "output_type": "display_data",
          "data": {
            "text/plain": [
              "<Figure size 640x480 with 1 Axes>"
            ],
            "image/png": "[encoded data removed]"
          },
          "metadata": {}
        }
      ],
      "source": [
        "tes = df.loc[df[\"Cluster\"] == 0]\n",
        "\n",
        "spend = [\"lowSpender\", \"midSpender\", \"highSpender\", \"veryHighSpender\"]\n",
        "percent = []\n",
        "for i in spend:\n",
        "  percent.append(tes.loc[tes[\"totalSpend\"]== i].shape[0] / df.loc[df[\"totalSpend\"]== i].shape[0])\n",
        "\n",
        "plt.title(\"Pengeluaran cluster 0\")\n",
        "plt.bar(spend, percent, color = [\"navy\", \"darkRed\", \"darkGreen\", \"orange\"])"
      ]
    },
    {
      "cell_type": "markdown",
      "source": [
        "Untuk Pengeluaran di cluster 0 diisi dengan mayoritas kategori  very high_spender disusul dengan highspender"
      ],
      "metadata": {
        "id": "9w0Xlgl_zTi5"
      }
    },
    {
      "cell_type": "code",
      "execution_count": 65,
      "metadata": {
        "colab": {
          "base_uri": "https://localhost:8080/",
          "height": 469
        },
        "id": "WqNSwF1sCTyk",
        "outputId": "05e92dd3-b23e-49e4-f754-c299702c2980"
      },
      "outputs": [
        {
          "output_type": "execute_result",
          "data": {
            "text/plain": [
              "<BarContainer object of 4 artists>"
            ]
          },
          "metadata": {},
          "execution_count": 65
        },
        {
          "output_type": "display_data",
          "data": {
            "text/plain": [
              "<Figure size 640x480 with 1 Axes>"
            ],
            "image/png": "[encoded data removed]"
          },
          "metadata": {}
        }
      ],
      "source": [
        "tes = df.loc[df[\"Cluster\"] == 1]\n",
        "\n",
        "spend = [\"lowSpender\", \"midSpender\", \"highSpender\", \"veryHighSpender\"]\n",
        "percent = []\n",
        "for i in spend:\n",
        "  percent.append(tes.loc[tes[\"totalSpend\"]== i].shape[0] / df.loc[df[\"totalSpend\"]== i].shape[0])\n",
        "\n",
        "plt.title(\"Pengeluaran cluster 1\")\n",
        "plt.bar(spend, percent, color = [\"navy\", \"darkRed\", \"darkGreen\", \"orange\"])"
      ]
    },
    {
      "cell_type": "markdown",
      "source": [
        "Untuk pengeluaran di cluster 1 diisi dengan mayoritas pengeluaran kategori lowSpender"
      ],
      "metadata": {
        "id": "NCOjIgUDmX1r"
      }
    },
    {
      "cell_type": "code",
      "execution_count": 66,
      "metadata": {
        "colab": {
          "base_uri": "https://localhost:8080/",
          "height": 469
        },
        "id": "nnWfmuacCTyl",
        "outputId": "9f1e9235-09c6-4b07-b629-89027f1d16b4"
      },
      "outputs": [
        {
          "output_type": "execute_result",
          "data": {
            "text/plain": [
              "<BarContainer object of 4 artists>"
            ]
          },
          "metadata": {},
          "execution_count": 66
        },
        {
          "output_type": "display_data",
          "data": {
            "text/plain": [
              "<Figure size 640x480 with 1 Axes>"
            ],
            "image/png": "[encoded data removed]"
          },
          "metadata": {}
        }
      ],
      "source": [
        "tes = df.loc[df[\"Cluster\"] == 2]\n",
        "\n",
        "spend = [\"lowSpender\", \"midSpender\", \"highSpender\", \"veryHighSpender\"]\n",
        "percent = []\n",
        "for i in spend:\n",
        "  percent.append(tes.loc[tes[\"totalSpend\"]== i].shape[0] / df.loc[df[\"totalSpend\"]== i].shape[0])\n",
        "\n",
        "plt.title(\"Pengeluaran cluster 2\")\n",
        "plt.bar(spend, percent, color = [\"navy\", \"darkRed\", \"darkGreen\", \"orange\"])"
      ]
    },
    {
      "cell_type": "markdown",
      "source": [
        "Untuk pengeluaran cluster 2 diisi dengan mayoritas kategori midSpender kemudian disusul dengan highspender dan veryhighspender"
      ],
      "metadata": {
        "id": "mQV32gx-me2s"
      }
    },
    {
      "cell_type": "markdown",
      "source": [
        "##13. KESIMPULAN CLUSTER"
      ],
      "metadata": {
        "id": "gSs28zhbzUAg"
      }
    },
    {
      "cell_type": "markdown",
      "metadata": {
        "id": "t0z5ARxibBV1"
      },
      "source": [
        "Kesimpulan yang didapat dari masing masing cluster adalah sebagai berikut:\n",
        "\n",
        "\n",
        "1. Cluster 0: Pelanggan dengan jumlah belanja yang tinggi-sangat tinggi. Berisi mayoritas pelanggan dengan pemasukkan tinggi, dan sebagian kecil dari pelanggan dengan pemasukkan rendah. Mayoritas umur young adult.\n",
        "\n",
        "2.   Cluster 1: Pelanggan dengan jumlah belanja yang rendah. Berisi mayoritas pelanggan dengan pemasukkan rendah, dan sebagian kecil dari pelanggan dengan pemasukkan menengah dan sangat tinggi. Tidak rentang umur yang mencolok pada cluster ini.\n",
        "\n",
        "3. Cluster 2: Pelanggan dengan jumlah belanja yang menengah-tinggi, dan sebagian kecil dari jumlah belanja yang sangat tinggi. Berisi mayoritas pelanggan dengan pemasukan yang menengah, dan sebagian dari pemasukan tinggi-sangat tinggi. dengan mayoritas umur lansia atau 60+\n",
        "\n"
      ]
    },
    {
      "cell_type": "markdown",
      "metadata": {
        "id": "pjIIfF9I1nCr"
      },
      "source": [
        "#**I. MODELING APRIORI METHOD**"
      ]
    },
    {
      "cell_type": "markdown",
      "metadata": {
        "id": "wcI2kSIJVma7"
      },
      "source": [
        "Apriori adalah salah satu algoritma pada data mining untuk mencari itemset. Metode ini dapat digunakan untuk melihat produk apa saja yang sering dibeli secara bersamaan oleh pelanggan. Pada penelitian ini, metode apriori digunakan untuk melihat karakteristik pembelian pelanggan dan produk yang paling banyak terjual untuk masing-masing cluster"
      ]
    },
    {
      "cell_type": "markdown",
      "metadata": {
        "id": "JnjGcwwbVrjn"
      },
      "source": [
        "## Binning untuk setiap pembelian produk"
      ]
    },
    {
      "cell_type": "markdown",
      "metadata": {
        "id": "yy4HUzsMV0Yf"
      },
      "source": [
        "untuk setiap produk, dilakukan pengelompokkan menjadi \"lowBuyer\" yaitu pelanggan dengan jumlah pembelian produk rendah, \"mediumBuyer\" untuk pelanggan dengan jumlah pembelian produk menengah, dan \"highBuyer\" untuk pelanggan dengan jumlah pembelian produk tinggi"
      ]
    },
    {
      "cell_type": "code",
      "execution_count": 67,
      "metadata": {
        "colab": {
          "base_uri": "https://localhost:8080/",
          "height": 466
        },
        "id": "zdFxCkekRMjI",
        "outputId": "660320c5-e8fe-42c3-e3e1-2e306b3199e1"
      },
      "outputs": [
        {
          "output_type": "execute_result",
          "data": {
            "text/plain": [
              "<Axes: xlabel='Fruit', ylabel='count'>"
            ]
          },
          "metadata": {},
          "execution_count": 67
        },
        {
          "output_type": "display_data",
          "data": {
            "text/plain": [
              "<Figure size 640x480 with 1 Axes>"
            ],
            "image/png": "[encoded data removed]"
          },
          "metadata": {}
        }
      ],
      "source": [
        "#inisialisasi label\n",
        "label = ['lowBuyer', \"mediumBuyer\", \"highBuyer\"]\n",
        "#membagi kolom buah menjadi 3 bagian dengan rentang sama besar\n",
        "df['Fruit'] = pd.qcut(df['Fruit'], 3, labels=label)\n",
        "sns.countplot(x= df[\"Fruit\"])"
      ]
    },
    {
      "cell_type": "code",
      "execution_count": 68,
      "metadata": {
        "colab": {
          "base_uri": "https://localhost:8080/",
          "height": 466
        },
        "id": "N_u_O6pLNkTo",
        "outputId": "2999c992-d146-4638-d617-3d7ebeebb649"
      },
      "outputs": [
        {
          "output_type": "execute_result",
          "data": {
            "text/plain": [
              "<Axes: xlabel='Wine', ylabel='count'>"
            ]
          },
          "metadata": {},
          "execution_count": 68
        },
        {
          "output_type": "display_data",
          "data": {
            "text/plain": [
              "<Figure size 640x480 with 1 Axes>"
            ],
            "image/png": "[encoded data removed]"
          },
          "metadata": {}
        }
      ],
      "source": [
        "label = ['lowBuyer', \"mediumBuyer\", \"highBuyer\"]\n",
        "#membagi kolom anggur menjadi 3 bagian dengan rentang sama besar\n",
        "df['Wine'] = pd.qcut(df['Wine'], 3, labels=label);\n",
        "sns.countplot(x= df[\"Wine\"])"
      ]
    },
    {
      "cell_type": "code",
      "execution_count": 69,
      "metadata": {
        "colab": {
          "base_uri": "https://localhost:8080/",
          "height": 466
        },
        "id": "gLZ19XvuRzh0",
        "outputId": "a9bb5d0c-d654-4c33-9e91-a091ff6a81d8"
      },
      "outputs": [
        {
          "output_type": "execute_result",
          "data": {
            "text/plain": [
              "<Axes: xlabel='Meat', ylabel='count'>"
            ]
          },
          "metadata": {},
          "execution_count": 69
        },
        {
          "output_type": "display_data",
          "data": {
            "text/plain": [
              "<Figure size 640x480 with 1 Axes>"
            ],
            "image/png": "[encoded data removed]"
          },
          "metadata": {}
        }
      ],
      "source": [
        "label = ['lowBuyer', \"mediumBuyer\", \"highBuyer\"]\n",
        "#membagi kolom daging menjadi 3 bagian dengan rentang sama besar\n",
        "df['Meat'] = pd.qcut(df['Meat'], 3, labels=label);\n",
        "sns.countplot(x= df[\"Meat\"])"
      ]
    },
    {
      "cell_type": "code",
      "execution_count": 70,
      "metadata": {
        "colab": {
          "base_uri": "https://localhost:8080/",
          "height": 466
        },
        "id": "G9YHa-uGxnda",
        "outputId": "cd770d7b-a616-434d-8959-0aa8a20b496a"
      },
      "outputs": [
        {
          "output_type": "execute_result",
          "data": {
            "text/plain": [
              "<Axes: xlabel='Fish', ylabel='count'>"
            ]
          },
          "metadata": {},
          "execution_count": 70
        },
        {
          "output_type": "display_data",
          "data": {
            "text/plain": [
              "<Figure size 640x480 with 1 Axes>"
            ],
            "image/png": "[encoded data removed]"
          },
          "metadata": {}
        }
      ],
      "source": [
        "label = ['lowBuyer', \"mediumBuyer\", \"highBuyer\"]\n",
        "#membagi kolom ikan menjadi 3 bagian dengan rentang sama besar\n",
        "df['Fish'] = pd.qcut(df['Fish'], 3, labels=label);\n",
        "sns.countplot(x= df[\"Fish\"])"
      ]
    },
    {
      "cell_type": "code",
      "execution_count": 71,
      "metadata": {
        "colab": {
          "base_uri": "https://localhost:8080/",
          "height": 466
        },
        "id": "PKLaw2KWxoK-",
        "outputId": "d0bbcc68-4a0d-4d0d-fd50-551af395697c"
      },
      "outputs": [
        {
          "output_type": "execute_result",
          "data": {
            "text/plain": [
              "<Axes: xlabel='Sweet', ylabel='count'>"
            ]
          },
          "metadata": {},
          "execution_count": 71
        },
        {
          "output_type": "display_data",
          "data": {
            "text/plain": [
              "<Figure size 640x480 with 1 Axes>"
            ],
            "image/png": "[encoded data removed]"
          },
          "metadata": {}
        }
      ],
      "source": [
        "label = ['lowBuyer', \"mediumBuyer\", \"highBuyer\"]\n",
        "#membagi kolom manisan menjadi 3 bagian dengan rentang sama besar\n",
        "df['Sweet'] = pd.qcut(df['Sweet'], 3, labels=label);\n",
        "sns.countplot(x= df[\"Sweet\"])"
      ]
    },
    {
      "cell_type": "code",
      "execution_count": 72,
      "metadata": {
        "colab": {
          "base_uri": "https://localhost:8080/",
          "height": 466
        },
        "id": "JNHsKpLMxo87",
        "outputId": "5b966230-835a-41c7-b0f7-14bac410ef47"
      },
      "outputs": [
        {
          "output_type": "execute_result",
          "data": {
            "text/plain": [
              "<Axes: xlabel='Gold', ylabel='count'>"
            ]
          },
          "metadata": {},
          "execution_count": 72
        },
        {
          "output_type": "display_data",
          "data": {
            "text/plain": [
              "<Figure size 640x480 with 1 Axes>"
            ],
            "image/png": "[encoded data removed]"
          },
          "metadata": {}
        }
      ],
      "source": [
        "label = ['lowBuyer', \"mediumBuyer\", \"highBuyer\"]\n",
        "#membagi kolom emas menjadi 3 bagian dengan rentang sama besar\n",
        "df['Gold'] = pd.qcut(df['Gold'], 3, labels=label);\n",
        "sns.countplot(x= df[\"Gold\"])"
      ]
    },
    {
      "cell_type": "markdown",
      "metadata": {
        "id": "oHYYdGM8WY4M"
      },
      "source": [
        "## Memisahkan setiap cluster ke dataframe yang berbeda"
      ]
    },
    {
      "cell_type": "code",
      "execution_count": 73,
      "metadata": {
        "id": "MTj5mUEE1q6W"
      },
      "outputs": [],
      "source": [
        "#memisahkan cluster ke df yang berbeda\n",
        "cluster0 = df.loc[df[\"Cluster\"]==0]\n",
        "cluster1 = df.loc[df[\"Cluster\"]==1]\n",
        "cluster2 = df.loc[df[\"Cluster\"]==2]"
      ]
    },
    {
      "cell_type": "markdown",
      "metadata": {
        "id": "wztfiziiWgkY"
      },
      "source": [
        "## Mengambil kolom produk"
      ]
    },
    {
      "cell_type": "code",
      "execution_count": 74,
      "metadata": {
        "id": "7DwrBaeW-p9g"
      },
      "outputs": [],
      "source": [
        "#membuang kolom yang tidak dibutuhkan dan menyisakan kolom produk saja\n",
        "cluster0 = cluster0.drop(columns = cluster0.columns[0:10])\n",
        "cluster0 = cluster0.drop(columns=cluster0.columns[6:])\n",
        "cluster1 = cluster1.drop(columns = cluster1.columns[0:10])\n",
        "cluster1 = cluster1.drop(columns=cluster1.columns[6:])\n",
        "cluster2 = cluster2.drop(columns = cluster2.columns[0:10])\n",
        "cluster2 = cluster2.drop(columns=cluster2.columns[6:])"
      ]
    },
    {
      "cell_type": "markdown",
      "metadata": {
        "id": "0q8RJfJ7Wlfj"
      },
      "source": [
        "## APRIORI CLUSTER 0"
      ]
    },
    {
      "cell_type": "code",
      "execution_count": 75,
      "metadata": {
        "colab": {
          "base_uri": "https://localhost:8080/",
          "height": 363
        },
        "id": "dV-Mp0MHJB8M",
        "outputId": "bdd73749-6862-4bc6-878d-e43966635441"
      },
      "outputs": [
        {
          "output_type": "execute_result",
          "data": {
            "text/plain": [
              "                            antecedents                         consequents  \\\n",
              "250                  (Meat_mediumBuyer)     (Fish_lowBuyer, Wine_highBuyer)   \n",
              "247     (Fish_lowBuyer, Wine_highBuyer)                  (Meat_mediumBuyer)   \n",
              "78                     (Sweet_lowBuyer)                  (Meat_mediumBuyer)   \n",
              "79                   (Meat_mediumBuyer)                    (Sweet_lowBuyer)   \n",
              "50                     (Sweet_lowBuyer)                 (Fruit_mediumBuyer)   \n",
              "51                  (Fruit_mediumBuyer)                    (Sweet_lowBuyer)   \n",
              "74                      (Fish_lowBuyer)                  (Meat_mediumBuyer)   \n",
              "75                   (Meat_mediumBuyer)                     (Fish_lowBuyer)   \n",
              "249                     (Fish_lowBuyer)  (Meat_mediumBuyer, Wine_highBuyer)   \n",
              "248  (Meat_mediumBuyer, Wine_highBuyer)                     (Fish_lowBuyer)   \n",
              "\n",
              "     antecedent support  consequent support   support  confidence      lift  \\\n",
              "250            0.179487            0.097436  0.051282    0.285714  2.932331   \n",
              "247            0.097436            0.179487  0.051282    0.526316  2.932331   \n",
              "78             0.097436            0.179487  0.051282    0.526316  2.932331   \n",
              "79             0.179487            0.097436  0.051282    0.285714  2.932331   \n",
              "50             0.097436            0.184615  0.051282    0.526316  2.850877   \n",
              "51             0.184615            0.097436  0.051282    0.277778  2.850877   \n",
              "74             0.117949            0.179487  0.056410    0.478261  2.664596   \n",
              "75             0.179487            0.117949  0.056410    0.314286  2.664596   \n",
              "249            0.117949            0.169231  0.051282    0.434783  2.569170   \n",
              "248            0.169231            0.117949  0.051282    0.303030  2.569170   \n",
              "\n",
              "     leverage  conviction  \n",
              "250  0.033794    1.263590  \n",
              "247  0.033794    1.732194  \n",
              "78   0.033794    1.732194  \n",
              "79   0.033794    1.263590  \n",
              "50   0.033294    1.721368  \n",
              "51   0.033294    1.249704  \n",
              "74   0.035240    1.572650  \n",
              "75   0.035240    1.286325  \n",
              "249  0.031321    1.469822  \n",
              "248  0.031321    1.265552  "
            ],
            "text/html": [
              "\n",
              "  <div id=\"df-176e2d2e-6433-40cf-8056-edc2148df106\">\n",
              "    <div class=\"colab-df-container\">\n",
              "      <div>\n",
              "<style scoped>\n",
              "    .dataframe tbody tr th:only-of-type {\n",
              "        vertical-align: middle;\n",
              "    }\n",
              "\n",
              "    .dataframe tbody tr th {\n",
              "        vertical-align: top;\n",
              "    }\n",
              "\n",
              "    .dataframe thead th {\n",
              "        text-align: right;\n",
              "    }\n",
              "</style>\n",
              "<table border=\"1\" class=\"dataframe\">\n",
              "  <thead>\n",
              "    <tr style=\"text-align: right;\">\n",
              "      <th></th>\n",
              "      <th>antecedents</th>\n",
              "      <th>consequents</th>\n",
              "      <th>antecedent support</th>\n",
              "      <th>consequent support</th>\n",
              "      <th>support</th>\n",
              "      <th>confidence</th>\n",
              "      <th>lift</th>\n",
              "      <th>leverage</th>\n",
              "      <th>conviction</th>\n",
              "    </tr>\n",
              "  </thead>\n",
              "  <tbody>\n",
              "    <tr>\n",
              "      <th>250</th>\n",
              "      <td>(Meat_mediumBuyer)</td>\n",
              "      <td>(Fish_lowBuyer, Wine_highBuyer)</td>\n",
              "      <td>0.179487</td>\n",
              "      <td>0.097436</td>\n",
              "      <td>0.051282</td>\n",
              "      <td>0.285714</td>\n",
              "      <td>2.932331</td>\n",
              "      <td>0.033794</td>\n",
              "      <td>1.263590</td>\n",
              "    </tr>\n",
              "    <tr>\n",
              "      <th>247</th>\n",
              "      <td>(Fish_lowBuyer, Wine_highBuyer)</td>\n",
              "      <td>(Meat_mediumBuyer)</td>\n",
              "      <td>0.097436</td>\n",
              "      <td>0.179487</td>\n",
              "      <td>0.051282</td>\n",
              "      <td>0.526316</td>\n",
              "      <td>2.932331</td>\n",
              "      <td>0.033794</td>\n",
              "      <td>1.732194</td>\n",
              "    </tr>\n",
              "    <tr>\n",
              "      <th>78</th>\n",
              "      <td>(Sweet_lowBuyer)</td>\n",
              "      <td>(Meat_mediumBuyer)</td>\n",
              "      <td>0.097436</td>\n",
              "      <td>0.179487</td>\n",
              "      <td>0.051282</td>\n",
              "      <td>0.526316</td>\n",
              "      <td>2.932331</td>\n",
              "      <td>0.033794</td>\n",
              "      <td>1.732194</td>\n",
              "    </tr>\n",
              "    <tr>\n",
              "      <th>79</th>\n",
              "      <td>(Meat_mediumBuyer)</td>\n",
              "      <td>(Sweet_lowBuyer)</td>\n",
              "      <td>0.179487</td>\n",
              "      <td>0.097436</td>\n",
              "      <td>0.051282</td>\n",
              "      <td>0.285714</td>\n",
              "      <td>2.932331</td>\n",
              "      <td>0.033794</td>\n",
              "      <td>1.263590</td>\n",
              "    </tr>\n",
              "    <tr>\n",
              "      <th>50</th>\n",
              "      <td>(Sweet_lowBuyer)</td>\n",
              "      <td>(Fruit_mediumBuyer)</td>\n",
              "      <td>0.097436</td>\n",
              "      <td>0.184615</td>\n",
              "      <td>0.051282</td>\n",
              "      <td>0.526316</td>\n",
              "      <td>2.850877</td>\n",
              "      <td>0.033294</td>\n",
              "      <td>1.721368</td>\n",
              "    </tr>\n",
              "    <tr>\n",
              "      <th>51</th>\n",
              "      <td>(Fruit_mediumBuyer)</td>\n",
              "      <td>(Sweet_lowBuyer)</td>\n",
              "      <td>0.184615</td>\n",
              "      <td>0.097436</td>\n",
              "      <td>0.051282</td>\n",
              "      <td>0.277778</td>\n",
              "      <td>2.850877</td>\n",
              "      <td>0.033294</td>\n",
              "      <td>1.249704</td>\n",
              "    </tr>\n",
              "    <tr>\n",
              "      <th>74</th>\n",
              "      <td>(Fish_lowBuyer)</td>\n",
              "      <td>(Meat_mediumBuyer)</td>\n",
              "      <td>0.117949</td>\n",
              "      <td>0.179487</td>\n",
              "      <td>0.056410</td>\n",
              "      <td>0.478261</td>\n",
              "      <td>2.664596</td>\n",
              "      <td>0.035240</td>\n",
              "      <td>1.572650</td>\n",
              "    </tr>\n",
              "    <tr>\n",
              "      <th>75</th>\n",
              "      <td>(Meat_mediumBuyer)</td>\n",
              "      <td>(Fish_lowBuyer)</td>\n",
              "      <td>0.179487</td>\n",
              "      <td>0.117949</td>\n",
              "      <td>0.056410</td>\n",
              "      <td>0.314286</td>\n",
              "      <td>2.664596</td>\n",
              "      <td>0.035240</td>\n",
              "      <td>1.286325</td>\n",
              "    </tr>\n",
              "    <tr>\n",
              "      <th>249</th>\n",
              "      <td>(Fish_lowBuyer)</td>\n",
              "      <td>(Meat_mediumBuyer, Wine_highBuyer)</td>\n",
              "      <td>0.117949</td>\n",
              "      <td>0.169231</td>\n",
              "      <td>0.051282</td>\n",
              "      <td>0.434783</td>\n",
              "      <td>2.569170</td>\n",
              "      <td>0.031321</td>\n",
              "      <td>1.469822</td>\n",
              "    </tr>\n",
              "    <tr>\n",
              "      <th>248</th>\n",
              "      <td>(Meat_mediumBuyer, Wine_highBuyer)</td>\n",
              "      <td>(Fish_lowBuyer)</td>\n",
              "      <td>0.169231</td>\n",
              "      <td>0.117949</td>\n",
              "      <td>0.051282</td>\n",
              "      <td>0.303030</td>\n",
              "      <td>2.569170</td>\n",
              "      <td>0.031321</td>\n",
              "      <td>1.265552</td>\n",
              "    </tr>\n",
              "  </tbody>\n",
              "</table>\n",
              "</div>\n",
              "      <button class=\"colab-df-convert\" onclick=\"convertToInteractive('df-176e2d2e-6433-40cf-8056-edc2148df106')\"\n",
              "              title=\"Convert this dataframe to an interactive table.\"\n",
              "              style=\"display:none;\">\n",
              "        \n",
              "  <svg xmlns=\"http://www.w3.org/2000/svg\" height=\"24px\"viewBox=\"0 0 24 24\"\n",
              "       width=\"24px\">\n",
              "    <path d=\"M0 0h24v24H0V0z\" fill=\"none\"/>\n",
              "    <path d=\"M18.56 5.44l.94 2.06.94-2.06 2.06-.94-2.06-.94-.94-2.06-.94 2.06-2.06.94zm-11 1L8.5 8.5l.94-2.06 2.06-.94-2.06-.94L8.5 2.5l-.94 2.06-2.06.94zm10 10l.94 2.06.94-2.06 2.06-.94-2.06-.94-.94-2.06-.94 2.06-2.06.94z\"/><path d=\"M17.41 7.96l-1.37-1.37c-.4-.4-.92-.59-1.43-.59-.52 0-1.04.2-1.43.59L10.3 9.45l-7.72 7.72c-.78.78-.78 2.05 0 2.83L4 21.41c.39.39.9.59 1.41.59.51 0 1.02-.2 1.41-.59l7.78-7.78 2.81-2.81c.8-.78.8-2.07 0-2.86zM5.41 20L4 18.59l7.72-7.72 1.47 1.35L5.41 20z\"/>\n",
              "  </svg>\n",
              "      </button>\n",
              "      \n",
              "  <style>\n",
              "    .colab-df-container {\n",
              "      display:flex;\n",
              "      flex-wrap:wrap;\n",
              "      gap: 12px;\n",
              "    }\n",
              "\n",
              "    .colab-df-convert {\n",
              "      background-color: #E8F0FE;\n",
              "      border: none;\n",
              "      border-radius: 50%;\n",
              "      cursor: pointer;\n",
              "      display: none;\n",
              "      fill: #1967D2;\n",
              "      height: 32px;\n",
              "      padding: 0 0 0 0;\n",
              "      width: 32px;\n",
              "    }\n",
              "\n",
              "    .colab-df-convert:hover {\n",
              "      background-color: #E2EBFA;\n",
              "      box-shadow: 0px 1px 2px rgba(60, 64, 67, 0.3), 0px 1px 3px 1px rgba(60, 64, 67, 0.15);\n",
              "      fill: #174EA6;\n",
              "    }\n",
              "\n",
              "    [theme=dark] .colab-df-convert {\n",
              "      background-color: #3B4455;\n",
              "      fill: #D2E3FC;\n",
              "    }\n",
              "\n",
              "    [theme=dark] .colab-df-convert:hover {\n",
              "      background-color: #434B5C;\n",
              "      box-shadow: 0px 1px 3px 1px rgba(0, 0, 0, 0.15);\n",
              "      filter: drop-shadow(0px 1px 2px rgba(0, 0, 0, 0.3));\n",
              "      fill: #FFFFFF;\n",
              "    }\n",
              "  </style>\n",
              "\n",
              "      <script>\n",
              "        const buttonEl =\n",
              "          document.querySelector('#df-176e2d2e-6433-40cf-8056-edc2148df106 button.colab-df-convert');\n",
              "        buttonEl.style.display =\n",
              "          google.colab.kernel.accessAllowed ? 'block' : 'none';\n",
              "\n",
              "        async function convertToInteractive(key) {\n",
              "          const element = document.querySelector('#df-176e2d2e-6433-40cf-8056-edc2148df106');\n",
              "          const dataTable =\n",
              "            await google.colab.kernel.invokeFunction('convertToInteractive',\n",
              "                                                     [key], {});\n",
              "          if (!dataTable) return;\n",
              "\n",
              "          const docLinkHtml = 'Like what you see? Visit the ' +\n",
              "            '<a target=\"_blank\" href=https://colab.research.google.com/notebooks/data_table.ipynb>data table notebook</a>'\n",
              "            + ' to learn more about interactive tables.';\n",
              "          element.innerHTML = '';\n",
              "          dataTable['output_type'] = 'display_data';\n",
              "          await google.colab.output.renderOutput(dataTable, element);\n",
              "          const docLink = document.createElement('div');\n",
              "          docLink.innerHTML = docLinkHtml;\n",
              "          element.appendChild(docLink);\n",
              "        }\n",
              "      </script>\n",
              "    </div>\n",
              "  </div>\n",
              "  "
            ]
          },
          "metadata": {},
          "execution_count": 75
        }
      ],
      "source": [
        "#import libraries\n",
        "from mlxtend.frequent_patterns import apriori, association_rules\n",
        "#encode data menjadi binary\n",
        "c0_enc = pd.get_dummies(cluster0)\n",
        "#melakukan apriori\n",
        "itemset_c0 = apriori(c0_enc, min_support = 0.05, use_colnames = True)\n",
        "apr_c0 = association_rules(itemset_c0, metric =\"lift\", min_threshold = 0.5)\n",
        "#menampilkan rules dengan lift tertinggi\n",
        "apr_c0.sort_values(by='lift', ascending=False).head(10)"
      ]
    },
    {
      "cell_type": "code",
      "execution_count": 76,
      "metadata": {
        "colab": {
          "base_uri": "https://localhost:8080/",
          "height": 206
        },
        "id": "uYcru2uwXN8j",
        "outputId": "8797b1f4-df53-4982-f1fb-654ad40a0039"
      },
      "outputs": [
        {
          "output_type": "execute_result",
          "data": {
            "text/plain": [
              "                             antecedents          consequents  \\\n",
              "247      (Fish_lowBuyer, Wine_highBuyer)   (Meat_mediumBuyer)   \n",
              "248   (Meat_mediumBuyer, Wine_highBuyer)      (Fish_lowBuyer)   \n",
              "169   (Fish_mediumBuyer, Wine_highBuyer)  (Fruit_mediumBuyer)   \n",
              "386  (Meat_highBuyer, Fruit_mediumBuyer)   (Fish_mediumBuyer)   \n",
              "170  (Fruit_mediumBuyer, Wine_highBuyer)   (Fish_mediumBuyer)   \n",
              "\n",
              "     antecedent support  consequent support   support  confidence      lift  \\\n",
              "247            0.097436            0.179487  0.051282    0.526316  2.932331   \n",
              "248            0.169231            0.117949  0.051282    0.303030  2.569170   \n",
              "169            0.143590            0.184615  0.066667    0.464286  2.514881   \n",
              "386            0.133333            0.153846  0.051282    0.384615  2.500000   \n",
              "170            0.174359            0.153846  0.066667    0.382353  2.485294   \n",
              "\n",
              "     leverage  conviction  \n",
              "247  0.033794    1.732194  \n",
              "248  0.031321    1.265552  \n",
              "169  0.040158    1.522051  \n",
              "386  0.030769    1.375000  \n",
              "170  0.039842    1.369963  "
            ],
            "text/html": [
              "\n",
              "  <div id=\"df-07b68ef6-50cf-48f3-85d1-3cc8a06122ce\">\n",
              "    <div class=\"colab-df-container\">\n",
              "      <div>\n",
              "<style scoped>\n",
              "    .dataframe tbody tr th:only-of-type {\n",
              "        vertical-align: middle;\n",
              "    }\n",
              "\n",
              "    .dataframe tbody tr th {\n",
              "        vertical-align: top;\n",
              "    }\n",
              "\n",
              "    .dataframe thead th {\n",
              "        text-align: right;\n",
              "    }\n",
              "</style>\n",
              "<table border=\"1\" class=\"dataframe\">\n",
              "  <thead>\n",
              "    <tr style=\"text-align: right;\">\n",
              "      <th></th>\n",
              "      <th>antecedents</th>\n",
              "      <th>consequents</th>\n",
              "      <th>antecedent support</th>\n",
              "      <th>consequent support</th>\n",
              "      <th>support</th>\n",
              "      <th>confidence</th>\n",
              "      <th>lift</th>\n",
              "      <th>leverage</th>\n",
              "      <th>conviction</th>\n",
              "    </tr>\n",
              "  </thead>\n",
              "  <tbody>\n",
              "    <tr>\n",
              "      <th>247</th>\n",
              "      <td>(Fish_lowBuyer, Wine_highBuyer)</td>\n",
              "      <td>(Meat_mediumBuyer)</td>\n",
              "      <td>0.097436</td>\n",
              "      <td>0.179487</td>\n",
              "      <td>0.051282</td>\n",
              "      <td>0.526316</td>\n",
              "      <td>2.932331</td>\n",
              "      <td>0.033794</td>\n",
              "      <td>1.732194</td>\n",
              "    </tr>\n",
              "    <tr>\n",
              "      <th>248</th>\n",
              "      <td>(Meat_mediumBuyer, Wine_highBuyer)</td>\n",
              "      <td>(Fish_lowBuyer)</td>\n",
              "      <td>0.169231</td>\n",
              "      <td>0.117949</td>\n",
              "      <td>0.051282</td>\n",
              "      <td>0.303030</td>\n",
              "      <td>2.569170</td>\n",
              "      <td>0.031321</td>\n",
              "      <td>1.265552</td>\n",
              "    </tr>\n",
              "    <tr>\n",
              "      <th>169</th>\n",
              "      <td>(Fish_mediumBuyer, Wine_highBuyer)</td>\n",
              "      <td>(Fruit_mediumBuyer)</td>\n",
              "      <td>0.143590</td>\n",
              "      <td>0.184615</td>\n",
              "      <td>0.066667</td>\n",
              "      <td>0.464286</td>\n",
              "      <td>2.514881</td>\n",
              "      <td>0.040158</td>\n",
              "      <td>1.522051</td>\n",
              "    </tr>\n",
              "    <tr>\n",
              "      <th>386</th>\n",
              "      <td>(Meat_highBuyer, Fruit_mediumBuyer)</td>\n",
              "      <td>(Fish_mediumBuyer)</td>\n",
              "      <td>0.133333</td>\n",
              "      <td>0.153846</td>\n",
              "      <td>0.051282</td>\n",
              "      <td>0.384615</td>\n",
              "      <td>2.500000</td>\n",
              "      <td>0.030769</td>\n",
              "      <td>1.375000</td>\n",
              "    </tr>\n",
              "    <tr>\n",
              "      <th>170</th>\n",
              "      <td>(Fruit_mediumBuyer, Wine_highBuyer)</td>\n",
              "      <td>(Fish_mediumBuyer)</td>\n",
              "      <td>0.174359</td>\n",
              "      <td>0.153846</td>\n",
              "      <td>0.066667</td>\n",
              "      <td>0.382353</td>\n",
              "      <td>2.485294</td>\n",
              "      <td>0.039842</td>\n",
              "      <td>1.369963</td>\n",
              "    </tr>\n",
              "  </tbody>\n",
              "</table>\n",
              "</div>\n",
              "      <button class=\"colab-df-convert\" onclick=\"convertToInteractive('df-07b68ef6-50cf-48f3-85d1-3cc8a06122ce')\"\n",
              "              title=\"Convert this dataframe to an interactive table.\"\n",
              "              style=\"display:none;\">\n",
              "        \n",
              "  <svg xmlns=\"http://www.w3.org/2000/svg\" height=\"24px\"viewBox=\"0 0 24 24\"\n",
              "       width=\"24px\">\n",
              "    <path d=\"M0 0h24v24H0V0z\" fill=\"none\"/>\n",
              "    <path d=\"M18.56 5.44l.94 2.06.94-2.06 2.06-.94-2.06-.94-.94-2.06-.94 2.06-2.06.94zm-11 1L8.5 8.5l.94-2.06 2.06-.94-2.06-.94L8.5 2.5l-.94 2.06-2.06.94zm10 10l.94 2.06.94-2.06 2.06-.94-2.06-.94-.94-2.06-.94 2.06-2.06.94z\"/><path d=\"M17.41 7.96l-1.37-1.37c-.4-.4-.92-.59-1.43-.59-.52 0-1.04.2-1.43.59L10.3 9.45l-7.72 7.72c-.78.78-.78 2.05 0 2.83L4 21.41c.39.39.9.59 1.41.59.51 0 1.02-.2 1.41-.59l7.78-7.78 2.81-2.81c.8-.78.8-2.07 0-2.86zM5.41 20L4 18.59l7.72-7.72 1.47 1.35L5.41 20z\"/>\n",
              "  </svg>\n",
              "      </button>\n",
              "      \n",
              "  <style>\n",
              "    .colab-df-container {\n",
              "      display:flex;\n",
              "      flex-wrap:wrap;\n",
              "      gap: 12px;\n",
              "    }\n",
              "\n",
              "    .colab-df-convert {\n",
              "      background-color: #E8F0FE;\n",
              "      border: none;\n",
              "      border-radius: 50%;\n",
              "      cursor: pointer;\n",
              "      display: none;\n",
              "      fill: #1967D2;\n",
              "      height: 32px;\n",
              "      padding: 0 0 0 0;\n",
              "      width: 32px;\n",
              "    }\n",
              "\n",
              "    .colab-df-convert:hover {\n",
              "      background-color: #E2EBFA;\n",
              "      box-shadow: 0px 1px 2px rgba(60, 64, 67, 0.3), 0px 1px 3px 1px rgba(60, 64, 67, 0.15);\n",
              "      fill: #174EA6;\n",
              "    }\n",
              "\n",
              "    [theme=dark] .colab-df-convert {\n",
              "      background-color: #3B4455;\n",
              "      fill: #D2E3FC;\n",
              "    }\n",
              "\n",
              "    [theme=dark] .colab-df-convert:hover {\n",
              "      background-color: #434B5C;\n",
              "      box-shadow: 0px 1px 3px 1px rgba(0, 0, 0, 0.15);\n",
              "      filter: drop-shadow(0px 1px 2px rgba(0, 0, 0, 0.3));\n",
              "      fill: #FFFFFF;\n",
              "    }\n",
              "  </style>\n",
              "\n",
              "      <script>\n",
              "        const buttonEl =\n",
              "          document.querySelector('#df-07b68ef6-50cf-48f3-85d1-3cc8a06122ce button.colab-df-convert');\n",
              "        buttonEl.style.display =\n",
              "          google.colab.kernel.accessAllowed ? 'block' : 'none';\n",
              "\n",
              "        async function convertToInteractive(key) {\n",
              "          const element = document.querySelector('#df-07b68ef6-50cf-48f3-85d1-3cc8a06122ce');\n",
              "          const dataTable =\n",
              "            await google.colab.kernel.invokeFunction('convertToInteractive',\n",
              "                                                     [key], {});\n",
              "          if (!dataTable) return;\n",
              "\n",
              "          const docLinkHtml = 'Like what you see? Visit the ' +\n",
              "            '<a target=\"_blank\" href=https://colab.research.google.com/notebooks/data_table.ipynb>data table notebook</a>'\n",
              "            + ' to learn more about interactive tables.';\n",
              "          element.innerHTML = '';\n",
              "          dataTable['output_type'] = 'display_data';\n",
              "          await google.colab.output.renderOutput(dataTable, element);\n",
              "          const docLink = document.createElement('div');\n",
              "          docLink.innerHTML = docLinkHtml;\n",
              "          element.appendChild(docLink);\n",
              "        }\n",
              "      </script>\n",
              "    </div>\n",
              "  </div>\n",
              "  "
            ]
          },
          "metadata": {},
          "execution_count": 76
        }
      ],
      "source": [
        "#mengmbil rules yang mengandung \"highBuyer\" dan lift tertinggi\n",
        "prod = apr_c0[apr_c0['antecedents'].astype(str).str.contains(\"highBuyer\", na=False)].sort_values(by='lift', ascending=False)\n",
        "prod.head()"
      ]
    },
    {
      "cell_type": "markdown",
      "metadata": {
        "id": "DG6QauL0eWMv"
      },
      "source": [
        "Berdasarkan metoe apriori, karakteristik yang paling mencolok dari cluster 0 adalah pembelian yang rendah untuk produk ikan dan manisan , jumlah pembelian produk menegah untuk produk daging dan buah-buhan, dan jumlah pembelian produk yang tinggi untuk produk anggur. Sedangkan untuk produk yang paling banyak terjual pada cluster ini adalah produk anggur , yang biasanya dibeli bersamaan dengan ikan, buah-buahan dan daging."
      ]
    },
    {
      "cell_type": "markdown",
      "metadata": {
        "id": "9msVJak5WrJi"
      },
      "source": [
        "## APRIORI CLUSTER 1"
      ]
    },
    {
      "cell_type": "code",
      "execution_count": 77,
      "metadata": {
        "colab": {
          "base_uri": "https://localhost:8080/",
          "height": 598
        },
        "id": "46Yn3IFk4FDV",
        "outputId": "e43ed09f-6fca-406e-d79c-5443fce97abc"
      },
      "outputs": [
        {
          "output_type": "execute_result",
          "data": {
            "text/plain": [
              "                                            antecedents  \\\n",
              "2346  (Gold_mediumBuyer, Wine_mediumBuyer, Sweet_med...   \n",
              "2363              (Fruit_mediumBuyer, Meat_mediumBuyer)   \n",
              "2362              (Sweet_mediumBuyer, Meat_mediumBuyer)   \n",
              "2347  (Gold_mediumBuyer, Wine_mediumBuyer, Fruit_med...   \n",
              "2316  (Fish_mediumBuyer, Wine_mediumBuyer, Sweet_med...   \n",
              "2333              (Fruit_mediumBuyer, Meat_mediumBuyer)   \n",
              "2360              (Wine_mediumBuyer, Sweet_mediumBuyer)   \n",
              "2349  (Gold_mediumBuyer, Fruit_mediumBuyer, Meat_med...   \n",
              "2137  (Fish_mediumBuyer, Meat_lowBuyer, Gold_mediumB...   \n",
              "2152                 (Fruit_mediumBuyer, Wine_lowBuyer)   \n",
              "\n",
              "                                            consequents  antecedent support  \\\n",
              "2346              (Fruit_mediumBuyer, Meat_mediumBuyer)            0.080699   \n",
              "2363  (Gold_mediumBuyer, Wine_mediumBuyer, Sweet_med...            0.194676   \n",
              "2362  (Gold_mediumBuyer, Wine_mediumBuyer, Fruit_med...            0.196339   \n",
              "2347              (Sweet_mediumBuyer, Meat_mediumBuyer)            0.080699   \n",
              "2316              (Fruit_mediumBuyer, Meat_mediumBuyer)            0.084859   \n",
              "2333  (Fish_mediumBuyer, Wine_mediumBuyer, Sweet_med...            0.194676   \n",
              "2360  (Gold_mediumBuyer, Fruit_mediumBuyer, Meat_med...            0.160566   \n",
              "2349              (Wine_mediumBuyer, Sweet_mediumBuyer)            0.103161   \n",
              "2137                 (Fruit_mediumBuyer, Wine_lowBuyer)            0.085691   \n",
              "2152  (Fish_mediumBuyer, Meat_lowBuyer, Gold_mediumB...            0.207987   \n",
              "\n",
              "      consequent support   support  confidence      lift  leverage  conviction  \n",
              "2346            0.194676  0.054908    0.680412  3.495110  0.039198    2.519886  \n",
              "2363            0.080699  0.054908    0.282051  3.495110  0.039198    1.280455  \n",
              "2362            0.080699  0.054908    0.279661  3.465490  0.039064    1.276206  \n",
              "2347            0.196339  0.054908    0.680412  3.465490  0.039064    2.514680  \n",
              "2316            0.194676  0.055740    0.656863  3.374141  0.039221    2.346946  \n",
              "2333            0.084859  0.055740    0.286325  3.374141  0.039221    1.282294  \n",
              "2360            0.103161  0.054908    0.341969  3.314892  0.038344    1.362912  \n",
              "2349            0.160566  0.054908    0.532258  3.314892  0.038344    1.794653  \n",
              "2137            0.207987  0.058236    0.679612  3.267573  0.040414    2.472042  \n",
              "2152            0.085691  0.058236    0.280000  3.267573  0.040414    1.269874  "
            ],
            "text/html": [
              "\n",
              "  <div id=\"df-2d37ff03-f639-410a-aebb-9ca5b2db65b1\">\n",
              "    <div class=\"colab-df-container\">\n",
              "      <div>\n",
              "<style scoped>\n",
              "    .dataframe tbody tr th:only-of-type {\n",
              "        vertical-align: middle;\n",
              "    }\n",
              "\n",
              "    .dataframe tbody tr th {\n",
              "        vertical-align: top;\n",
              "    }\n",
              "\n",
              "    .dataframe thead th {\n",
              "        text-align: right;\n",
              "    }\n",
              "</style>\n",
              "<table border=\"1\" class=\"dataframe\">\n",
              "  <thead>\n",
              "    <tr style=\"text-align: right;\">\n",
              "      <th></th>\n",
              "      <th>antecedents</th>\n",
              "      <th>consequents</th>\n",
              "      <th>antecedent support</th>\n",
              "      <th>consequent support</th>\n",
              "      <th>support</th>\n",
              "      <th>confidence</th>\n",
              "      <th>lift</th>\n",
              "      <th>leverage</th>\n",
              "      <th>conviction</th>\n",
              "    </tr>\n",
              "  </thead>\n",
              "  <tbody>\n",
              "    <tr>\n",
              "      <th>2346</th>\n",
              "      <td>(Gold_mediumBuyer, Wine_mediumBuyer, Sweet_med...</td>\n",
              "      <td>(Fruit_mediumBuyer, Meat_mediumBuyer)</td>\n",
              "      <td>0.080699</td>\n",
              "      <td>0.194676</td>\n",
              "      <td>0.054908</td>\n",
              "      <td>0.680412</td>\n",
              "      <td>3.495110</td>\n",
              "      <td>0.039198</td>\n",
              "      <td>2.519886</td>\n",
              "    </tr>\n",
              "    <tr>\n",
              "      <th>2363</th>\n",
              "      <td>(Fruit_mediumBuyer, Meat_mediumBuyer)</td>\n",
              "      <td>(Gold_mediumBuyer, Wine_mediumBuyer, Sweet_med...</td>\n",
              "      <td>0.194676</td>\n",
              "      <td>0.080699</td>\n",
              "      <td>0.054908</td>\n",
              "      <td>0.282051</td>\n",
              "      <td>3.495110</td>\n",
              "      <td>0.039198</td>\n",
              "      <td>1.280455</td>\n",
              "    </tr>\n",
              "    <tr>\n",
              "      <th>2362</th>\n",
              "      <td>(Sweet_mediumBuyer, Meat_mediumBuyer)</td>\n",
              "      <td>(Gold_mediumBuyer, Wine_mediumBuyer, Fruit_med...</td>\n",
              "      <td>0.196339</td>\n",
              "      <td>0.080699</td>\n",
              "      <td>0.054908</td>\n",
              "      <td>0.279661</td>\n",
              "      <td>3.465490</td>\n",
              "      <td>0.039064</td>\n",
              "      <td>1.276206</td>\n",
              "    </tr>\n",
              "    <tr>\n",
              "      <th>2347</th>\n",
              "      <td>(Gold_mediumBuyer, Wine_mediumBuyer, Fruit_med...</td>\n",
              "      <td>(Sweet_mediumBuyer, Meat_mediumBuyer)</td>\n",
              "      <td>0.080699</td>\n",
              "      <td>0.196339</td>\n",
              "      <td>0.054908</td>\n",
              "      <td>0.680412</td>\n",
              "      <td>3.465490</td>\n",
              "      <td>0.039064</td>\n",
              "      <td>2.514680</td>\n",
              "    </tr>\n",
              "    <tr>\n",
              "      <th>2316</th>\n",
              "      <td>(Fish_mediumBuyer, Wine_mediumBuyer, Sweet_med...</td>\n",
              "      <td>(Fruit_mediumBuyer, Meat_mediumBuyer)</td>\n",
              "      <td>0.084859</td>\n",
              "      <td>0.194676</td>\n",
              "      <td>0.055740</td>\n",
              "      <td>0.656863</td>\n",
              "      <td>3.374141</td>\n",
              "      <td>0.039221</td>\n",
              "      <td>2.346946</td>\n",
              "    </tr>\n",
              "    <tr>\n",
              "      <th>2333</th>\n",
              "      <td>(Fruit_mediumBuyer, Meat_mediumBuyer)</td>\n",
              "      <td>(Fish_mediumBuyer, Wine_mediumBuyer, Sweet_med...</td>\n",
              "      <td>0.194676</td>\n",
              "      <td>0.084859</td>\n",
              "      <td>0.055740</td>\n",
              "      <td>0.286325</td>\n",
              "      <td>3.374141</td>\n",
              "      <td>0.039221</td>\n",
              "      <td>1.282294</td>\n",
              "    </tr>\n",
              "    <tr>\n",
              "      <th>2360</th>\n",
              "      <td>(Wine_mediumBuyer, Sweet_mediumBuyer)</td>\n",
              "      <td>(Gold_mediumBuyer, Fruit_mediumBuyer, Meat_med...</td>\n",
              "      <td>0.160566</td>\n",
              "      <td>0.103161</td>\n",
              "      <td>0.054908</td>\n",
              "      <td>0.341969</td>\n",
              "      <td>3.314892</td>\n",
              "      <td>0.038344</td>\n",
              "      <td>1.362912</td>\n",
              "    </tr>\n",
              "    <tr>\n",
              "      <th>2349</th>\n",
              "      <td>(Gold_mediumBuyer, Fruit_mediumBuyer, Meat_med...</td>\n",
              "      <td>(Wine_mediumBuyer, Sweet_mediumBuyer)</td>\n",
              "      <td>0.103161</td>\n",
              "      <td>0.160566</td>\n",
              "      <td>0.054908</td>\n",
              "      <td>0.532258</td>\n",
              "      <td>3.314892</td>\n",
              "      <td>0.038344</td>\n",
              "      <td>1.794653</td>\n",
              "    </tr>\n",
              "    <tr>\n",
              "      <th>2137</th>\n",
              "      <td>(Fish_mediumBuyer, Meat_lowBuyer, Gold_mediumB...</td>\n",
              "      <td>(Fruit_mediumBuyer, Wine_lowBuyer)</td>\n",
              "      <td>0.085691</td>\n",
              "      <td>0.207987</td>\n",
              "      <td>0.058236</td>\n",
              "      <td>0.679612</td>\n",
              "      <td>3.267573</td>\n",
              "      <td>0.040414</td>\n",
              "      <td>2.472042</td>\n",
              "    </tr>\n",
              "    <tr>\n",
              "      <th>2152</th>\n",
              "      <td>(Fruit_mediumBuyer, Wine_lowBuyer)</td>\n",
              "      <td>(Fish_mediumBuyer, Meat_lowBuyer, Gold_mediumB...</td>\n",
              "      <td>0.207987</td>\n",
              "      <td>0.085691</td>\n",
              "      <td>0.058236</td>\n",
              "      <td>0.280000</td>\n",
              "      <td>3.267573</td>\n",
              "      <td>0.040414</td>\n",
              "      <td>1.269874</td>\n",
              "    </tr>\n",
              "  </tbody>\n",
              "</table>\n",
              "</div>\n",
              "      <button class=\"colab-df-convert\" onclick=\"convertToInteractive('df-2d37ff03-f639-410a-aebb-9ca5b2db65b1')\"\n",
              "              title=\"Convert this dataframe to an interactive table.\"\n",
              "              style=\"display:none;\">\n",
              "        \n",
              "  <svg xmlns=\"http://www.w3.org/2000/svg\" height=\"24px\"viewBox=\"0 0 24 24\"\n",
              "       width=\"24px\">\n",
              "    <path d=\"M0 0h24v24H0V0z\" fill=\"none\"/>\n",
              "    <path d=\"M18.56 5.44l.94 2.06.94-2.06 2.06-.94-2.06-.94-.94-2.06-.94 2.06-2.06.94zm-11 1L8.5 8.5l.94-2.06 2.06-.94-2.06-.94L8.5 2.5l-.94 2.06-2.06.94zm10 10l.94 2.06.94-2.06 2.06-.94-2.06-.94-.94-2.06-.94 2.06-2.06.94z\"/><path d=\"M17.41 7.96l-1.37-1.37c-.4-.4-.92-.59-1.43-.59-.52 0-1.04.2-1.43.59L10.3 9.45l-7.72 7.72c-.78.78-.78 2.05 0 2.83L4 21.41c.39.39.9.59 1.41.59.51 0 1.02-.2 1.41-.59l7.78-7.78 2.81-2.81c.8-.78.8-2.07 0-2.86zM5.41 20L4 18.59l7.72-7.72 1.47 1.35L5.41 20z\"/>\n",
              "  </svg>\n",
              "      </button>\n",
              "      \n",
              "  <style>\n",
              "    .colab-df-container {\n",
              "      display:flex;\n",
              "      flex-wrap:wrap;\n",
              "      gap: 12px;\n",
              "    }\n",
              "\n",
              "    .colab-df-convert {\n",
              "      background-color: #E8F0FE;\n",
              "      border: none;\n",
              "      border-radius: 50%;\n",
              "      cursor: pointer;\n",
              "      display: none;\n",
              "      fill: #1967D2;\n",
              "      height: 32px;\n",
              "      padding: 0 0 0 0;\n",
              "      width: 32px;\n",
              "    }\n",
              "\n",
              "    .colab-df-convert:hover {\n",
              "      background-color: #E2EBFA;\n",
              "      box-shadow: 0px 1px 2px rgba(60, 64, 67, 0.3), 0px 1px 3px 1px rgba(60, 64, 67, 0.15);\n",
              "      fill: #174EA6;\n",
              "    }\n",
              "\n",
              "    [theme=dark] .colab-df-convert {\n",
              "      background-color: #3B4455;\n",
              "      fill: #D2E3FC;\n",
              "    }\n",
              "\n",
              "    [theme=dark] .colab-df-convert:hover {\n",
              "      background-color: #434B5C;\n",
              "      box-shadow: 0px 1px 3px 1px rgba(0, 0, 0, 0.15);\n",
              "      filter: drop-shadow(0px 1px 2px rgba(0, 0, 0, 0.3));\n",
              "      fill: #FFFFFF;\n",
              "    }\n",
              "  </style>\n",
              "\n",
              "      <script>\n",
              "        const buttonEl =\n",
              "          document.querySelector('#df-2d37ff03-f639-410a-aebb-9ca5b2db65b1 button.colab-df-convert');\n",
              "        buttonEl.style.display =\n",
              "          google.colab.kernel.accessAllowed ? 'block' : 'none';\n",
              "\n",
              "        async function convertToInteractive(key) {\n",
              "          const element = document.querySelector('#df-2d37ff03-f639-410a-aebb-9ca5b2db65b1');\n",
              "          const dataTable =\n",
              "            await google.colab.kernel.invokeFunction('convertToInteractive',\n",
              "                                                     [key], {});\n",
              "          if (!dataTable) return;\n",
              "\n",
              "          const docLinkHtml = 'Like what you see? Visit the ' +\n",
              "            '<a target=\"_blank\" href=https://colab.research.google.com/notebooks/data_table.ipynb>data table notebook</a>'\n",
              "            + ' to learn more about interactive tables.';\n",
              "          element.innerHTML = '';\n",
              "          dataTable['output_type'] = 'display_data';\n",
              "          await google.colab.output.renderOutput(dataTable, element);\n",
              "          const docLink = document.createElement('div');\n",
              "          docLink.innerHTML = docLinkHtml;\n",
              "          element.appendChild(docLink);\n",
              "        }\n",
              "      </script>\n",
              "    </div>\n",
              "  </div>\n",
              "  "
            ]
          },
          "metadata": {},
          "execution_count": 77
        }
      ],
      "source": [
        "#encoding data menjadi binary\n",
        "c1_enc = pd.get_dummies(cluster1)\n",
        "#melakukan apriori\n",
        "itemset_c1 = apriori(c1_enc, min_support = 0.05, use_colnames = True)\n",
        "apr_c1 = association_rules(itemset_c1, metric =\"lift\", min_threshold = 0.5)\n",
        "#mengambil rules dnegan lift tertinggi\n",
        "apr_c1.sort_values(by='lift', ascending=False).head(10)"
      ]
    },
    {
      "cell_type": "code",
      "execution_count": 78,
      "metadata": {
        "colab": {
          "base_uri": "https://localhost:8080/",
          "height": 250
        },
        "id": "TGGyBYmSW-t4",
        "outputId": "d51a858a-fbf0-4233-c997-61f3748aaad8"
      },
      "outputs": [
        {
          "output_type": "execute_result",
          "data": {
            "text/plain": [
              "                            antecedents                           consequents  \\\n",
              "420                    (Gold_highBuyer)  (Wine_mediumBuyer, Meat_mediumBuyer)   \n",
              "416  (Wine_mediumBuyer, Gold_highBuyer)                    (Meat_mediumBuyer)   \n",
              "418  (Gold_highBuyer, Meat_mediumBuyer)                    (Wine_mediumBuyer)   \n",
              "94                     (Gold_highBuyer)                    (Meat_mediumBuyer)   \n",
              "37                     (Gold_highBuyer)                    (Wine_mediumBuyer)   \n",
              "\n",
              "     antecedent support  consequent support   support  confidence      lift  \\\n",
              "420            0.101498            0.278702  0.072379    0.713115  2.558698   \n",
              "416            0.079867            0.374376  0.072379    0.906250  2.420694   \n",
              "418            0.084027            0.369384  0.072379    0.861386  2.331951   \n",
              "94             0.101498            0.374376  0.084027    0.827869  2.211330   \n",
              "37             0.101498            0.369384  0.079867    0.786885  2.130261   \n",
              "\n",
              "     leverage  conviction  \n",
              "420  0.044092    2.514238  \n",
              "416  0.042479    6.673322  \n",
              "418  0.041341    4.549441  \n",
              "94   0.046028    3.634577  \n",
              "37   0.042375    2.959043  "
            ],
            "text/html": [
              "\n",
              "  <div id=\"df-5b0ca47e-7096-4d81-beec-484b089698ce\">\n",
              "    <div class=\"colab-df-container\">\n",
              "      <div>\n",
              "<style scoped>\n",
              "    .dataframe tbody tr th:only-of-type {\n",
              "        vertical-align: middle;\n",
              "    }\n",
              "\n",
              "    .dataframe tbody tr th {\n",
              "        vertical-align: top;\n",
              "    }\n",
              "\n",
              "    .dataframe thead th {\n",
              "        text-align: right;\n",
              "    }\n",
              "</style>\n",
              "<table border=\"1\" class=\"dataframe\">\n",
              "  <thead>\n",
              "    <tr style=\"text-align: right;\">\n",
              "      <th></th>\n",
              "      <th>antecedents</th>\n",
              "      <th>consequents</th>\n",
              "      <th>antecedent support</th>\n",
              "      <th>consequent support</th>\n",
              "      <th>support</th>\n",
              "      <th>confidence</th>\n",
              "      <th>lift</th>\n",
              "      <th>leverage</th>\n",
              "      <th>conviction</th>\n",
              "    </tr>\n",
              "  </thead>\n",
              "  <tbody>\n",
              "    <tr>\n",
              "      <th>420</th>\n",
              "      <td>(Gold_highBuyer)</td>\n",
              "      <td>(Wine_mediumBuyer, Meat_mediumBuyer)</td>\n",
              "      <td>0.101498</td>\n",
              "      <td>0.278702</td>\n",
              "      <td>0.072379</td>\n",
              "      <td>0.713115</td>\n",
              "      <td>2.558698</td>\n",
              "      <td>0.044092</td>\n",
              "      <td>2.514238</td>\n",
              "    </tr>\n",
              "    <tr>\n",
              "      <th>416</th>\n",
              "      <td>(Wine_mediumBuyer, Gold_highBuyer)</td>\n",
              "      <td>(Meat_mediumBuyer)</td>\n",
              "      <td>0.079867</td>\n",
              "      <td>0.374376</td>\n",
              "      <td>0.072379</td>\n",
              "      <td>0.906250</td>\n",
              "      <td>2.420694</td>\n",
              "      <td>0.042479</td>\n",
              "      <td>6.673322</td>\n",
              "    </tr>\n",
              "    <tr>\n",
              "      <th>418</th>\n",
              "      <td>(Gold_highBuyer, Meat_mediumBuyer)</td>\n",
              "      <td>(Wine_mediumBuyer)</td>\n",
              "      <td>0.084027</td>\n",
              "      <td>0.369384</td>\n",
              "      <td>0.072379</td>\n",
              "      <td>0.861386</td>\n",
              "      <td>2.331951</td>\n",
              "      <td>0.041341</td>\n",
              "      <td>4.549441</td>\n",
              "    </tr>\n",
              "    <tr>\n",
              "      <th>94</th>\n",
              "      <td>(Gold_highBuyer)</td>\n",
              "      <td>(Meat_mediumBuyer)</td>\n",
              "      <td>0.101498</td>\n",
              "      <td>0.374376</td>\n",
              "      <td>0.084027</td>\n",
              "      <td>0.827869</td>\n",
              "      <td>2.211330</td>\n",
              "      <td>0.046028</td>\n",
              "      <td>3.634577</td>\n",
              "    </tr>\n",
              "    <tr>\n",
              "      <th>37</th>\n",
              "      <td>(Gold_highBuyer)</td>\n",
              "      <td>(Wine_mediumBuyer)</td>\n",
              "      <td>0.101498</td>\n",
              "      <td>0.369384</td>\n",
              "      <td>0.079867</td>\n",
              "      <td>0.786885</td>\n",
              "      <td>2.130261</td>\n",
              "      <td>0.042375</td>\n",
              "      <td>2.959043</td>\n",
              "    </tr>\n",
              "  </tbody>\n",
              "</table>\n",
              "</div>\n",
              "      <button class=\"colab-df-convert\" onclick=\"convertToInteractive('df-5b0ca47e-7096-4d81-beec-484b089698ce')\"\n",
              "              title=\"Convert this dataframe to an interactive table.\"\n",
              "              style=\"display:none;\">\n",
              "        \n",
              "  <svg xmlns=\"http://www.w3.org/2000/svg\" height=\"24px\"viewBox=\"0 0 24 24\"\n",
              "       width=\"24px\">\n",
              "    <path d=\"M0 0h24v24H0V0z\" fill=\"none\"/>\n",
              "    <path d=\"M18.56 5.44l.94 2.06.94-2.06 2.06-.94-2.06-.94-.94-2.06-.94 2.06-2.06.94zm-11 1L8.5 8.5l.94-2.06 2.06-.94-2.06-.94L8.5 2.5l-.94 2.06-2.06.94zm10 10l.94 2.06.94-2.06 2.06-.94-2.06-.94-.94-2.06-.94 2.06-2.06.94z\"/><path d=\"M17.41 7.96l-1.37-1.37c-.4-.4-.92-.59-1.43-.59-.52 0-1.04.2-1.43.59L10.3 9.45l-7.72 7.72c-.78.78-.78 2.05 0 2.83L4 21.41c.39.39.9.59 1.41.59.51 0 1.02-.2 1.41-.59l7.78-7.78 2.81-2.81c.8-.78.8-2.07 0-2.86zM5.41 20L4 18.59l7.72-7.72 1.47 1.35L5.41 20z\"/>\n",
              "  </svg>\n",
              "      </button>\n",
              "      \n",
              "  <style>\n",
              "    .colab-df-container {\n",
              "      display:flex;\n",
              "      flex-wrap:wrap;\n",
              "      gap: 12px;\n",
              "    }\n",
              "\n",
              "    .colab-df-convert {\n",
              "      background-color: #E8F0FE;\n",
              "      border: none;\n",
              "      border-radius: 50%;\n",
              "      cursor: pointer;\n",
              "      display: none;\n",
              "      fill: #1967D2;\n",
              "      height: 32px;\n",
              "      padding: 0 0 0 0;\n",
              "      width: 32px;\n",
              "    }\n",
              "\n",
              "    .colab-df-convert:hover {\n",
              "      background-color: #E2EBFA;\n",
              "      box-shadow: 0px 1px 2px rgba(60, 64, 67, 0.3), 0px 1px 3px 1px rgba(60, 64, 67, 0.15);\n",
              "      fill: #174EA6;\n",
              "    }\n",
              "\n",
              "    [theme=dark] .colab-df-convert {\n",
              "      background-color: #3B4455;\n",
              "      fill: #D2E3FC;\n",
              "    }\n",
              "\n",
              "    [theme=dark] .colab-df-convert:hover {\n",
              "      background-color: #434B5C;\n",
              "      box-shadow: 0px 1px 3px 1px rgba(0, 0, 0, 0.15);\n",
              "      filter: drop-shadow(0px 1px 2px rgba(0, 0, 0, 0.3));\n",
              "      fill: #FFFFFF;\n",
              "    }\n",
              "  </style>\n",
              "\n",
              "      <script>\n",
              "        const buttonEl =\n",
              "          document.querySelector('#df-5b0ca47e-7096-4d81-beec-484b089698ce button.colab-df-convert');\n",
              "        buttonEl.style.display =\n",
              "          google.colab.kernel.accessAllowed ? 'block' : 'none';\n",
              "\n",
              "        async function convertToInteractive(key) {\n",
              "          const element = document.querySelector('#df-5b0ca47e-7096-4d81-beec-484b089698ce');\n",
              "          const dataTable =\n",
              "            await google.colab.kernel.invokeFunction('convertToInteractive',\n",
              "                                                     [key], {});\n",
              "          if (!dataTable) return;\n",
              "\n",
              "          const docLinkHtml = 'Like what you see? Visit the ' +\n",
              "            '<a target=\"_blank\" href=https://colab.research.google.com/notebooks/data_table.ipynb>data table notebook</a>'\n",
              "            + ' to learn more about interactive tables.';\n",
              "          element.innerHTML = '';\n",
              "          dataTable['output_type'] = 'display_data';\n",
              "          await google.colab.output.renderOutput(dataTable, element);\n",
              "          const docLink = document.createElement('div');\n",
              "          docLink.innerHTML = docLinkHtml;\n",
              "          element.appendChild(docLink);\n",
              "        }\n",
              "      </script>\n",
              "    </div>\n",
              "  </div>\n",
              "  "
            ]
          },
          "metadata": {},
          "execution_count": 78
        }
      ],
      "source": [
        "#mengambil rules yang mengandung \"highBuyer\" dengan lift tertinggi\n",
        "prod = apr_c1[apr_c1['antecedents'].astype(str).str.contains(\"highBuyer\", na=False)].sort_values(by='lift', ascending=False)\n",
        "prod.head()"
      ]
    },
    {
      "cell_type": "markdown",
      "metadata": {
        "id": "dTA6cZ7gffQr"
      },
      "source": [
        "Berdasarkan metode apriori, karakteristik yang paling mencolok dari cluster 1 adalah pembelian dengan jumlah rendah-menengah untuk produk anggur  dan  daging dan pembelian produk dengan jumlah medium untuk ikan, manisan, dan emas. Sedangkan untuk produk yang paling banyak terjual pada cluster ini adalah produk emas denga pembelian bersama anggur atau daging, atau keduanya."
      ]
    },
    {
      "cell_type": "markdown",
      "metadata": {
        "id": "xTFC6_fOWt65"
      },
      "source": [
        "## APRIORI CLUSTER 2"
      ]
    },
    {
      "cell_type": "code",
      "execution_count": 79,
      "metadata": {
        "colab": {
          "base_uri": "https://localhost:8080/",
          "height": 493
        },
        "id": "eJMWi8bw50cD",
        "outputId": "b4f89a39-55da-4aaa-e904-5a73c21efc5c"
      },
      "outputs": [
        {
          "output_type": "execute_result",
          "data": {
            "text/plain": [
              "                                            antecedents  \\\n",
              "1315              (Fruit_mediumBuyer, Meat_mediumBuyer)   \n",
              "1310              (Fish_mediumBuyer, Sweet_mediumBuyer)   \n",
              "1311              (Fish_mediumBuyer, Fruit_mediumBuyer)   \n",
              "1314              (Sweet_mediumBuyer, Meat_mediumBuyer)   \n",
              "1312               (Fish_mediumBuyer, Meat_mediumBuyer)   \n",
              "1313             (Sweet_mediumBuyer, Fruit_mediumBuyer)   \n",
              "1307  (Fish_mediumBuyer, Sweet_mediumBuyer, Meat_med...   \n",
              "1318                                (Fruit_mediumBuyer)   \n",
              "1000  (Sweet_mediumBuyer, Meat_mediumBuyer, Wine_hig...   \n",
              "1009                                (Fruit_mediumBuyer)   \n",
              "\n",
              "                                            consequents  antecedent support  \\\n",
              "1315              (Fish_mediumBuyer, Sweet_mediumBuyer)            0.126380   \n",
              "1310              (Fruit_mediumBuyer, Meat_mediumBuyer)            0.114110   \n",
              "1311              (Sweet_mediumBuyer, Meat_mediumBuyer)            0.125153   \n",
              "1314              (Fish_mediumBuyer, Fruit_mediumBuyer)            0.117791   \n",
              "1312             (Sweet_mediumBuyer, Fruit_mediumBuyer)            0.128834   \n",
              "1313               (Fish_mediumBuyer, Meat_mediumBuyer)            0.115337   \n",
              "1307                                (Fruit_mediumBuyer)            0.067485   \n",
              "1318  (Fish_mediumBuyer, Sweet_mediumBuyer, Meat_med...            0.260123   \n",
              "1000                                (Fruit_mediumBuyer)            0.077301   \n",
              "1009  (Sweet_mediumBuyer, Meat_mediumBuyer, Wine_hig...            0.260123   \n",
              "\n",
              "      consequent support   support  confidence      lift  leverage  conviction  \n",
              "1315            0.114110  0.051534    0.407767  3.573442  0.037112    1.495846  \n",
              "1310            0.126380  0.051534    0.451613  3.573442  0.037112    1.593071  \n",
              "1311            0.117791  0.051534    0.411765  3.495711  0.036792    1.499755  \n",
              "1314            0.125153  0.051534    0.437500  3.495711  0.036792    1.555283  \n",
              "1312            0.115337  0.051534    0.400000  3.468085  0.036674    1.474438  \n",
              "1313            0.128834  0.051534    0.446809  3.468085  0.036674    1.574799  \n",
              "1307            0.260123  0.051534    0.763636  2.935678  0.033979    3.130250  \n",
              "1318            0.067485  0.051534    0.198113  2.935678  0.033979    1.162901  \n",
              "1000            0.260123  0.053988    0.698413  2.684936  0.033880    2.453277  \n",
              "1009            0.077301  0.053988    0.207547  2.684936  0.033880    1.164359  "
            ],
            "text/html": [
              "\n",
              "  <div id=\"df-24bda692-0a7a-48c2-8fa5-a496a26e3b4c\">\n",
              "    <div class=\"colab-df-container\">\n",
              "      <div>\n",
              "<style scoped>\n",
              "    .dataframe tbody tr th:only-of-type {\n",
              "        vertical-align: middle;\n",
              "    }\n",
              "\n",
              "    .dataframe tbody tr th {\n",
              "        vertical-align: top;\n",
              "    }\n",
              "\n",
              "    .dataframe thead th {\n",
              "        text-align: right;\n",
              "    }\n",
              "</style>\n",
              "<table border=\"1\" class=\"dataframe\">\n",
              "  <thead>\n",
              "    <tr style=\"text-align: right;\">\n",
              "      <th></th>\n",
              "      <th>antecedents</th>\n",
              "      <th>consequents</th>\n",
              "      <th>antecedent support</th>\n",
              "      <th>consequent support</th>\n",
              "      <th>support</th>\n",
              "      <th>confidence</th>\n",
              "      <th>lift</th>\n",
              "      <th>leverage</th>\n",
              "      <th>conviction</th>\n",
              "    </tr>\n",
              "  </thead>\n",
              "  <tbody>\n",
              "    <tr>\n",
              "      <th>1315</th>\n",
              "      <td>(Fruit_mediumBuyer, Meat_mediumBuyer)</td>\n",
              "      <td>(Fish_mediumBuyer, Sweet_mediumBuyer)</td>\n",
              "      <td>0.126380</td>\n",
              "      <td>0.114110</td>\n",
              "      <td>0.051534</td>\n",
              "      <td>0.407767</td>\n",
              "      <td>3.573442</td>\n",
              "      <td>0.037112</td>\n",
              "      <td>1.495846</td>\n",
              "    </tr>\n",
              "    <tr>\n",
              "      <th>1310</th>\n",
              "      <td>(Fish_mediumBuyer, Sweet_mediumBuyer)</td>\n",
              "      <td>(Fruit_mediumBuyer, Meat_mediumBuyer)</td>\n",
              "      <td>0.114110</td>\n",
              "      <td>0.126380</td>\n",
              "      <td>0.051534</td>\n",
              "      <td>0.451613</td>\n",
              "      <td>3.573442</td>\n",
              "      <td>0.037112</td>\n",
              "      <td>1.593071</td>\n",
              "    </tr>\n",
              "    <tr>\n",
              "      <th>1311</th>\n",
              "      <td>(Fish_mediumBuyer, Fruit_mediumBuyer)</td>\n",
              "      <td>(Sweet_mediumBuyer, Meat_mediumBuyer)</td>\n",
              "      <td>0.125153</td>\n",
              "      <td>0.117791</td>\n",
              "      <td>0.051534</td>\n",
              "      <td>0.411765</td>\n",
              "      <td>3.495711</td>\n",
              "      <td>0.036792</td>\n",
              "      <td>1.499755</td>\n",
              "    </tr>\n",
              "    <tr>\n",
              "      <th>1314</th>\n",
              "      <td>(Sweet_mediumBuyer, Meat_mediumBuyer)</td>\n",
              "      <td>(Fish_mediumBuyer, Fruit_mediumBuyer)</td>\n",
              "      <td>0.117791</td>\n",
              "      <td>0.125153</td>\n",
              "      <td>0.051534</td>\n",
              "      <td>0.437500</td>\n",
              "      <td>3.495711</td>\n",
              "      <td>0.036792</td>\n",
              "      <td>1.555283</td>\n",
              "    </tr>\n",
              "    <tr>\n",
              "      <th>1312</th>\n",
              "      <td>(Fish_mediumBuyer, Meat_mediumBuyer)</td>\n",
              "      <td>(Sweet_mediumBuyer, Fruit_mediumBuyer)</td>\n",
              "      <td>0.128834</td>\n",
              "      <td>0.115337</td>\n",
              "      <td>0.051534</td>\n",
              "      <td>0.400000</td>\n",
              "      <td>3.468085</td>\n",
              "      <td>0.036674</td>\n",
              "      <td>1.474438</td>\n",
              "    </tr>\n",
              "    <tr>\n",
              "      <th>1313</th>\n",
              "      <td>(Sweet_mediumBuyer, Fruit_mediumBuyer)</td>\n",
              "      <td>(Fish_mediumBuyer, Meat_mediumBuyer)</td>\n",
              "      <td>0.115337</td>\n",
              "      <td>0.128834</td>\n",
              "      <td>0.051534</td>\n",
              "      <td>0.446809</td>\n",
              "      <td>3.468085</td>\n",
              "      <td>0.036674</td>\n",
              "      <td>1.574799</td>\n",
              "    </tr>\n",
              "    <tr>\n",
              "      <th>1307</th>\n",
              "      <td>(Fish_mediumBuyer, Sweet_mediumBuyer, Meat_med...</td>\n",
              "      <td>(Fruit_mediumBuyer)</td>\n",
              "      <td>0.067485</td>\n",
              "      <td>0.260123</td>\n",
              "      <td>0.051534</td>\n",
              "      <td>0.763636</td>\n",
              "      <td>2.935678</td>\n",
              "      <td>0.033979</td>\n",
              "      <td>3.130250</td>\n",
              "    </tr>\n",
              "    <tr>\n",
              "      <th>1318</th>\n",
              "      <td>(Fruit_mediumBuyer)</td>\n",
              "      <td>(Fish_mediumBuyer, Sweet_mediumBuyer, Meat_med...</td>\n",
              "      <td>0.260123</td>\n",
              "      <td>0.067485</td>\n",
              "      <td>0.051534</td>\n",
              "      <td>0.198113</td>\n",
              "      <td>2.935678</td>\n",
              "      <td>0.033979</td>\n",
              "      <td>1.162901</td>\n",
              "    </tr>\n",
              "    <tr>\n",
              "      <th>1000</th>\n",
              "      <td>(Sweet_mediumBuyer, Meat_mediumBuyer, Wine_hig...</td>\n",
              "      <td>(Fruit_mediumBuyer)</td>\n",
              "      <td>0.077301</td>\n",
              "      <td>0.260123</td>\n",
              "      <td>0.053988</td>\n",
              "      <td>0.698413</td>\n",
              "      <td>2.684936</td>\n",
              "      <td>0.033880</td>\n",
              "      <td>2.453277</td>\n",
              "    </tr>\n",
              "    <tr>\n",
              "      <th>1009</th>\n",
              "      <td>(Fruit_mediumBuyer)</td>\n",
              "      <td>(Sweet_mediumBuyer, Meat_mediumBuyer, Wine_hig...</td>\n",
              "      <td>0.260123</td>\n",
              "      <td>0.077301</td>\n",
              "      <td>0.053988</td>\n",
              "      <td>0.207547</td>\n",
              "      <td>2.684936</td>\n",
              "      <td>0.033880</td>\n",
              "      <td>1.164359</td>\n",
              "    </tr>\n",
              "  </tbody>\n",
              "</table>\n",
              "</div>\n",
              "      <button class=\"colab-df-convert\" onclick=\"convertToInteractive('df-24bda692-0a7a-48c2-8fa5-a496a26e3b4c')\"\n",
              "              title=\"Convert this dataframe to an interactive table.\"\n",
              "              style=\"display:none;\">\n",
              "        \n",
              "  <svg xmlns=\"http://www.w3.org/2000/svg\" height=\"24px\"viewBox=\"0 0 24 24\"\n",
              "       width=\"24px\">\n",
              "    <path d=\"M0 0h24v24H0V0z\" fill=\"none\"/>\n",
              "    <path d=\"M18.56 5.44l.94 2.06.94-2.06 2.06-.94-2.06-.94-.94-2.06-.94 2.06-2.06.94zm-11 1L8.5 8.5l.94-2.06 2.06-.94-2.06-.94L8.5 2.5l-.94 2.06-2.06.94zm10 10l.94 2.06.94-2.06 2.06-.94-2.06-.94-.94-2.06-.94 2.06-2.06.94z\"/><path d=\"M17.41 7.96l-1.37-1.37c-.4-.4-.92-.59-1.43-.59-.52 0-1.04.2-1.43.59L10.3 9.45l-7.72 7.72c-.78.78-.78 2.05 0 2.83L4 21.41c.39.39.9.59 1.41.59.51 0 1.02-.2 1.41-.59l7.78-7.78 2.81-2.81c.8-.78.8-2.07 0-2.86zM5.41 20L4 18.59l7.72-7.72 1.47 1.35L5.41 20z\"/>\n",
              "  </svg>\n",
              "      </button>\n",
              "      \n",
              "  <style>\n",
              "    .colab-df-container {\n",
              "      display:flex;\n",
              "      flex-wrap:wrap;\n",
              "      gap: 12px;\n",
              "    }\n",
              "\n",
              "    .colab-df-convert {\n",
              "      background-color: #E8F0FE;\n",
              "      border: none;\n",
              "      border-radius: 50%;\n",
              "      cursor: pointer;\n",
              "      display: none;\n",
              "      fill: #1967D2;\n",
              "      height: 32px;\n",
              "      padding: 0 0 0 0;\n",
              "      width: 32px;\n",
              "    }\n",
              "\n",
              "    .colab-df-convert:hover {\n",
              "      background-color: #E2EBFA;\n",
              "      box-shadow: 0px 1px 2px rgba(60, 64, 67, 0.3), 0px 1px 3px 1px rgba(60, 64, 67, 0.15);\n",
              "      fill: #174EA6;\n",
              "    }\n",
              "\n",
              "    [theme=dark] .colab-df-convert {\n",
              "      background-color: #3B4455;\n",
              "      fill: #D2E3FC;\n",
              "    }\n",
              "\n",
              "    [theme=dark] .colab-df-convert:hover {\n",
              "      background-color: #434B5C;\n",
              "      box-shadow: 0px 1px 3px 1px rgba(0, 0, 0, 0.15);\n",
              "      filter: drop-shadow(0px 1px 2px rgba(0, 0, 0, 0.3));\n",
              "      fill: #FFFFFF;\n",
              "    }\n",
              "  </style>\n",
              "\n",
              "      <script>\n",
              "        const buttonEl =\n",
              "          document.querySelector('#df-24bda692-0a7a-48c2-8fa5-a496a26e3b4c button.colab-df-convert');\n",
              "        buttonEl.style.display =\n",
              "          google.colab.kernel.accessAllowed ? 'block' : 'none';\n",
              "\n",
              "        async function convertToInteractive(key) {\n",
              "          const element = document.querySelector('#df-24bda692-0a7a-48c2-8fa5-a496a26e3b4c');\n",
              "          const dataTable =\n",
              "            await google.colab.kernel.invokeFunction('convertToInteractive',\n",
              "                                                     [key], {});\n",
              "          if (!dataTable) return;\n",
              "\n",
              "          const docLinkHtml = 'Like what you see? Visit the ' +\n",
              "            '<a target=\"_blank\" href=https://colab.research.google.com/notebooks/data_table.ipynb>data table notebook</a>'\n",
              "            + ' to learn more about interactive tables.';\n",
              "          element.innerHTML = '';\n",
              "          dataTable['output_type'] = 'display_data';\n",
              "          await google.colab.output.renderOutput(dataTable, element);\n",
              "          const docLink = document.createElement('div');\n",
              "          docLink.innerHTML = docLinkHtml;\n",
              "          element.appendChild(docLink);\n",
              "        }\n",
              "      </script>\n",
              "    </div>\n",
              "  </div>\n",
              "  "
            ]
          },
          "metadata": {},
          "execution_count": 79
        }
      ],
      "source": [
        "#encoding data menjadi binary\n",
        "c2_enc = pd.get_dummies(cluster2)\n",
        "#melakukan apriori\n",
        "itemset_c2 = apriori(c2_enc, min_support = 0.05, use_colnames = True)\n",
        "apr_c2 = association_rules(itemset_c2, metric =\"lift\", min_threshold = 0.5)\n",
        "#mengambil rules dengan lift tertinggi\n",
        "apr_c2.sort_values(by='lift', ascending=False).head(10)"
      ]
    },
    {
      "cell_type": "code",
      "execution_count": 80,
      "metadata": {
        "colab": {
          "base_uri": "https://localhost:8080/",
          "height": 354
        },
        "id": "-kO7R1OG4VTv",
        "outputId": "33f3c124-5df4-4b6d-ba8a-125ce79167a0"
      },
      "outputs": [
        {
          "output_type": "execute_result",
          "data": {
            "text/plain": [
              "                                            antecedents  \\\n",
              "1000  (Sweet_mediumBuyer, Meat_mediumBuyer, Wine_hig...   \n",
              "1004                (Sweet_mediumBuyer, Wine_highBuyer)   \n",
              "1001  (Fruit_mediumBuyer, Meat_mediumBuyer, Wine_hig...   \n",
              "1048                (Sweet_mediumBuyer, Wine_highBuyer)   \n",
              "1007                 (Meat_mediumBuyer, Wine_highBuyer)   \n",
              "\n",
              "                                 consequents  antecedent support  \\\n",
              "1000                     (Fruit_mediumBuyer)            0.077301   \n",
              "1004   (Fruit_mediumBuyer, Meat_mediumBuyer)            0.161963   \n",
              "1001                     (Sweet_mediumBuyer)            0.085890   \n",
              "1048   (Fish_mediumBuyer, Fruit_mediumBuyer)            0.161963   \n",
              "1007  (Sweet_mediumBuyer, Fruit_mediumBuyer)            0.180368   \n",
              "\n",
              "      consequent support   support  confidence      lift  leverage  conviction  \n",
              "1000            0.260123  0.053988    0.698413  2.684936  0.033880    2.453277  \n",
              "1004            0.126380  0.053988    0.333333  2.637540  0.033519    1.310429  \n",
              "1001            0.239264  0.053988    0.628571  2.627106  0.033437    2.048136  \n",
              "1048            0.125153  0.052761    0.325758  2.602867  0.032490    1.297525  \n",
              "1007            0.115337  0.053988    0.299320  2.595166  0.033185    1.262577  "
            ],
            "text/html": [
              "\n",
              "  <div id=\"df-29089fa5-f7a7-4106-a063-51c54ad040bd\">\n",
              "    <div class=\"colab-df-container\">\n",
              "      <div>\n",
              "<style scoped>\n",
              "    .dataframe tbody tr th:only-of-type {\n",
              "        vertical-align: middle;\n",
              "    }\n",
              "\n",
              "    .dataframe tbody tr th {\n",
              "        vertical-align: top;\n",
              "    }\n",
              "\n",
              "    .dataframe thead th {\n",
              "        text-align: right;\n",
              "    }\n",
              "</style>\n",
              "<table border=\"1\" class=\"dataframe\">\n",
              "  <thead>\n",
              "    <tr style=\"text-align: right;\">\n",
              "      <th></th>\n",
              "      <th>antecedents</th>\n",
              "      <th>consequents</th>\n",
              "      <th>antecedent support</th>\n",
              "      <th>consequent support</th>\n",
              "      <th>support</th>\n",
              "      <th>confidence</th>\n",
              "      <th>lift</th>\n",
              "      <th>leverage</th>\n",
              "      <th>conviction</th>\n",
              "    </tr>\n",
              "  </thead>\n",
              "  <tbody>\n",
              "    <tr>\n",
              "      <th>1000</th>\n",
              "      <td>(Sweet_mediumBuyer, Meat_mediumBuyer, Wine_hig...</td>\n",
              "      <td>(Fruit_mediumBuyer)</td>\n",
              "      <td>0.077301</td>\n",
              "      <td>0.260123</td>\n",
              "      <td>0.053988</td>\n",
              "      <td>0.698413</td>\n",
              "      <td>2.684936</td>\n",
              "      <td>0.033880</td>\n",
              "      <td>2.453277</td>\n",
              "    </tr>\n",
              "    <tr>\n",
              "      <th>1004</th>\n",
              "      <td>(Sweet_mediumBuyer, Wine_highBuyer)</td>\n",
              "      <td>(Fruit_mediumBuyer, Meat_mediumBuyer)</td>\n",
              "      <td>0.161963</td>\n",
              "      <td>0.126380</td>\n",
              "      <td>0.053988</td>\n",
              "      <td>0.333333</td>\n",
              "      <td>2.637540</td>\n",
              "      <td>0.033519</td>\n",
              "      <td>1.310429</td>\n",
              "    </tr>\n",
              "    <tr>\n",
              "      <th>1001</th>\n",
              "      <td>(Fruit_mediumBuyer, Meat_mediumBuyer, Wine_hig...</td>\n",
              "      <td>(Sweet_mediumBuyer)</td>\n",
              "      <td>0.085890</td>\n",
              "      <td>0.239264</td>\n",
              "      <td>0.053988</td>\n",
              "      <td>0.628571</td>\n",
              "      <td>2.627106</td>\n",
              "      <td>0.033437</td>\n",
              "      <td>2.048136</td>\n",
              "    </tr>\n",
              "    <tr>\n",
              "      <th>1048</th>\n",
              "      <td>(Sweet_mediumBuyer, Wine_highBuyer)</td>\n",
              "      <td>(Fish_mediumBuyer, Fruit_mediumBuyer)</td>\n",
              "      <td>0.161963</td>\n",
              "      <td>0.125153</td>\n",
              "      <td>0.052761</td>\n",
              "      <td>0.325758</td>\n",
              "      <td>2.602867</td>\n",
              "      <td>0.032490</td>\n",
              "      <td>1.297525</td>\n",
              "    </tr>\n",
              "    <tr>\n",
              "      <th>1007</th>\n",
              "      <td>(Meat_mediumBuyer, Wine_highBuyer)</td>\n",
              "      <td>(Sweet_mediumBuyer, Fruit_mediumBuyer)</td>\n",
              "      <td>0.180368</td>\n",
              "      <td>0.115337</td>\n",
              "      <td>0.053988</td>\n",
              "      <td>0.299320</td>\n",
              "      <td>2.595166</td>\n",
              "      <td>0.033185</td>\n",
              "      <td>1.262577</td>\n",
              "    </tr>\n",
              "  </tbody>\n",
              "</table>\n",
              "</div>\n",
              "      <button class=\"colab-df-convert\" onclick=\"convertToInteractive('df-29089fa5-f7a7-4106-a063-51c54ad040bd')\"\n",
              "              title=\"Convert this dataframe to an interactive table.\"\n",
              "              style=\"display:none;\">\n",
              "        \n",
              "  <svg xmlns=\"http://www.w3.org/2000/svg\" height=\"24px\"viewBox=\"0 0 24 24\"\n",
              "       width=\"24px\">\n",
              "    <path d=\"M0 0h24v24H0V0z\" fill=\"none\"/>\n",
              "    <path d=\"M18.56 5.44l.94 2.06.94-2.06 2.06-.94-2.06-.94-.94-2.06-.94 2.06-2.06.94zm-11 1L8.5 8.5l.94-2.06 2.06-.94-2.06-.94L8.5 2.5l-.94 2.06-2.06.94zm10 10l.94 2.06.94-2.06 2.06-.94-2.06-.94-.94-2.06-.94 2.06-2.06.94z\"/><path d=\"M17.41 7.96l-1.37-1.37c-.4-.4-.92-.59-1.43-.59-.52 0-1.04.2-1.43.59L10.3 9.45l-7.72 7.72c-.78.78-.78 2.05 0 2.83L4 21.41c.39.39.9.59 1.41.59.51 0 1.02-.2 1.41-.59l7.78-7.78 2.81-2.81c.8-.78.8-2.07 0-2.86zM5.41 20L4 18.59l7.72-7.72 1.47 1.35L5.41 20z\"/>\n",
              "  </svg>\n",
              "      </button>\n",
              "      \n",
              "  <style>\n",
              "    .colab-df-container {\n",
              "      display:flex;\n",
              "      flex-wrap:wrap;\n",
              "      gap: 12px;\n",
              "    }\n",
              "\n",
              "    .colab-df-convert {\n",
              "      background-color: #E8F0FE;\n",
              "      border: none;\n",
              "      border-radius: 50%;\n",
              "      cursor: pointer;\n",
              "      display: none;\n",
              "      fill: #1967D2;\n",
              "      height: 32px;\n",
              "      padding: 0 0 0 0;\n",
              "      width: 32px;\n",
              "    }\n",
              "\n",
              "    .colab-df-convert:hover {\n",
              "      background-color: #E2EBFA;\n",
              "      box-shadow: 0px 1px 2px rgba(60, 64, 67, 0.3), 0px 1px 3px 1px rgba(60, 64, 67, 0.15);\n",
              "      fill: #174EA6;\n",
              "    }\n",
              "\n",
              "    [theme=dark] .colab-df-convert {\n",
              "      background-color: #3B4455;\n",
              "      fill: #D2E3FC;\n",
              "    }\n",
              "\n",
              "    [theme=dark] .colab-df-convert:hover {\n",
              "      background-color: #434B5C;\n",
              "      box-shadow: 0px 1px 3px 1px rgba(0, 0, 0, 0.15);\n",
              "      filter: drop-shadow(0px 1px 2px rgba(0, 0, 0, 0.3));\n",
              "      fill: #FFFFFF;\n",
              "    }\n",
              "  </style>\n",
              "\n",
              "      <script>\n",
              "        const buttonEl =\n",
              "          document.querySelector('#df-29089fa5-f7a7-4106-a063-51c54ad040bd button.colab-df-convert');\n",
              "        buttonEl.style.display =\n",
              "          google.colab.kernel.accessAllowed ? 'block' : 'none';\n",
              "\n",
              "        async function convertToInteractive(key) {\n",
              "          const element = document.querySelector('#df-29089fa5-f7a7-4106-a063-51c54ad040bd');\n",
              "          const dataTable =\n",
              "            await google.colab.kernel.invokeFunction('convertToInteractive',\n",
              "                                                     [key], {});\n",
              "          if (!dataTable) return;\n",
              "\n",
              "          const docLinkHtml = 'Like what you see? Visit the ' +\n",
              "            '<a target=\"_blank\" href=https://colab.research.google.com/notebooks/data_table.ipynb>data table notebook</a>'\n",
              "            + ' to learn more about interactive tables.';\n",
              "          element.innerHTML = '';\n",
              "          dataTable['output_type'] = 'display_data';\n",
              "          await google.colab.output.renderOutput(dataTable, element);\n",
              "          const docLink = document.createElement('div');\n",
              "          docLink.innerHTML = docLinkHtml;\n",
              "          element.appendChild(docLink);\n",
              "        }\n",
              "      </script>\n",
              "    </div>\n",
              "  </div>\n",
              "  "
            ]
          },
          "metadata": {},
          "execution_count": 80
        }
      ],
      "source": [
        "#mengambil rules yang mengandung \"highBuyer\" dengan lift tertinggi\n",
        "prod = apr_c2[apr_c2['antecedents'].astype(str).str.contains(\"highBuyer\", na=False)].sort_values(by='lift', ascending=False)\n",
        "prod.head()"
      ]
    },
    {
      "cell_type": "markdown",
      "metadata": {
        "id": "l_l33LjJf0D3"
      },
      "source": [
        "\n",
        "\n",
        "Berdasarkan metode apriori, karakteristik yang paling mencolok dari cluster 2 adalah pembelian dengan jumlah menengah untuk produk meat, fruit, fish, sweet. Sedangkan untuk produk yang paling banyak terjual pada cluster ini adalah produk wine, yang biasanya dibeli bersamaan dengan meat, fruit, fish, dan sweet"
      ]
    },
    {
      "cell_type": "markdown",
      "source": [
        "#**J. EVALUATION APRIORI**"
      ],
      "metadata": {
        "id": "yaNxinYN0oZK"
      }
    },
    {
      "cell_type": "markdown",
      "source": [
        "Berdasarkan metode apriori yang telah dilakukan, maka dapat ditarik kesimpulan sebagai berikut:\n",
        "\n",
        "\n",
        "\n",
        "1.   Berdasarkan metoe apriori, karakteristik yang paling mencolok dari cluster 0 adalah pembelian yang rendah untuk produk ikan dan manisan , jumlah pembelian produk menegah untuk produk daging dan buah-buhan, dan jumlah pembelian produk yang tinggi untuk produk anggur. Sedangkan untuk produk yang paling banyak terjual pada cluster ini adalah produk anggur , yang biasanya dibeli bersamaan dengan ikan, buah-buahan dan daging.ggur , yang biasanya dibeli bersamaan dengan ikan, buah-buahan dan daging\n",
        "\n",
        "2.  Berdasarkan metode apriori, karakteristik yang paling mencolok dari cluster 1 adalah pembelian dengan jumlah rendah-menengah untuk produk anggur  dan  daging dan pembelian produk dengan jumlah medium untuk ikan, manisan, dan emas. Sedangkan untuk produk yang paling banyak terjual pada cluster ini adalah produk emas denga pembelian bersama anggur atau daging, atau keduanya.\n",
        "\n",
        "3. Berdasarkan metode apriori, karakteristik yang paling mencolok dari cluster 2 adalah pembelian dengan jumlah menengah untuk produk meat, fruit, fish, sweet. Sedangkan untuk produk yang paling banyak terjual pada cluster ini adalah produk wine, yang biasanya dibeli bersamaan dengan meat, fruit, fish, dan sweet\n",
        "\n"
      ],
      "metadata": {
        "id": "gaoRaTzF0vBj"
      }
    },
    {
      "cell_type": "markdown",
      "source": [
        "##**K. FEEDBACK**"
      ],
      "metadata": {
        "id": "msSTxguwgZof"
      }
    },
    {
      "cell_type": "markdown",
      "source": [
        "Feedback dari proyek kali ini adalah diharapkan bisa ditingkatkan pada saat mengimplementasikan algoritma nya. Mungkin bisa dicoba dengan menggunakan algoritma lain untuk pembandingnya."
      ],
      "metadata": {
        "id": "uNQZLLfb0fnK"
      }
    }
  ],
  "metadata": {
    "colab": {
      "collapsed_sections": [
        "T7AQu5WtCTyd",
        "eMH8mJIvCTye"
      ],
      "provenance": []
    },
    "kernelspec": {
      "display_name": "Python 3",
      "name": "python3"
    },
    "language_info": {
      "name": "python"
    }
  },
  "nbformat": 4,
  "nbformat_minor": 0
}
